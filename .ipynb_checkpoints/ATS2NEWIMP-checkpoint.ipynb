{
 "cells": [
  {
   "cell_type": "code",
   "execution_count": 111,
   "metadata": {},
   "outputs": [],
   "source": [
    "# Never do this, but warnings are annoying so I'm blocking them\n",
    "import warnings\n",
    "warnings.filterwarnings(\"ignore\")\n",
    "\n",
    "import  keras.layers  as  klayers \n",
    "from keras.preprocessing.text import text_to_word_sequence\n",
    "from keras.preprocessing.sequence import pad_sequences\n",
    "from keras.layers import Dense, LSTM, Input, Embedding, GlobalAveragePooling1D, Concatenate, Activation, Lambda, BatchNormalization, Convolution1D, Dropout\n",
    "from keras.layers.recurrent import SimpleRNN, LSTM, GRU\n",
    "from keras.preprocessing.text import Tokenizer\n",
    "import numpy as np\n",
    "import nltk\n",
    "from sklearn.metrics import cohen_kappa_score\n",
    "from keras.models import Model\n",
    "from keras import backend as K\n",
    "from keras.engine.topology import Layer, InputSpec\n",
    "from keras.optimizers import Adam\n",
    "from keras.callbacks import EarlyStopping\n",
    "from keras import regularizers\n",
    "from keras import initializers\n",
    "from scipy import stats\n",
    "\n",
    "import matplotlib.pyplot as plt\n",
    "from skll.metrics import kappa\n",
    "\n",
    "# Import custom NEA layers & Keras layers\n",
    "from nea import Attention, MeanOverTime, Conv1DWithMasking\n",
    "from ats import Temporal_Mean_Pooling, Neural_Tensor_layer"
   ]
  },
  {
   "cell_type": "code",
   "execution_count": 62,
   "metadata": {},
   "outputs": [
    {
     "name": "stdout",
     "output_type": "stream",
     "text": [
      "Embedding done\n"
     ]
    }
   ],
   "source": [
    "EMBEDDING_DIM=300\n",
    "MAX_NB_WORDS=4000\n",
    "\n",
    "MAX_SEQUENCE_LENGTH=500\n",
    "VALIDATION_SPLIT=0.30\n",
    "TEST_SPLIT=0.50\n",
    "DELTA=20\n",
    "\n",
    "texts=[]\n",
    "labels=[]\n",
    "sentences=[]\n",
    "\n",
    "originals = []\n",
    "\n",
    "fp1=open(\"glove.6B.300d.txt\",\"r\", encoding=\"utf8\")\n",
    "glove_emb={}\n",
    "for line in fp1:\n",
    "    temp=line.split(\" \")\n",
    "    glove_emb[temp[0]]=np.asarray([float(i) for i in temp[1:]])\n",
    "\n",
    "print(\"Embedding done\")"
   ]
  },
  {
   "cell_type": "code",
   "execution_count": 63,
   "metadata": {},
   "outputs": [
    {
     "name": "stdout",
     "output_type": "stream",
     "text": [
      "range min -  2.0  ; range max -  12.0\n"
     ]
    }
   ],
   "source": [
    "essay_type = '1'\n",
    "\n",
    "fp=open(\"data/training_set.tsv\",'r', encoding=\"ascii\", errors=\"ignore\")\n",
    "fp.readline()\n",
    "for line in fp:\n",
    "    temp=line.split(\"\\t\")\n",
    "    if(temp[1]==essay_type): ## why only 4 ?? - evals in prompt specific fashion\n",
    "        originals.append(float(temp[6]))\n",
    "fp.close()\n",
    "\n",
    "print(\"range min - \", min(originals) , \" ; range max - \", max(originals))\n",
    "range_min = min(originals)\n",
    "range_max = max(originals)\n",
    "\n",
    "fp=open(\"data/training_set.tsv\",'r', encoding=\"ascii\", errors=\"ignore\")\n",
    "fp.readline()\n",
    "sentences=[]\n",
    "for line in fp:\n",
    "    temp=line.split(\"\\t\")\n",
    "    if(temp[1]==essay_type): ## why only 4 ?? - evals in prompt specific fashion\n",
    "        texts.append(temp[2])\n",
    "        labels.append((float(temp[6])-range_min)/(range_max-range_min)) ## why ??  - normalize to range [0-1]\n",
    "        line=temp[2].strip()\n",
    "        sentences.append(nltk.tokenize.word_tokenize(line))\n",
    "\n",
    "fp.close()"
   ]
  },
  {
   "cell_type": "code",
   "execution_count": 64,
   "metadata": {},
   "outputs": [
    {
     "name": "stdout",
     "output_type": "stream",
     "text": [
      "text labels appended 1783\n"
     ]
    }
   ],
   "source": [
    "print(\"text labels appended %s\" %len(texts))\n",
    "labels=np.asarray(labels)"
   ]
  },
  {
   "cell_type": "code",
   "execution_count": 65,
   "metadata": {},
   "outputs": [],
   "source": [
    "for i in sentences:\n",
    "    temp1=np.zeros((1, EMBEDDING_DIM))\n",
    "    for w in i:\n",
    "        if(w in glove_emb):\n",
    "            temp1+=glove_emb[w]\n",
    "    temp1/=len(i)"
   ]
  },
  {
   "cell_type": "code",
   "execution_count": 66,
   "metadata": {},
   "outputs": [
    {
     "name": "stdout",
     "output_type": "stream",
     "text": [
      "Found 16200 unique tokens.\n",
      "Shape of data tensor: (1783, 500)\n"
     ]
    }
   ],
   "source": [
    "tokenizer=Tokenizer() #num_words=MAX_NB_WORDS) #limits vocabulory size\n",
    "tokenizer.fit_on_texts(texts)\n",
    "sequences=tokenizer.texts_to_sequences(texts) #returns list of sequences\n",
    "word_index=tokenizer.word_index #dictionary mapping\n",
    "print('Found %s unique tokens.' % len(word_index))\n",
    "\n",
    "data = pad_sequences(sequences, maxlen=MAX_SEQUENCE_LENGTH)\n",
    "print('Shape of data tensor:', data.shape)"
   ]
  },
  {
   "cell_type": "code",
   "execution_count": 67,
   "metadata": {},
   "outputs": [],
   "source": [
    "indices=np.arange(data.shape[0])\n",
    "np.random.shuffle(indices)\n",
    "data=data[indices]\n",
    "labels=labels[indices]\n",
    "validation_size=int(VALIDATION_SPLIT*data.shape[0])"
   ]
  },
  {
   "cell_type": "code",
   "execution_count": 68,
   "metadata": {},
   "outputs": [],
   "source": [
    "x_train=data[:-validation_size]\n",
    "y_train=labels[:-validation_size]\n",
    "x_notrain=data[-validation_size:]\n",
    "y_notrain=labels[-validation_size:]\n",
    "\n",
    "test_size=int(TEST_SPLIT*x_notrain.shape[0])\n",
    "x_val=x_notrain[:-test_size]\n",
    "y_val=y_notrain[:-test_size]\n",
    "x_test=x_notrain[-test_size:]\n",
    "y_test=y_notrain[-test_size:]"
   ]
  },
  {
   "cell_type": "code",
   "execution_count": 69,
   "metadata": {},
   "outputs": [],
   "source": [
    "embedding_matrix = np.zeros((len(word_index), EMBEDDING_DIM))"
   ]
  },
  {
   "cell_type": "code",
   "execution_count": 70,
   "metadata": {},
   "outputs": [],
   "source": [
    "for word,i in word_index.items():\n",
    "    if(i>=len(word_index)):\n",
    "        continue\n",
    "    if word in glove_emb:\n",
    "            embedding_matrix[i]=glove_emb[word]\n",
    "vocab_size=len(word_index)"
   ]
  },
  {
   "cell_type": "code",
   "execution_count": 71,
   "metadata": {},
   "outputs": [],
   "source": [
    "embedding_layer=Embedding(vocab_size,EMBEDDING_DIM,weights=[embedding_matrix],\n",
    "                                input_length=MAX_SEQUENCE_LENGTH,\n",
    "                                mask_zero=True,\n",
    "                                trainable=False)\n",
    "side_embedding_layer=Embedding(vocab_size,EMBEDDING_DIM,weights=[embedding_matrix],\n",
    "                                input_length=MAX_SEQUENCE_LENGTH,\n",
    "                                mask_zero=False,\n",
    "                                trainable=False)"
   ]
  },
  {
   "cell_type": "markdown",
   "metadata": {},
   "source": [
    "# Defining Networks\n",
    "Each network is defined with its own function"
   ]
  },
  {
   "cell_type": "code",
   "execution_count": 157,
   "metadata": {},
   "outputs": [],
   "source": [
    "def get_optimizer(opt):\n",
    "\n",
    "    clipvalue = 0\n",
    "    clipnorm = 10\n",
    "\n",
    "    if opt == 'rmsprop':\n",
    "        optimizer = RMSprop(lr=0.001, rho=0.9, epsilon=1e-06, clipnorm=clipnorm, clipvalue=clipvalue)\n",
    "    elif opt == 'sgd':\n",
    "        optimizer = SGD(lr=0.01, momentum=0.0, decay=0.0, nesterov=False, clipnorm=clipnorm, clipvalue=clipvalue)\n",
    "    elif opt == 'adagrad':\n",
    "        optimizer = Adagrad(lr=0.01, epsilon=1e-06, clipnorm=clipnorm, clipvalue=clipvalue)\n",
    "    elif opt == 'adadelta':\n",
    "        optimizer = Adadelta(lr=1.0, rho=0.95, epsilon=1e-06, clipnorm=clipnorm, clipvalue=clipvalue)\n",
    "    elif opt == 'adam':\n",
    "        optimizer = Adam(lr=0.001, beta_1=0.9, beta_2=0.999, epsilon=1e-08, clipnorm=clipnorm, clipvalue=clipvalue)\n",
    "    elif opt == 'adamax':\n",
    "        optimizer = Adamax(lr=0.002, beta_1=0.9, beta_2=0.999, epsilon=1e-08, clipnorm=clipnorm, clipvalue=clipvalue)\n",
    "    \n",
    "    return optimizer"
   ]
  },
  {
   "cell_type": "code",
   "execution_count": null,
   "metadata": {},
   "outputs": [],
   "source": [
    "# B-LSTM Layer DEPRECIATED; DROPOUT_PROB NEEDS TO BE 0\n",
    "    elif method == 'blstm': \n",
    "        if args.rnn_dim > 0:\n",
    "            forwards = RNN(args.rnn_dim, return_sequences=True, dropout_W=dropout_W, dropout_U=dropout_U)(embed)\n",
    "            backwards = RNN(args.rnn_dim, return_sequences=True, dropout_W=dropout_W, dropout_U=dropout_U, go_backwards=True)(embed)\n",
    "        if args.dropout_prob > 0:\n",
    "            forwards = Dropout(args.dropout_prob)(forwards)\n",
    "            backwards = Dropout(args.dropout_prob)(backwards)\n",
    "        forwards_mean = MeanOverTime(mask_zero=True)(forwards)\n",
    "        backwards_mean = MeanOverTime(mask_zero=True)(backwards)\n",
    "        merged = merge([forwards_mean, backwards_mean], mode='concat', concat_axis=-1)\n",
    "        drop = Dense(num_outputs)(merged)"
   ]
  },
  {
   "cell_type": "code",
   "execution_count": 158,
   "metadata": {},
   "outputs": [],
   "source": [
    "# Various Neural Networks\n",
    "def network(rnn_dim=300, k=5, activation=\"relu\", maxlen=MAX_SEQUENCE_LENGTH, seed=None):\n",
    "    # Hyperparameters\n",
    "    method='lstm'     # gru, rnn, lstm\n",
    "    optimizer = 'adam'# def: adam\n",
    "    aggregation='tmp' # tmp (ATS), mot (NEA), attsum, attmean, or nothing\n",
    "    dropout_prob=0    # def: 0.5; '0' for no dropout\n",
    "    cnn_dim=0         # '0' mean no CNN layer\n",
    "    cnn_window_size=3 # def: 3\n",
    "    dropout_W = 0.5   #\n",
    "    dropout_U = 0.1   #\n",
    "    cnn_border_mode='same' #\n",
    "    \n",
    "    # Embedding Layer\n",
    "    e = Input(name='essay',shape=(maxlen,))\n",
    "    embed = embedding_layer(e)\n",
    "\n",
    "    # Optional Convolutional Layer\n",
    "    if cnn_dim > 0:\n",
    "        cnn_layer=Conv1DWithMasking(nb_filter=cnn_dim, filter_length=cnn_window_size, border_mode=cnn_border_mode, subsample_length=1)(embed)\n",
    "        embed=cnn_layer\n",
    "    \n",
    "    # Network Layer\n",
    "    if method == 'lstm': # Typically uses 'tmp' aggregation method\n",
    "        lstm_layer=LSTM(rnn_dim,return_sequences=True) \n",
    "        hidden_states=lstm_layer(embed)\n",
    "    elif method == 'rnn': \n",
    "        rnn_layer=SimpleRNN(rnn_dim, return_sequences=True, dropout_W=dropout_W, dropout_U=dropout_U)\n",
    "        hidden_states=rnn_layer(embed)\n",
    "    elif method == 'gru': \n",
    "        rnn_layer=GRU(rnn_dim, return_sequences=True, dropout_W=dropout_W, dropout_U=dropout_U)\n",
    "        hidden_states=rnn_layer(embed)\n",
    "        \n",
    "    # Optional Dropout Layer\n",
    "    if dropout_prob > 0:\n",
    "        drop=Dropout(dropout_prob)(hidden_states)\n",
    "    else:\n",
    "        drop=hidden_states\n",
    "    \n",
    "    # Aggregation Methods\n",
    "    if aggregation == 'mot':\n",
    "        htm=MeanOverTime(mask_zero=True)(drop)\n",
    "    elif aggregation == 'tmp':\n",
    "        htm=Temporal_Mean_Pooling()(drop)\n",
    "    elif aggregation.startswith('att'):\n",
    "        htm=Attention(op=aggregation, activation='tanh', init_stdev=0.01)(drop)\n",
    "    \n",
    "    # Connected Hidden Layer\n",
    "    dense = Dense(256, activation=activation,kernel_initializer=initializers.glorot_normal(seed=seed))(htm)\n",
    "    dense = Dense(128, activation=activation,kernel_initializer=initializers.glorot_normal(seed=seed))(dense)\n",
    "    dense = Dense(64, activation=activation,kernel_initializer=initializers.glorot_normal(seed=seed))(dense)\n",
    "    out = Dense(1, activation=\"sigmoid\")(dense)\n",
    "    \n",
    "    # Model Compiler\n",
    "    model = Model(inputs=[e], outputs=[out])\n",
    "    model.compile(loss=\"mean_squared_error\", optimizer=get_optimizer(optimizer), metrics=[\"MSE\"])\n",
    "    return model"
   ]
  },
  {
   "cell_type": "code",
   "execution_count": 159,
   "metadata": {},
   "outputs": [],
   "source": [
    "earlystopping = EarlyStopping(monitor=\"val_MSE\", patience=5)\n",
    "sf_1 = network(rnn_dim=300, k=4, activation=\"relu\", seed=None)"
   ]
  },
  {
   "cell_type": "code",
   "execution_count": 160,
   "metadata": {},
   "outputs": [
    {
     "name": "stdout",
     "output_type": "stream",
     "text": [
      "Train on 1249 samples, validate on 267 samples\n",
      "Epoch 1/100\n",
      "1249/1249 [==============================] - 26s 20ms/step - loss: 0.0237 - MSE: 0.0237 - val_loss: 0.0219 - val_MSE: 0.0219\n",
      "Epoch 2/100\n",
      "1249/1249 [==============================] - 25s 20ms/step - loss: 0.0195 - MSE: 0.0195 - val_loss: 0.0253 - val_MSE: 0.0253\n",
      "Epoch 3/100\n",
      "1249/1249 [==============================] - 25s 20ms/step - loss: 0.0198 - MSE: 0.0198 - val_loss: 0.0233 - val_MSE: 0.0233\n",
      "Epoch 4/100\n",
      "1249/1249 [==============================] - 26s 20ms/step - loss: 0.0195 - MSE: 0.0195 - val_loss: 0.0203 - val_MSE: 0.0203\n",
      "Epoch 5/100\n",
      "1249/1249 [==============================] - 26s 20ms/step - loss: 0.0160 - MSE: 0.0160 - val_loss: 0.0212 - val_MSE: 0.0212\n",
      "Epoch 6/100\n",
      "1249/1249 [==============================] - 25s 20ms/step - loss: 0.0147 - MSE: 0.0147 - val_loss: 0.0153 - val_MSE: 0.0153\n",
      "Epoch 7/100\n",
      "1249/1249 [==============================] - 26s 21ms/step - loss: 0.0139 - MSE: 0.0139 - val_loss: 0.0147 - val_MSE: 0.0147\n",
      "Epoch 8/100\n",
      "1249/1249 [==============================] - 26s 20ms/step - loss: 0.0127 - MSE: 0.0127 - val_loss: 0.0153 - val_MSE: 0.0153\n",
      "Epoch 9/100\n",
      "1249/1249 [==============================] - 26s 21ms/step - loss: 0.0128 - MSE: 0.0128 - val_loss: 0.0129 - val_MSE: 0.0129\n",
      "Epoch 10/100\n",
      "1249/1249 [==============================] - 25s 20ms/step - loss: 0.0111 - MSE: 0.0111 - val_loss: 0.0123 - val_MSE: 0.0123\n",
      "Epoch 11/100\n",
      "1249/1249 [==============================] - 25s 20ms/step - loss: 0.0097 - MSE: 0.0097 - val_loss: 0.0119 - val_MSE: 0.0119\n",
      "Epoch 12/100\n",
      "1249/1249 [==============================] - 25s 20ms/step - loss: 0.0114 - MSE: 0.0114 - val_loss: 0.0117 - val_MSE: 0.0117\n",
      "Epoch 13/100\n",
      "1249/1249 [==============================] - 25s 20ms/step - loss: 0.0085 - MSE: 0.0085 - val_loss: 0.0100 - val_MSE: 0.0100\n",
      "Epoch 14/100\n",
      "1249/1249 [==============================] - 24s 20ms/step - loss: 0.0086 - MSE: 0.0086 - val_loss: 0.0110 - val_MSE: 0.0110\n",
      "Epoch 15/100\n",
      "1249/1249 [==============================] - 25s 20ms/step - loss: 0.0085 - MSE: 0.0085 - val_loss: 0.0134 - val_MSE: 0.0134\n",
      "Epoch 16/100\n",
      "1249/1249 [==============================] - 25s 20ms/step - loss: 0.0087 - MSE: 0.0087 - val_loss: 0.0102 - val_MSE: 0.0102\n",
      "Epoch 17/100\n",
      "1249/1249 [==============================] - 25s 20ms/step - loss: 0.0077 - MSE: 0.0077 - val_loss: 0.0071 - val_MSE: 0.0071\n",
      "Epoch 18/100\n",
      "1249/1249 [==============================] - 25s 20ms/step - loss: 0.0067 - MSE: 0.0067 - val_loss: 0.0066 - val_MSE: 0.0066\n",
      "Epoch 19/100\n",
      "1249/1249 [==============================] - 25s 20ms/step - loss: 0.0062 - MSE: 0.0062 - val_loss: 0.0064 - val_MSE: 0.0064\n",
      "Epoch 20/100\n",
      "1249/1249 [==============================] - 25s 20ms/step - loss: 0.0059 - MSE: 0.0059 - val_loss: 0.0066 - val_MSE: 0.0066\n",
      "Epoch 21/100\n",
      "1249/1249 [==============================] - 26s 21ms/step - loss: 0.0068 - MSE: 0.0068 - val_loss: 0.0077 - val_MSE: 0.0077\n",
      "Epoch 22/100\n",
      "1249/1249 [==============================] - 25s 20ms/step - loss: 0.0071 - MSE: 0.0071 - val_loss: 0.0089 - val_MSE: 0.0089\n",
      "Epoch 23/100\n",
      "1249/1249 [==============================] - 25s 20ms/step - loss: 0.0060 - MSE: 0.0060 - val_loss: 0.0068 - val_MSE: 0.0068\n",
      "Epoch 24/100\n",
      "1249/1249 [==============================] - 25s 20ms/step - loss: 0.0056 - MSE: 0.0056 - val_loss: 0.0068 - val_MSE: 0.0068\n"
     ]
    }
   ],
   "source": [
    "hist = sf_1.fit([x_train], y_train, batch_size=32, epochs=100,   # Batch: 1024, Epoch: 1000\n",
    "                validation_data=([x_val], y_val), callbacks=[earlystopping])"
   ]
  },
  {
   "cell_type": "code",
   "execution_count": 162,
   "metadata": {},
   "outputs": [
    {
     "name": "stdout",
     "output_type": "stream",
     "text": [
      "0.8131736657204076\n"
     ]
    }
   ],
   "source": [
    "y_pred=sf_1.predict([x_test])\n",
    "y_val_fin = [int(round(a*(range_max-range_min)+range_min)) for a in y_test]\n",
    "y_pred_fin =[int(round(a*(range_max-range_min)+range_min)) for a in y_pred.reshape(x_test.shape[0]).tolist()]\n",
    "print(cohen_kappa_score(y_val_fin,y_pred_fin,weights=\"quadratic\"))"
   ]
  },
  {
   "cell_type": "code",
   "execution_count": 185,
   "metadata": {},
   "outputs": [
    {
     "data": {
      "image/png": "[encoded data removed]",
      "text/plain": [
       "<Figure size 432x288 with 1 Axes>"
      ]
     },
     "metadata": {
      "needs_background": "light"
     },
     "output_type": "display_data"
    }
   ],
   "source": [
    "# Plot training & validation loss values\n",
    "plt.plot(hist.history['MSE'])\n",
    "plt.plot(hist.history['val_MSE'])\n",
    "plt.title('Model MSE')\n",
    "plt.ylabel('Loss')\n",
    "plt.xlabel('Epoch')\n",
    "plt.legend(['Train', 'Validation'], loc='upper left')\n",
    "plt.show()"
   ]
  },
  {
   "cell_type": "code",
   "execution_count": 140,
   "metadata": {},
   "outputs": [],
   "source": [
    "sf_1.save('models/1_model.h5')\n",
    "sf_1.save_weights('models/1_weights.h5')"
   ]
  },
  {
   "cell_type": "code",
   "execution_count": 184,
   "metadata": {
    "collapsed": true,
    "jupyter": {
     "outputs_hidden": true
    }
   },
   "outputs": [
    {
     "data": {
      "text/plain": [
       "array([[10.32128  ],\n",
       "       [ 8.844599 ],\n",
       "       [ 8.282381 ],\n",
       "       [ 8.52111  ],\n",
       "       [ 8.969206 ],\n",
       "       [10.212404 ],\n",
       "       [ 7.7200203],\n",
       "       [ 7.6420383],\n",
       "       [ 8.970465 ],\n",
       "       [ 8.26535  ],\n",
       "       [ 6.2016106],\n",
       "       [ 9.003227 ],\n",
       "       [ 7.054497 ],\n",
       "       [ 7.8590736],\n",
       "       [ 8.160944 ],\n",
       "       [ 7.982209 ],\n",
       "       [ 9.014226 ],\n",
       "       [ 7.258068 ],\n",
       "       [ 9.9796715],\n",
       "       [ 9.508163 ],\n",
       "       [ 9.166115 ],\n",
       "       [10.899553 ],\n",
       "       [ 8.269329 ],\n",
       "       [ 9.8759   ],\n",
       "       [ 8.251399 ],\n",
       "       [ 7.9591384],\n",
       "       [ 7.2085743],\n",
       "       [ 4.4922957],\n",
       "       [ 8.48302  ],\n",
       "       [10.792907 ],\n",
       "       [ 7.9738345],\n",
       "       [ 7.845561 ],\n",
       "       [ 6.636336 ],\n",
       "       [ 8.918623 ],\n",
       "       [ 9.246514 ],\n",
       "       [ 8.841642 ],\n",
       "       [ 8.738548 ],\n",
       "       [ 7.2924232],\n",
       "       [ 8.362157 ],\n",
       "       [ 8.517543 ],\n",
       "       [ 7.6606045],\n",
       "       [11.268282 ],\n",
       "       [ 8.075431 ],\n",
       "       [ 8.584217 ],\n",
       "       [11.042696 ],\n",
       "       [ 6.231432 ],\n",
       "       [ 8.449079 ],\n",
       "       [ 5.2864084],\n",
       "       [ 8.625653 ],\n",
       "       [ 8.521732 ],\n",
       "       [ 7.9322124],\n",
       "       [ 9.700594 ],\n",
       "       [ 9.403965 ],\n",
       "       [ 9.295426 ],\n",
       "       [ 2.0203874],\n",
       "       [ 9.131077 ],\n",
       "       [ 7.7955384],\n",
       "       [ 8.382175 ],\n",
       "       [ 7.5616236],\n",
       "       [10.702185 ],\n",
       "       [ 6.5830016],\n",
       "       [ 8.250377 ],\n",
       "       [ 9.371889 ],\n",
       "       [ 8.782085 ],\n",
       "       [ 7.290538 ],\n",
       "       [ 8.127487 ],\n",
       "       [ 9.5347805],\n",
       "       [ 9.26951  ],\n",
       "       [ 9.467751 ],\n",
       "       [10.866871 ],\n",
       "       [ 9.293753 ],\n",
       "       [ 9.454048 ],\n",
       "       [ 8.713459 ],\n",
       "       [10.167839 ],\n",
       "       [ 8.597161 ],\n",
       "       [ 9.219004 ],\n",
       "       [11.075438 ],\n",
       "       [ 8.127182 ],\n",
       "       [ 9.704504 ],\n",
       "       [ 9.488564 ],\n",
       "       [ 9.369284 ],\n",
       "       [ 8.629116 ],\n",
       "       [ 5.8127255],\n",
       "       [ 9.08729  ],\n",
       "       [ 8.802853 ],\n",
       "       [ 8.68767  ],\n",
       "       [ 8.552686 ],\n",
       "       [ 8.207413 ],\n",
       "       [ 8.324306 ],\n",
       "       [ 7.7704773],\n",
       "       [ 6.039907 ],\n",
       "       [ 7.6907916],\n",
       "       [10.049717 ],\n",
       "       [ 9.016638 ],\n",
       "       [ 7.506642 ],\n",
       "       [10.8387   ],\n",
       "       [ 9.404142 ],\n",
       "       [ 9.074661 ],\n",
       "       [ 7.131753 ],\n",
       "       [ 8.16739  ],\n",
       "       [ 7.9630766],\n",
       "       [ 8.199541 ],\n",
       "       [ 8.052942 ],\n",
       "       [10.5240555],\n",
       "       [10.174776 ],\n",
       "       [ 8.7521515],\n",
       "       [ 7.9297566],\n",
       "       [ 7.980589 ],\n",
       "       [ 9.413216 ],\n",
       "       [ 7.3874836],\n",
       "       [ 8.916212 ],\n",
       "       [ 8.014784 ],\n",
       "       [ 8.54015  ],\n",
       "       [ 9.051253 ],\n",
       "       [ 8.685014 ],\n",
       "       [ 7.662983 ],\n",
       "       [ 5.978838 ],\n",
       "       [ 8.580201 ],\n",
       "       [ 7.531108 ],\n",
       "       [ 8.706547 ],\n",
       "       [10.6522045],\n",
       "       [10.524579 ],\n",
       "       [ 8.748619 ],\n",
       "       [10.941803 ],\n",
       "       [ 8.20026  ],\n",
       "       [ 9.015081 ],\n",
       "       [ 7.2915363],\n",
       "       [ 9.58049  ],\n",
       "       [ 7.052345 ],\n",
       "       [ 8.605187 ],\n",
       "       [10.248439 ],\n",
       "       [ 8.656651 ],\n",
       "       [ 8.114698 ],\n",
       "       [ 8.7403555],\n",
       "       [ 9.496211 ],\n",
       "       [ 8.023941 ],\n",
       "       [ 9.077366 ],\n",
       "       [ 8.808264 ],\n",
       "       [ 9.66909  ],\n",
       "       [ 7.887778 ],\n",
       "       [ 8.364925 ],\n",
       "       [10.026134 ],\n",
       "       [ 9.64439  ],\n",
       "       [ 9.898731 ],\n",
       "       [11.046883 ],\n",
       "       [ 8.1743   ],\n",
       "       [10.829644 ],\n",
       "       [10.422433 ],\n",
       "       [ 8.234074 ],\n",
       "       [ 8.3267975],\n",
       "       [ 8.414548 ],\n",
       "       [ 9.219235 ],\n",
       "       [10.853078 ],\n",
       "       [ 8.821841 ],\n",
       "       [ 8.865286 ],\n",
       "       [ 7.9362116],\n",
       "       [11.054984 ],\n",
       "       [ 8.671449 ],\n",
       "       [ 8.344868 ],\n",
       "       [ 8.066994 ],\n",
       "       [ 7.805771 ],\n",
       "       [10.194186 ],\n",
       "       [ 7.7304235],\n",
       "       [ 8.059929 ],\n",
       "       [ 7.5050116],\n",
       "       [ 8.719115 ],\n",
       "       [ 7.7671385],\n",
       "       [ 8.106005 ],\n",
       "       [ 9.457203 ],\n",
       "       [ 9.420604 ],\n",
       "       [ 8.434485 ],\n",
       "       [ 6.904243 ],\n",
       "       [ 9.700274 ],\n",
       "       [ 8.185127 ],\n",
       "       [ 8.786539 ],\n",
       "       [ 8.442815 ],\n",
       "       [ 7.58254  ],\n",
       "       [ 9.357559 ],\n",
       "       [ 8.238219 ],\n",
       "       [ 8.703976 ],\n",
       "       [ 8.905348 ],\n",
       "       [ 7.613895 ],\n",
       "       [ 9.535929 ],\n",
       "       [ 8.586706 ],\n",
       "       [ 8.086418 ],\n",
       "       [ 7.525571 ],\n",
       "       [ 8.6887   ],\n",
       "       [ 8.994101 ],\n",
       "       [ 8.390264 ],\n",
       "       [ 7.2821884],\n",
       "       [10.385546 ],\n",
       "       [ 8.696474 ],\n",
       "       [ 8.488042 ],\n",
       "       [ 7.8047676],\n",
       "       [ 8.248996 ],\n",
       "       [ 8.944032 ],\n",
       "       [ 8.911583 ],\n",
       "       [ 7.0720615],\n",
       "       [ 9.296661 ],\n",
       "       [ 8.637463 ],\n",
       "       [ 7.509511 ],\n",
       "       [ 9.62981  ],\n",
       "       [ 7.1301312],\n",
       "       [ 9.069921 ],\n",
       "       [10.116707 ],\n",
       "       [ 7.9454246],\n",
       "       [ 6.821091 ],\n",
       "       [ 8.187848 ],\n",
       "       [10.077078 ],\n",
       "       [ 8.199427 ],\n",
       "       [ 8.313879 ],\n",
       "       [ 9.0438595],\n",
       "       [10.814595 ],\n",
       "       [10.249186 ],\n",
       "       [ 8.960651 ],\n",
       "       [ 9.268299 ],\n",
       "       [ 8.365335 ],\n",
       "       [10.379108 ],\n",
       "       [ 7.881252 ],\n",
       "       [ 9.736792 ],\n",
       "       [ 9.27103  ],\n",
       "       [ 8.369982 ],\n",
       "       [ 9.032028 ],\n",
       "       [ 6.2494445],\n",
       "       [10.034482 ],\n",
       "       [ 7.335434 ],\n",
       "       [ 9.784937 ],\n",
       "       [ 9.455163 ],\n",
       "       [ 9.880008 ],\n",
       "       [ 6.5476313],\n",
       "       [ 8.097551 ],\n",
       "       [ 8.998483 ],\n",
       "       [10.144128 ],\n",
       "       [ 8.120659 ],\n",
       "       [ 8.114661 ],\n",
       "       [ 5.410601 ],\n",
       "       [ 8.138325 ],\n",
       "       [ 8.194145 ],\n",
       "       [ 8.570833 ],\n",
       "       [10.107544 ],\n",
       "       [ 8.232258 ],\n",
       "       [ 9.733309 ],\n",
       "       [ 9.498577 ],\n",
       "       [ 6.232618 ],\n",
       "       [10.676881 ],\n",
       "       [ 9.910973 ],\n",
       "       [ 8.7636385],\n",
       "       [ 8.862989 ],\n",
       "       [ 7.9240723],\n",
       "       [ 9.063871 ],\n",
       "       [10.062309 ],\n",
       "       [ 9.242708 ],\n",
       "       [ 7.6475825],\n",
       "       [ 8.462229 ],\n",
       "       [ 9.170261 ],\n",
       "       [ 8.12834  ],\n",
       "       [ 8.471149 ],\n",
       "       [ 8.800741 ],\n",
       "       [ 8.741529 ],\n",
       "       [ 7.4778433],\n",
       "       [ 8.915107 ],\n",
       "       [ 7.791282 ],\n",
       "       [ 8.904137 ],\n",
       "       [ 3.274407 ],\n",
       "       [ 9.342892 ],\n",
       "       [ 8.793182 ],\n",
       "       [ 7.089257 ]], dtype=float32)"
      ]
     },
     "execution_count": 184,
     "metadata": {},
     "output_type": "execute_result"
    }
   ],
   "source": [
    "y_pred*(range_max-range_min)+range_min"
   ]
  },
  {
   "cell_type": "code",
   "execution_count": 127,
   "metadata": {
    "collapsed": true,
    "jupyter": {
     "outputs_hidden": true
    }
   },
   "outputs": [
    {
     "ename": "AttributeError",
     "evalue": "module 'os' has no attribute 'errno'",
     "output_type": "error",
     "traceback": [
      "\u001b[1;31m---------------------------------------------------------------------------\u001b[0m",
      "\u001b[1;31mFileNotFoundError\u001b[0m                         Traceback (most recent call last)",
      "\u001b[1;32m~\\Anaconda3\\lib\\site-packages\\pydot.py\u001b[0m in \u001b[0;36mcreate\u001b[1;34m(self, prog, format)\u001b[0m\n\u001b[0;32m   1877\u001b[0m                 \u001b[0mshell\u001b[0m\u001b[1;33m=\u001b[0m\u001b[1;32mFalse\u001b[0m\u001b[1;33m,\u001b[0m\u001b[1;33m\u001b[0m\u001b[1;33m\u001b[0m\u001b[0m\n\u001b[1;32m-> 1878\u001b[1;33m                 stderr=subprocess.PIPE, stdout=subprocess.PIPE)\n\u001b[0m\u001b[0;32m   1879\u001b[0m         \u001b[1;32mexcept\u001b[0m \u001b[0mOSError\u001b[0m \u001b[1;32mas\u001b[0m \u001b[0me\u001b[0m\u001b[1;33m:\u001b[0m\u001b[1;33m\u001b[0m\u001b[1;33m\u001b[0m\u001b[0m\n",
      "\u001b[1;32m~\\Anaconda3\\lib\\subprocess.py\u001b[0m in \u001b[0;36m__init__\u001b[1;34m(self, args, bufsize, executable, stdin, stdout, stderr, preexec_fn, close_fds, shell, cwd, env, universal_newlines, startupinfo, creationflags, restore_signals, start_new_session, pass_fds, encoding, errors, text)\u001b[0m\n\u001b[0;32m    774\u001b[0m                                 \u001b[0merrread\u001b[0m\u001b[1;33m,\u001b[0m \u001b[0merrwrite\u001b[0m\u001b[1;33m,\u001b[0m\u001b[1;33m\u001b[0m\u001b[1;33m\u001b[0m\u001b[0m\n\u001b[1;32m--> 775\u001b[1;33m                                 restore_signals, start_new_session)\n\u001b[0m\u001b[0;32m    776\u001b[0m         \u001b[1;32mexcept\u001b[0m\u001b[1;33m:\u001b[0m\u001b[1;33m\u001b[0m\u001b[1;33m\u001b[0m\u001b[0m\n",
      "\u001b[1;32m~\\Anaconda3\\lib\\subprocess.py\u001b[0m in \u001b[0;36m_execute_child\u001b[1;34m(self, args, executable, preexec_fn, close_fds, pass_fds, cwd, env, startupinfo, creationflags, shell, p2cread, p2cwrite, c2pread, c2pwrite, errread, errwrite, unused_restore_signals, unused_start_new_session)\u001b[0m\n\u001b[0;32m   1177\u001b[0m                                          \u001b[0mos\u001b[0m\u001b[1;33m.\u001b[0m\u001b[0mfspath\u001b[0m\u001b[1;33m(\u001b[0m\u001b[0mcwd\u001b[0m\u001b[1;33m)\u001b[0m \u001b[1;32mif\u001b[0m \u001b[0mcwd\u001b[0m \u001b[1;32mis\u001b[0m \u001b[1;32mnot\u001b[0m \u001b[1;32mNone\u001b[0m \u001b[1;32melse\u001b[0m \u001b[1;32mNone\u001b[0m\u001b[1;33m,\u001b[0m\u001b[1;33m\u001b[0m\u001b[1;33m\u001b[0m\u001b[0m\n\u001b[1;32m-> 1178\u001b[1;33m                                          startupinfo)\n\u001b[0m\u001b[0;32m   1179\u001b[0m             \u001b[1;32mfinally\u001b[0m\u001b[1;33m:\u001b[0m\u001b[1;33m\u001b[0m\u001b[1;33m\u001b[0m\u001b[0m\n",
      "\u001b[1;31mFileNotFoundError\u001b[0m: [WinError 2] The system cannot find the file specified",
      "\nDuring handling of the above exception, another exception occurred:\n",
      "\u001b[1;31mAttributeError\u001b[0m                            Traceback (most recent call last)",
      "\u001b[1;32m<ipython-input-127-d48265ed06d4>\u001b[0m in \u001b[0;36m<module>\u001b[1;34m\u001b[0m\n\u001b[0;32m      1\u001b[0m \u001b[1;32mfrom\u001b[0m \u001b[0mkeras\u001b[0m\u001b[1;33m.\u001b[0m\u001b[0mutils\u001b[0m \u001b[1;32mimport\u001b[0m \u001b[0mplot_model\u001b[0m\u001b[1;33m\u001b[0m\u001b[1;33m\u001b[0m\u001b[0m\n\u001b[1;32m----> 2\u001b[1;33m \u001b[0mplot_model\u001b[0m\u001b[1;33m(\u001b[0m\u001b[0mhist\u001b[0m\u001b[1;33m)\u001b[0m\u001b[1;33m\u001b[0m\u001b[1;33m\u001b[0m\u001b[0m\n\u001b[0m",
      "\u001b[1;32m~\\Anaconda3\\lib\\site-packages\\keras\\utils\\vis_utils.py\u001b[0m in \u001b[0;36mplot_model\u001b[1;34m(model, to_file, show_shapes, show_layer_names, rankdir, expand_nested, dpi)\u001b[0m\n\u001b[0;32m    238\u001b[0m     \"\"\"\n\u001b[0;32m    239\u001b[0m     dot = model_to_dot(model, show_shapes, show_layer_names, rankdir,\n\u001b[1;32m--> 240\u001b[1;33m                        expand_nested, dpi)\n\u001b[0m\u001b[0;32m    241\u001b[0m     \u001b[0m_\u001b[0m\u001b[1;33m,\u001b[0m \u001b[0mextension\u001b[0m \u001b[1;33m=\u001b[0m \u001b[0mos\u001b[0m\u001b[1;33m.\u001b[0m\u001b[0mpath\u001b[0m\u001b[1;33m.\u001b[0m\u001b[0msplitext\u001b[0m\u001b[1;33m(\u001b[0m\u001b[0mto_file\u001b[0m\u001b[1;33m)\u001b[0m\u001b[1;33m\u001b[0m\u001b[1;33m\u001b[0m\u001b[0m\n\u001b[0;32m    242\u001b[0m     \u001b[1;32mif\u001b[0m \u001b[1;32mnot\u001b[0m \u001b[0mextension\u001b[0m\u001b[1;33m:\u001b[0m\u001b[1;33m\u001b[0m\u001b[1;33m\u001b[0m\u001b[0m\n",
      "\u001b[1;32m~\\Anaconda3\\lib\\site-packages\\keras\\utils\\vis_utils.py\u001b[0m in \u001b[0;36mmodel_to_dot\u001b[1;34m(model, show_shapes, show_layer_names, rankdir, expand_nested, dpi, subgraph)\u001b[0m\n\u001b[0;32m     77\u001b[0m     \u001b[1;32mfrom\u001b[0m \u001b[1;33m.\u001b[0m\u001b[1;33m.\u001b[0m\u001b[0mmodels\u001b[0m \u001b[1;32mimport\u001b[0m \u001b[0mSequential\u001b[0m\u001b[1;33m\u001b[0m\u001b[1;33m\u001b[0m\u001b[0m\n\u001b[0;32m     78\u001b[0m \u001b[1;33m\u001b[0m\u001b[0m\n\u001b[1;32m---> 79\u001b[1;33m     \u001b[0m_check_pydot\u001b[0m\u001b[1;33m(\u001b[0m\u001b[1;33m)\u001b[0m\u001b[1;33m\u001b[0m\u001b[1;33m\u001b[0m\u001b[0m\n\u001b[0m\u001b[0;32m     80\u001b[0m     \u001b[1;32mif\u001b[0m \u001b[0msubgraph\u001b[0m\u001b[1;33m:\u001b[0m\u001b[1;33m\u001b[0m\u001b[1;33m\u001b[0m\u001b[0m\n\u001b[0;32m     81\u001b[0m         \u001b[0mdot\u001b[0m \u001b[1;33m=\u001b[0m \u001b[0mpydot\u001b[0m\u001b[1;33m.\u001b[0m\u001b[0mCluster\u001b[0m\u001b[1;33m(\u001b[0m\u001b[0mstyle\u001b[0m\u001b[1;33m=\u001b[0m\u001b[1;34m'dashed'\u001b[0m\u001b[1;33m,\u001b[0m \u001b[0mgraph_name\u001b[0m\u001b[1;33m=\u001b[0m\u001b[0mmodel\u001b[0m\u001b[1;33m.\u001b[0m\u001b[0mname\u001b[0m\u001b[1;33m)\u001b[0m\u001b[1;33m\u001b[0m\u001b[1;33m\u001b[0m\u001b[0m\n",
      "\u001b[1;32m~\\Anaconda3\\lib\\site-packages\\keras\\utils\\vis_utils.py\u001b[0m in \u001b[0;36m_check_pydot\u001b[1;34m()\u001b[0m\n\u001b[0;32m     26\u001b[0m         \u001b[1;31m# Attempt to create an image of a blank graph\u001b[0m\u001b[1;33m\u001b[0m\u001b[1;33m\u001b[0m\u001b[1;33m\u001b[0m\u001b[0m\n\u001b[0;32m     27\u001b[0m         \u001b[1;31m# to check the pydot/graphviz installation.\u001b[0m\u001b[1;33m\u001b[0m\u001b[1;33m\u001b[0m\u001b[1;33m\u001b[0m\u001b[0m\n\u001b[1;32m---> 28\u001b[1;33m         \u001b[0mpydot\u001b[0m\u001b[1;33m.\u001b[0m\u001b[0mDot\u001b[0m\u001b[1;33m.\u001b[0m\u001b[0mcreate\u001b[0m\u001b[1;33m(\u001b[0m\u001b[0mpydot\u001b[0m\u001b[1;33m.\u001b[0m\u001b[0mDot\u001b[0m\u001b[1;33m(\u001b[0m\u001b[1;33m)\u001b[0m\u001b[1;33m)\u001b[0m\u001b[1;33m\u001b[0m\u001b[1;33m\u001b[0m\u001b[0m\n\u001b[0m\u001b[0;32m     29\u001b[0m     \u001b[1;32mexcept\u001b[0m \u001b[0mOSError\u001b[0m\u001b[1;33m:\u001b[0m\u001b[1;33m\u001b[0m\u001b[1;33m\u001b[0m\u001b[0m\n\u001b[0;32m     30\u001b[0m         raise OSError(\n",
      "\u001b[1;32m~\\Anaconda3\\lib\\site-packages\\pydot.py\u001b[0m in \u001b[0;36mcreate\u001b[1;34m(self, prog, format)\u001b[0m\n\u001b[0;32m   1878\u001b[0m                 stderr=subprocess.PIPE, stdout=subprocess.PIPE)\n\u001b[0;32m   1879\u001b[0m         \u001b[1;32mexcept\u001b[0m \u001b[0mOSError\u001b[0m \u001b[1;32mas\u001b[0m \u001b[0me\u001b[0m\u001b[1;33m:\u001b[0m\u001b[1;33m\u001b[0m\u001b[1;33m\u001b[0m\u001b[0m\n\u001b[1;32m-> 1880\u001b[1;33m             \u001b[1;32mif\u001b[0m \u001b[0me\u001b[0m\u001b[1;33m.\u001b[0m\u001b[0merrno\u001b[0m \u001b[1;33m==\u001b[0m \u001b[0mos\u001b[0m\u001b[1;33m.\u001b[0m\u001b[0merrno\u001b[0m\u001b[1;33m.\u001b[0m\u001b[0mENOENT\u001b[0m\u001b[1;33m:\u001b[0m\u001b[1;33m\u001b[0m\u001b[1;33m\u001b[0m\u001b[0m\n\u001b[0m\u001b[0;32m   1881\u001b[0m                 raise Exception(\n\u001b[0;32m   1882\u001b[0m                     '\"{prog}\" not found in path.'.format(\n",
      "\u001b[1;31mAttributeError\u001b[0m: module 'os' has no attribute 'errno'"
     ]
    }
   ],
   "source": [
    "from keras.utils import plot_model\n",
    "plot_model(hist)"
   ]
  },
  {
   "cell_type": "code",
   "execution_count": null,
   "metadata": {},
   "outputs": [],
   "source": []
  }
 ],
 "metadata": {
  "kernelspec": {
   "display_name": "Python 3",
   "language": "python",
   "name": "python3"
  },
  "language_info": {
   "codemirror_mode": {
    "name": "ipython",
    "version": 3
   },
   "file_extension": ".py",
   "mimetype": "text/x-python",
   "name": "python",
   "nbconvert_exporter": "python",
   "pygments_lexer": "ipython3",
   "version": "3.7.3"
  }
 },
 "nbformat": 4,
 "nbformat_minor": 4
}
