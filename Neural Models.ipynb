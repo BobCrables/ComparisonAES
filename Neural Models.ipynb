{
 "cells": [
  {
   "cell_type": "code",
   "execution_count": 1,
   "metadata": {},
   "outputs": [
    {
     "name": "stderr",
     "output_type": "stream",
     "text": [
      "Using TensorFlow backend.\n"
     ]
    }
   ],
   "source": [
    "# Never do this, but warnings are annoying so I'm blocking them\n",
    "import warnings\n",
    "warnings.filterwarnings(\"ignore\")\n",
    "\n",
    "import keras.layers  as  klayers \n",
    "from keras.preprocessing.text import text_to_word_sequence\n",
    "from keras.preprocessing.sequence import pad_sequences\n",
    "from keras.layers import Dense, LSTM, Input, Embedding, GlobalAveragePooling1D, Concatenate, Activation, Lambda, BatchNormalization, Convolution1D, Dropout, merge\n",
    "from keras.layers.recurrent import SimpleRNN, LSTM, GRU\n",
    "from keras.models import Model\n",
    "from keras import backend as K\n",
    "from keras.engine.topology import Layer, InputSpec\n",
    "from keras.callbacks import EarlyStopping\n",
    "from keras import regularizers\n",
    "from keras import initializers\n",
    "from keras.layers import Activation, Dense, BatchNormalization, Conv2D, MaxPooling2D, Flatten\n",
    "from keras.activations import relu\n",
    "from keras.backend import reshape\n",
    "\n",
    "import numpy as np\n",
    "import nltk\n",
    "\n",
    "import matplotlib.pyplot as plt\n",
    "from sklearn.metrics import cohen_kappa_score\n",
    "from skll.metrics import kappa\n",
    "from scipy import stats\n",
    "\n",
    "# Import custom NEA layers\n",
    "from nea import Attention, MeanOverTime, Conv1DWithMasking\n",
    "from ats import Temporal_Mean_Pooling, Neural_Tensor_layer\n",
    "\n",
    "from essaysenseOther import load_asap, load_glove\n",
    "from essaysenseUtils import ASAPDataSet, SentenceLevelTestSet\n",
    "\n",
    "from customUtils import preprocess_asap, get_optimizer, limits"
   ]
  },
  {
   "cell_type": "code",
   "execution_count": null,
   "metadata": {},
   "outputs": [],
   "source": [
    "class NEA_HyperParameters:\n",
    "    def __init__(self):\n",
    "        self.method='lstm'     # gru, rnn, lstm\n",
    "        self.optimizer='adam'  # def: adam\n",
    "        self.aggregation='tmp' # tmp (ATS), mot (NEA), attsum, attmean, or nothing\n",
    "        self.dropout_prob=0    # def: 0.5; '0' for no dropout\n",
    "        self.cnn_dim=0         # '0' mean no CNN layer\n",
    "        self.rnn_dim=300\n",
    "        self.cnn_window_size=3 # def: 3\n",
    "        self.dropout_W = 0.5\n",
    "        self.dropout_U = 0.1   \n",
    "        self.cnn_border_mode='same' \n",
    "        self.activation=\"relu\"\n",
    "        self.maxlen=500        # TAKEN FROM ATSUTILS.PY\n",
    "        self.seed=1024\n",
    "nea_hp = NEA_HyperParameters()"
   ]
  },
  {
   "cell_type": "code",
   "execution_count": 2,
   "metadata": {},
   "outputs": [],
   "source": [
    "class EssaySense_HyperParameters:\n",
    "    def __init__(self):\n",
    "        self.train_epochs = 700  # General training epochs.\n",
    "        self.w_dim = 50  # Word embedding dimension.\n",
    "        self.s_len = 20  # Sentence length in the sentence-level models.\n",
    "        self.e_len = 60  # Essay length in the sentence-level models.\n",
    "        self.w_window_len = 5  # Convolution window size of word level.\n",
    "        self.s_window_len = 3  # Convolution window size of sentence level.\n",
    "        self.w_convunits_size = 64  # Convolution unit number of word level.\n",
    "        self.s_convunits_size = 32 # Convolution unit number of sentence level.\n",
    "        self.hidden_size = 100  # Dense layer size of sentence-level models.\n",
    "        self.batch_size = 20  # Batch size.\n",
    "        self.learning_rate = 0.006  # Initial learning rate.\n",
    "        self.dropout_keep_prob = 0.3  # Dropout rate.\n",
    "        self.lstm_hidden_size = 150  # Dense layer size of LSTM models.\n",
    "        self.cnn_lstm_convunits_size = 80  # Conv units of CNN-LSTM models.\n",
    "        self.cnn_lstm_att_pool_size = 50  # Attention pool size.\n",
    "es_hp = EssaySense_HyperParameters()"
   ]
  },
  {
   "cell_type": "code",
   "execution_count": 5,
   "metadata": {},
   "outputs": [
    {
     "name": "stdout",
     "output_type": "stream",
     "text": [
      "Min Score: 2.0 | Max Score: 12.0\n"
     ]
    }
   ],
   "source": [
    "prompt = '1'\n",
    "VALIDATION_SPLIT=0.30\n",
    "TEST_SPLIT=0.50\n",
    "range_max, range_min = limits(prompt)"
   ]
  },
  {
   "cell_type": "code",
   "execution_count": 3,
   "metadata": {},
   "outputs": [
    {
     "name": "stdout",
     "output_type": "stream",
     "text": [
      "Processing GloVe embedding...\n",
      "Embedding done!\n",
      "Min Score: 2.0 | Max Score: 12.0\n",
      "Number of Training Essays: 1783\n",
      "Found 16200 unique tokens!\n",
      "Shape of data tensor: (1783, 500)\n",
      "Splitting training/test data...\n"
     ]
    }
   ],
   "source": [
    "# NEA PREPROCESSING\n",
    "x_train, y_train, x_val, y_val, x_test, y_test, embedding_layer = preprocess_asap(prompt,VALIDATION_SPLIT,TEST_SPLIT)"
   ]
  },
  {
   "cell_type": "code",
   "execution_count": 7,
   "metadata": {},
   "outputs": [
    {
     "name": "stdout",
     "output_type": "stream",
     "text": [
      "[Loading] ASAP-AES domain 1 dataset...\n"
     ]
    }
   ],
   "source": [
    "# ESSAYSENSE PREPROCESSING\n",
    "glove_table = load_glove(es_hp, \"glove.6B.50d.txt\")\n",
    "asap_train = load_asap(domain_id=prompt)\n",
    "\n",
    "asap_processed = SentenceLevelTestSet(\n",
    "    hyperparameters=es_hp,\n",
    "    lookup_table=glove_table,\n",
    "    raw_test_set=asap_train)\n",
    "train_essays, train_scores = asap_processed.all()\n",
    "\n",
    "indices=np.arange(train_essays.shape[0])\n",
    "np.random.shuffle(indices)\n",
    "train_essays=train_essays[indices]\n",
    "train_scores=train_scores[indices]\n",
    "validation_size=int(VALIDATION_SPLIT*train_essays.shape[0])\n",
    "\n",
    "x_train=train_essays[:-validation_size]\n",
    "y_train=train_scores[:-validation_size]\n",
    "x_notrain=train_essays[-validation_size:]\n",
    "y_notrain=train_scores[-validation_size:]\n",
    "\n",
    "test_size=int(TEST_SPLIT*x_notrain.shape[0])\n",
    "x_val=x_notrain[:-test_size]\n",
    "y_val=y_notrain[:-test_size]\n",
    "x_test=x_notrain[-test_size:]\n",
    "y_test=y_notrain[-test_size:]"
   ]
  },
  {
   "cell_type": "markdown",
   "metadata": {},
   "source": [
    "# Neural Models"
   ]
  },
  {
   "cell_type": "code",
   "execution_count": 25,
   "metadata": {},
   "outputs": [],
   "source": [
    "# Bi-directional LSTM\n",
    "def BLSTM(hp=nea_hp):    \n",
    "    # Embedding Layer\n",
    "    e = Input(name='essay',shape=(hp.maxlen,))\n",
    "    embed = embedding_layer(e)\n",
    "    \n",
    "    # BLSTM Layer\n",
    "    if hp.rnn_dim > 0:\n",
    "        forwards = LSTM(hp.rnn_dim, return_sequences=True, dropout_W=hp.dropout_W, dropout_U=hp.dropout_U)(embed)\n",
    "        backwards = LSTM(hp.rnn_dim, return_sequences=True, dropout_W=hp.dropout_W, dropout_U=hp.dropout_U, go_backwards=True)(embed)\n",
    "    if hp.dropout_prob > 0:\n",
    "        forwards = Dropout(hp.dropout_prob)(forwards)\n",
    "        backwards = Dropout(hp.dropout_prob)(backwards)\n",
    "    forwards_mean = MeanOverTime(mask_zero=True)(forwards)\n",
    "    backwards_mean = MeanOverTime(mask_zero=True)(backwards)\n",
    "    merged = merge([forwards_mean, backwards_mean], mode='concat', concat_axis=-1)\n",
    "    drop = Dense(num_outputs)(merged)\n",
    "    \n",
    "    # Optional Dropout Layer\n",
    "    if hp.dropout_prob > 0:\n",
    "        drop=Dropout(hp.dropout_prob)(hidden_states)\n",
    "    else:\n",
    "        drop=hidden_states\n",
    "    \n",
    "    # Aggregation Methods\n",
    "    if hp.aggregation == 'mot':\n",
    "        htm=MeanOverTime(mask_zero=True)(drop)\n",
    "    elif hp.aggregation == 'tmp':\n",
    "        htm=Temporal_Mean_Pooling()(drop)\n",
    "    elif hp.aggregation.startswith('att'):\n",
    "        htm=Attention(op=hp.aggregation, activation='tanh', init_stdev=0.01)(drop)\n",
    "    \n",
    "    # Connected Hidden Layer\n",
    "    dense = Dense(256, activation=hp.activation,kernel_initializer=initializers.glorot_normal(seed=hp.seed))(htm)\n",
    "    dense = Dense(128, activation=hp.activation,kernel_initializer=initializers.glorot_normal(seed=hp.seed))(dense)\n",
    "    dense = Dense(64, activation=hp.activation,kernel_initializer=initializers.glorot_normal(seed=hp.seed))(dense)\n",
    "    out = Dense(1, activation=\"sigmoid\")(dense)\n",
    "    \n",
    "    # Model Compiler\n",
    "    model = Model(inputs=[e], outputs=[out])\n",
    "    model.compile(loss=\"mean_squared_error\", optimizer=get_optimizer(hp.optimizer), metrics=[\"MSE\"])\n",
    "    return model"
   ]
  },
  {
   "cell_type": "code",
   "execution_count": 5,
   "metadata": {},
   "outputs": [],
   "source": [
    "# NEA-based Networks\n",
    "def nea(hp=nea_hp):\n",
    "    # Embedding Layer\n",
    "    e = Input(name='essay',shape=(hp.maxlen,))\n",
    "    embed = embedding_layer(e)\n",
    "\n",
    "    # Optional Convolutional Layer\n",
    "    if hp.cnn_dim > 0:\n",
    "        cnn_layer=Conv1DWithMasking(nb_filter=hp.cnn_dim, filter_length=hp.cnn_window_size, border_mode=hp.cnn_border_mode, subsample_length=1)(embed)\n",
    "        embed=cnn_layer\n",
    "    \n",
    "    # Network Layer\n",
    "    if hp.method == 'lstm': # Typically uses 'tmp' aggregation method\n",
    "        lstm_layer=LSTM(hp.rnn_dim,return_sequences=True) \n",
    "        hidden_states=lstm_layer(embed)\n",
    "    elif hp.method == 'rnn': \n",
    "        rnn_layer=SimpleRNN(hp.rnn_dim, return_sequences=True, dropout_W=hp.dropout_W, dropout_U=hp.dropout_U)\n",
    "        hidden_states=rnn_layer(embed)\n",
    "    elif hp.method == 'gru': \n",
    "        rnn_layer=GRU(hp.rnn_dim, return_sequences=True, dropout_W=hp.dropout_W, dropout_U=hp.dropout_U)\n",
    "        hidden_states=rnn_layer(embed)\n",
    "        \n",
    "    # Optional Dropout Layer\n",
    "    if hp.dropout_prob > 0:\n",
    "        drop=Dropout(hp.dropout_prob)(hidden_states)\n",
    "    else:\n",
    "        drop=hidden_states\n",
    "    \n",
    "    # Aggregation Methods\n",
    "    if hp.aggregation == 'mot':\n",
    "        htm=MeanOverTime(mask_zero=True)(drop)\n",
    "    elif hp.aggregation == 'tmp':\n",
    "        htm=Temporal_Mean_Pooling()(drop)\n",
    "    elif hp.aggregation.startswith('att'):\n",
    "        htm=Attention(op=hp.aggregation, activation='tanh', init_stdev=0.01)(drop)\n",
    "    \n",
    "    # Connected Hidden Layer\n",
    "    dense = Dense(256, activation=hp.activation,kernel_initializer=initializers.glorot_normal(seed=hp.seed))(htm)\n",
    "    dense = Dense(128, activation=hp.activation,kernel_initializer=initializers.glorot_normal(seed=hp.seed))(dense)\n",
    "    dense = Dense(64, activation=hp.activation,kernel_initializer=initializers.glorot_normal(seed=hp.seed))(dense)\n",
    "    out = Dense(1, activation=\"sigmoid\")(dense)\n",
    "    \n",
    "    # Model Compiler\n",
    "    model = Model(inputs=[e], outputs=[out])\n",
    "    model.compile(loss=\"mean_squared_error\", optimizer=get_optimizer(hp.optimizer), metrics=[\"MSE\"])\n",
    "    return model"
   ]
  },
  {
   "cell_type": "code",
   "execution_count": 12,
   "metadata": {},
   "outputs": [],
   "source": [
    "def essaysense_cnn_lstm(hp=es_hp):\n",
    "    optimizer = 'adam'\n",
    "    \n",
    "    essays = Input(name='essays',shape=(hp.e_len, hp.s_len, hp.w_dim))\n",
    "    \n",
    "    # Convolutional layer\n",
    "    conv1 = Conv2d(filters=cnn_lstm_convunits_size, kernel_size=[1, w_window_len], padding=\"same\", activation=tf.nn.relu)(essays)\n",
    "\n",
    "    # Attention pooling\n",
    "    att1_mat = tf.Variable(tf.truncated_normal([cnn_lstm_convunits_size, cnn_lstm_convunits_size]), dtype=tf.float32)\n",
    "    att1_bias = tf.Variable(tf.truncated_normal([1, 1, 1, cnn_lstm_convunits_size]),dtype=tf.float32)\n",
    "    att1_weight = tf.tensordot(conv1, att1_mat, axes=[3, 0]) + att1_bias\n",
    "    att1_weight = tf.nn.tanh(att1_weight)\n",
    "    att1_vec = tf.Variable(tf.truncated_normal([cnn_lstm_convunits_size, 1]), dtype=tf.float32)\n",
    "    att1_weight = tf.tensordot(att1_weight, att1_vec, axes=[3, 0])\n",
    "    att1_weight = tf.nn.softmax(att1_weight, dim=2)\n",
    "    att1_output = att1_weight * conv1\n",
    "    att1_output = tf.reduce_sum(att1_output, axis=2)\n",
    "\n",
    "    # Long Short-Term Memory layer\n",
    "    lstm_cell = tfrnn.BasicLSTMCell(num_units=cnn_lstm_att_pool_size)\n",
    "    lstm_cell = tfrnn.DropoutWrapper(cell=lstm_cell, output_keep_prob=dropout_keep_prob)\n",
    "    init_state = lstm_cell.zero_state(batch_size, dtype=tf.float32)\n",
    "    lstm, _ = tf.nn.dynamic_rnn(lstm_cell, att1_output, dtype=tf.float32)\n",
    "\n",
    "    # Attention pooling\n",
    "    att2_mat = tf.Variable(tf.truncated_normal([cnn_lstm_att_pool_size,cnn_lstm_att_pool_size]), dtype=tf.float32)\n",
    "    att2_bias = tf.Variable(tf.truncated_normal([1, 1, cnn_lstm_att_pool_size]), dtype=tf.float32)\n",
    "    att2_weight = tf.tensordot(lstm, att2_mat, axes=[2, 0])\n",
    "    att2_weight = tf.nn.tanh(att2_weight)\n",
    "    att2_vec = tf.Variable(tf.truncated_normal([cnn_lstm_att_pool_size, 1]), dtype=tf.float32)\n",
    "    att2_weight = tf.tensordot(att2_weight, att2_vec, axes=[2, 0])\n",
    "    att2_weight = tf.nn.softmax(att2_weight, dim=1)\n",
    "    att2_output = att2_weight * lstm\n",
    "    att2_output = tf.reduce_sum(att2_output, axis=1)\n",
    "\n",
    "    # Dense layer\n",
    "    out = Dense(1, activation=\"sigmoid\")(att2_output)\n",
    "\n",
    "    # Model Compiler\n",
    "    model = Model(inputs=[essays], outputs=[out])\n",
    "    model.compile(loss=\"mean_squared_error\", optimizer=get_optimizer(optimizer), metrics=[\"MSE\"])\n",
    "    return model"
   ]
  },
  {
   "cell_type": "code",
   "execution_count": 8,
   "metadata": {},
   "outputs": [],
   "source": [
    "def essaysense_cnn_cnn(hp=es_hp):    \n",
    "    optimizer = 'adam'\n",
    "    \n",
    "    essays = Input(name='essays',shape=(hp.e_len, hp.s_len, hp.w_dim))\n",
    "    \n",
    "    # Convolutional layer 1\n",
    "    conv1 = Conv2D(filters=hp.w_convunits_size,kernel_size=[1, hp.w_window_len],padding=\"same\",activation=None)(essays)\n",
    "    bn1 = BatchNormalization()(conv1)\n",
    "    activated1 = bn1 # activated1 = relu(bn1)\n",
    "    pool1 = MaxPooling2D(pool_size=[1, hp.s_len], strides=1)(activated1)\n",
    "    \n",
    "    # Convolutional layer 2\n",
    "    conv2 = Conv2D(filters=hp.s_convunits_size,kernel_size=[hp.s_window_len, 1],padding=\"same\",activation=None)(pool1)\n",
    "    bn2 = BatchNormalization()(conv2)\n",
    "    activated2 = bn2 # activated2 = relu(bn2)\n",
    "    pool2 = MaxPooling2D(pool_size=[hp.e_len, 1], strides=1)(activated2)\n",
    "    pool2_flat = Flatten()(pool2) # pool2_flat = reshape(pool2, [-1, hp.s_convunits_size])\n",
    "    \n",
    "    # Dense layers\n",
    "    dense1 = Dense(hp.hidden_size, activation=\"relu\")(pool2_flat)\n",
    "    out = Dense(1, activation=\"sigmoid\")(dense1)\n",
    "\n",
    "    # Model Compiler\n",
    "    model = Model(inputs=[essays], outputs=[out])\n",
    "    model.compile(loss=\"mean_squared_error\", optimizer=get_optimizer(optimizer), metrics=[\"MSE\"])\n",
    "    return model"
   ]
  },
  {
   "cell_type": "code",
   "execution_count": 9,
   "metadata": {},
   "outputs": [
    {
     "name": "stdout",
     "output_type": "stream",
     "text": [
      "WARNING:tensorflow:From C:\\Users\\David\\Anaconda3\\lib\\site-packages\\keras\\backend\\tensorflow_backend.py:4070: The name tf.nn.max_pool is deprecated. Please use tf.nn.max_pool2d instead.\n",
      "\n"
     ]
    }
   ],
   "source": [
    "sf_1 = essaysense_cnn_cnn()\n",
    "\n",
    "# sf_1 = nea()"
   ]
  },
  {
   "cell_type": "code",
   "execution_count": 10,
   "metadata": {},
   "outputs": [
    {
     "name": "stdout",
     "output_type": "stream",
     "text": [
      "WARNING:tensorflow:From C:\\Users\\David\\Anaconda3\\lib\\site-packages\\keras\\backend\\tensorflow_backend.py:422: The name tf.global_variables is deprecated. Please use tf.compat.v1.global_variables instead.\n",
      "\n",
      "Train on 1248 samples, validate on 267 samples\n",
      "Epoch 1/100\n",
      "1248/1248 [==============================] - 3s 2ms/step - loss: 0.0192 - MSE: 0.0192 - val_loss: 0.0619 - val_MSE: 0.0619\n",
      "Epoch 2/100\n",
      "1248/1248 [==============================] - 1s 1ms/step - loss: 0.0108 - MSE: 0.0108 - val_loss: 0.0410 - val_MSE: 0.0410\n",
      "Epoch 3/100\n",
      "1248/1248 [==============================] - 1s 982us/step - loss: 0.0080 - MSE: 0.0080 - val_loss: 0.0641 - val_MSE: 0.0641\n",
      "Epoch 4/100\n",
      "1248/1248 [==============================] - 1s 982us/step - loss: 0.0045 - MSE: 0.0045 - val_loss: 0.0369 - val_MSE: 0.0369\n",
      "Epoch 5/100\n",
      "1248/1248 [==============================] - 1s 999us/step - loss: 0.0032 - MSE: 0.0032 - val_loss: 0.0523 - val_MSE: 0.0523\n",
      "Epoch 6/100\n",
      "1248/1248 [==============================] - 1s 987us/step - loss: 0.0029 - MSE: 0.0029 - val_loss: 0.0140 - val_MSE: 0.0140\n",
      "Epoch 7/100\n",
      "1248/1248 [==============================] - 1s 989us/step - loss: 0.0045 - MSE: 0.0045 - val_loss: 0.0374 - val_MSE: 0.0374\n",
      "Epoch 8/100\n",
      "1248/1248 [==============================] - 1s 981us/step - loss: 0.0030 - MSE: 0.0030 - val_loss: 0.0186 - val_MSE: 0.0186\n",
      "Epoch 9/100\n",
      "1248/1248 [==============================] - 1s 989us/step - loss: 0.0023 - MSE: 0.0023 - val_loss: 0.0123 - val_MSE: 0.0123\n",
      "Epoch 10/100\n",
      "1248/1248 [==============================] - 1s 981us/step - loss: 0.0021 - MSE: 0.0021 - val_loss: 0.0147 - val_MSE: 0.0147\n",
      "Epoch 11/100\n",
      "1248/1248 [==============================] - 1s 989us/step - loss: 0.0022 - MSE: 0.0022 - val_loss: 0.0142 - val_MSE: 0.0142\n",
      "Epoch 12/100\n",
      "1248/1248 [==============================] - 1s 983us/step - loss: 0.0015 - MSE: 0.0015 - val_loss: 0.0161 - val_MSE: 0.0161\n",
      "Epoch 13/100\n",
      "1248/1248 [==============================] - 1s 997us/step - loss: 0.0015 - MSE: 0.0015 - val_loss: 0.0135 - val_MSE: 0.0135\n",
      "Epoch 14/100\n",
      "1248/1248 [==============================] - 1s 1ms/step - loss: 0.0018 - MSE: 0.0018 - val_loss: 0.0125 - val_MSE: 0.0125\n"
     ]
    }
   ],
   "source": [
    "earlystopping = EarlyStopping(monitor=\"val_MSE\", patience=5)\n",
    "hist = sf_1.fit([x_train], y_train, batch_size=20, epochs=100,\n",
    "                validation_data=([x_val], y_val), callbacks=[earlystopping])"
   ]
  },
  {
   "cell_type": "code",
   "execution_count": 11,
   "metadata": {},
   "outputs": [
    {
     "name": "stdout",
     "output_type": "stream",
     "text": [
      "0.6043088176467226\n"
     ]
    }
   ],
   "source": [
    "# BHKappa Evaluation\n",
    "y_pred=sf_1.predict([x_test])\n",
    "y_val_fin = [int(round(a*(range_max-range_min)+range_min)) for a in y_test]\n",
    "y_pred_fin =[int(round(a*(range_max-range_min)+range_min)) for a in y_pred.reshape(x_test.shape[0]).tolist()]\n",
    "print(cohen_kappa_score(y_val_fin,y_pred_fin,weights=\"quadratic\"))"
   ]
  },
  {
   "cell_type": "code",
   "execution_count": 12,
   "metadata": {},
   "outputs": [
    {
     "data": {
      "image/png": "[encoded data removed]",
      "text/plain": [
       "<Figure size 432x288 with 1 Axes>"
      ]
     },
     "metadata": {
      "needs_background": "light"
     },
     "output_type": "display_data"
    }
   ],
   "source": [
    "# Plot training & validation loss values\n",
    "plt.plot(hist.history['MSE'])\n",
    "plt.plot(hist.history['val_MSE'])\n",
    "plt.title('Model MSE')\n",
    "plt.ylabel('Loss')\n",
    "plt.xlabel('Epoch')\n",
    "plt.legend(['Train', 'Validation'], loc='upper left')\n",
    "plt.show()"
   ]
  },
  {
   "cell_type": "code",
   "execution_count": 140,
   "metadata": {},
   "outputs": [],
   "source": [
    "sf_1.save('models/1_model.h5')\n",
    "sf_1.save_weights('models/1_weights.h5')"
   ]
  }
 ],
 "metadata": {
  "kernelspec": {
   "display_name": "Python 3",
   "language": "python",
   "name": "python3"
  },
  "language_info": {
   "codemirror_mode": {
    "name": "ipython",
    "version": 3
   },
   "file_extension": ".py",
   "mimetype": "text/x-python",
   "name": "python",
   "nbconvert_exporter": "python",
   "pygments_lexer": "ipython3",
   "version": "3.7.3"
  }
 },
 "nbformat": 4,
 "nbformat_minor": 4
}
