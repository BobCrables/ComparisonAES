{
 "cells": [
  {
   "cell_type": "code",
   "execution_count": 1,
   "metadata": {},
   "outputs": [
    {
     "name": "stderr",
     "output_type": "stream",
     "text": [
      "Using TensorFlow backend.\n"
     ]
    }
   ],
   "source": [
    "# Never do this, but warnings are annoying so I'm blocking them\n",
    "import warnings\n",
    "warnings.filterwarnings(\"ignore\")\n",
    "\n",
    "import keras.layers  as  klayers \n",
    "from keras.preprocessing.text import text_to_word_sequence\n",
    "from keras.preprocessing.sequence import pad_sequences\n",
    "from keras.layers import Dense, LSTM, Input, Embedding, GlobalAveragePooling1D, Concatenate, Activation, Lambda, BatchNormalization, Convolution1D, Dropout, merge\n",
    "from keras.layers.recurrent import SimpleRNN, LSTM, GRU\n",
    "from keras.models import Model\n",
    "from keras import backend as K\n",
    "from keras.engine.topology import Layer, InputSpec\n",
    "from keras.callbacks import EarlyStopping\n",
    "from keras import regularizers\n",
    "from keras import initializers\n",
    "from keras.layers import Activation, Dense, BatchNormalization, Conv2D, MaxPooling2D, Flatten\n",
    "from keras.activations import relu\n",
    "from keras.backend import reshape\n",
    "\n",
    "import numpy as np\n",
    "import nltk\n",
    "\n",
    "import matplotlib.pyplot as plt\n",
    "from sklearn.metrics import cohen_kappa_score\n",
    "from skll.metrics import kappa\n",
    "from scipy import stats\n",
    "\n",
    "from datetime import datetime\n",
    "\n",
    "# Import custom NEA layers\n",
    "from nea import Attention, MeanOverTime, Conv1DWithMasking\n",
    "from ats import Temporal_Mean_Pooling, Neural_Tensor_layer\n",
    "\n",
    "from essaysenseOther import load_asap, load_glove\n",
    "from essaysenseUtils import ASAPDataSet, SentenceLevelTestSet\n",
    "\n",
    "from customUtils import preprocess_asap, get_optimizer, limits"
   ]
  },
  {
   "cell_type": "code",
   "execution_count": 2,
   "metadata": {},
   "outputs": [],
   "source": [
    "class NEA_HyperParameters:\n",
    "    def __init__(self):\n",
    "        self.method='lstm'     # gru, rnn, lstm\n",
    "        self.optimizer='adam'  # def: adam\n",
    "        self.aggregation='tmp' # tmp (ATS), mot (NEA), attsum, attmean, or nothing\n",
    "        self.dropout_prob=0    # def: 0.5; '0' for no dropout\n",
    "        self.cnn_dim=300       # '0' mean no CNN layer\n",
    "        self.rnn_dim=300\n",
    "        self.cnn_window_size=3 # def: 3\n",
    "        self.dropout_W = 0.5\n",
    "        self.dropout_U = 0.1   \n",
    "        self.cnn_border_mode='same' \n",
    "        self.activation=\"relu\"\n",
    "        self.maxlen=500        # TAKEN FROM ATSUTILS.PY\n",
    "        self.seed=1024\n",
    "nea_hp = NEA_HyperParameters()"
   ]
  },
  {
   "cell_type": "code",
   "execution_count": 3,
   "metadata": {},
   "outputs": [],
   "source": [
    "class EssaySense_HyperParameters:\n",
    "    def __init__(self):\n",
    "        self.train_epochs = 700  # General training epochs.\n",
    "        self.w_dim = 50          # Word embedding dimension.\n",
    "        self.s_len = 20          # Sentence length in the sentence-level models.\n",
    "        self.e_len = 60          # Essay length in the sentence-level models.\n",
    "        self.w_window_len = 5    # Convolution window size of word level.\n",
    "        self.s_window_len = 3    # Convolution window size of sentence level.\n",
    "        self.w_convunits_size = 64 # Convolution unit number of word level.\n",
    "        self.s_convunits_size = 32 # Convolution unit number of sentence level.\n",
    "        self.hidden_size = 100     # Dense layer size of sentence-level models.\n",
    "        self.batch_size = 20       # Batch size.\n",
    "        self.learning_rate = 0.006 # Initial learning rate.\n",
    "        self.dropout_keep_prob = 0.3       # Dropout rate.\n",
    "        self.lstm_hidden_size = 150        # Dense layer size of LSTM models.\n",
    "        self.cnn_lstm_convunits_size = 80  # Conv units of CNN-LSTM models.\n",
    "        self.cnn_lstm_att_pool_size = 50   # Attention pool size.\n",
    "es_hp = EssaySense_HyperParameters()"
   ]
  },
  {
   "cell_type": "code",
   "execution_count": 4,
   "metadata": {},
   "outputs": [
    {
     "name": "stdout",
     "output_type": "stream",
     "text": [
      "Min Score: 1.0 | Max Score: 6.0\n"
     ]
    }
   ],
   "source": [
    "prompt = '2'\n",
    "VALIDATION_SPLIT=0.30\n",
    "TEST_SPLIT=0.50\n",
    "range_max, range_min = limits(prompt)\n",
    "glove_dir = \"glove.6B.300d.txt\"\n",
    "data_dir = \"data/training_set.tsv\""
   ]
  },
  {
   "cell_type": "code",
   "execution_count": 5,
   "metadata": {},
   "outputs": [
    {
     "name": "stdout",
     "output_type": "stream",
     "text": [
      "Processing GloVe embedding...\n",
      "Embedding done!\n",
      "Min Score: 1.0 | Max Score: 6.0\n",
      "Number of Training Essays: 1800\n",
      "Found 14685 unique tokens!\n",
      "Shape of data tensor: (1800, 500)\n",
      "Splitting training/test data...\n",
      "Done.\n"
     ]
    }
   ],
   "source": [
    "# NEA PREPROCESSING\n",
    "x_train, y_train, x_val, y_val, x_test, y_test, embedding_layer = preprocess_asap(prompt,VALIDATION_SPLIT,TEST_SPLIT, glove_dir, data_dir)"
   ]
  },
  {
   "cell_type": "code",
   "execution_count": 6,
   "metadata": {},
   "outputs": [
    {
     "name": "stdout",
     "output_type": "stream",
     "text": [
      "[Loading] ASAP-AES domain 1 dataset...\n"
     ]
    }
   ],
   "source": [
    "# ESSAYSENSE PREPROCESSING\n",
    "glove_table = load_glove(es_hp, glove_dir)\n",
    "asap_train = load_asap(domain_id=prompt)\n",
    "\n",
    "asap_processed = SentenceLevelTestSet(\n",
    "    hyperparameters=es_hp,\n",
    "    lookup_table=glove_table,\n",
    "    raw_test_set=asap_train)\n",
    "train_essays, train_scores = asap_processed.all()\n",
    "\n",
    "indices=np.arange(train_essays.shape[0])\n",
    "np.random.shuffle(indices)\n",
    "train_essays=train_essays[indices]\n",
    "train_scores=train_scores[indices]\n",
    "validation_size=int(VALIDATION_SPLIT*train_essays.shape[0])\n",
    "\n",
    "x_train=train_essays[:-validation_size]\n",
    "y_train=train_scores[:-validation_size]\n",
    "x_notrain=train_essays[-validation_size:]\n",
    "y_notrain=train_scores[-validation_size:]\n",
    "\n",
    "test_size=int(TEST_SPLIT*x_notrain.shape[0])\n",
    "x_val=x_notrain[:-test_size]\n",
    "y_val=y_notrain[:-test_size]\n",
    "x_test=x_notrain[-test_size:]\n",
    "y_test=y_notrain[-test_size:]"
   ]
  },
  {
   "cell_type": "markdown",
   "metadata": {},
   "source": [
    "# Neural Models"
   ]
  },
  {
   "cell_type": "code",
   "execution_count": 13,
   "metadata": {},
   "outputs": [],
   "source": [
    "# Bi-directional LSTM\n",
    "def BLSTM(hp):    \n",
    "    # Embedding Layer\n",
    "    e = Input(name='essay',shape=(hp.maxlen,))\n",
    "    embed = embedding_layer(e)\n",
    "    \n",
    "    # BLSTM Layer\n",
    "    if hp.rnn_dim > 0:\n",
    "        forwards = LSTM(hp.rnn_dim, return_sequences=True, dropout_W=hp.dropout_W, dropout_U=hp.dropout_U)(embed)\n",
    "        backwards = LSTM(hp.rnn_dim, return_sequences=True, dropout_W=hp.dropout_W, dropout_U=hp.dropout_U, go_backwards=True)(embed)\n",
    "    if hp.dropout_prob > 0:\n",
    "        forwards = Dropout(hp.dropout_prob)(forwards)\n",
    "        backwards = Dropout(hp.dropout_prob)(backwards)\n",
    "    forwards_mean = MeanOverTime(mask_zero=True)(forwards)\n",
    "    backwards_mean = MeanOverTime(mask_zero=True)(backwards)\n",
    "    merged = merge([forwards_mean, backwards_mean], mode='concat', concat_axis=-1)\n",
    "    drop = Dense(num_outputs)(merged)\n",
    "    \n",
    "    # Optional Dropout Layer\n",
    "    if hp.dropout_prob > 0:\n",
    "        drop=Dropout(hp.dropout_prob)(hidden_states)\n",
    "    else:\n",
    "        drop=hidden_states\n",
    "    \n",
    "    # Aggregation Methods\n",
    "    if hp.aggregation == 'mot':\n",
    "        htm=MeanOverTime(mask_zero=True)(drop)\n",
    "    elif hp.aggregation == 'tmp':\n",
    "        htm=Temporal_Mean_Pooling()(drop)\n",
    "    elif hp.aggregation.startswith('att'):\n",
    "        htm=Attention(op=hp.aggregation, activation='tanh', init_stdev=0.01)(drop)\n",
    "    \n",
    "    # Connected Hidden Layer\n",
    "    dense = Dense(256, activation=hp.activation,kernel_initializer=initializers.glorot_normal(seed=hp.seed))(htm)\n",
    "    dense = Dense(128, activation=hp.activation,kernel_initializer=initializers.glorot_normal(seed=hp.seed))(dense)\n",
    "    dense = Dense(64, activation=hp.activation,kernel_initializer=initializers.glorot_normal(seed=hp.seed))(dense)\n",
    "    out = Dense(1, activation=\"sigmoid\")(dense)\n",
    "    \n",
    "    # Model Compiler\n",
    "    model = Model(inputs=[e], outputs=[out])\n",
    "    model.compile(loss=\"mean_squared_error\", optimizer=get_optimizer(hp.optimizer), metrics=[\"MSE\"])\n",
    "    return model"
   ]
  },
  {
   "cell_type": "code",
   "execution_count": 3,
   "metadata": {},
   "outputs": [],
   "source": [
    "# NEA-based Networks\n",
    "def nea(hp, embedding_layer):\n",
    "    # Debug Outputs\n",
    "    print('RNN: %s | CNN: %s | Agg: %s' % (hp.method, hp.cnn_dim, hp.aggregation))\n",
    "    \n",
    "    # Embedding Layer\n",
    "    e = Input(name='essay',shape=(hp.maxlen,))\n",
    "    embed = embedding_layer(e)\n",
    "\n",
    "    # Optional Convolutional Layer\n",
    "    if hp.cnn_dim > 0:\n",
    "        cnn_layer=Conv1DWithMasking(nb_filter=hp.cnn_dim, filter_length=hp.cnn_window_size, border_mode=hp.cnn_border_mode, subsample_length=1)(embed)\n",
    "        embed=cnn_layer\n",
    "    \n",
    "    # Network Layer\n",
    "    if hp.method == 'lstm': # Typically uses 'tmp' aggregation method\n",
    "        lstm_layer=LSTM(hp.rnn_dim,return_sequences=True) \n",
    "        hidden_states=lstm_layer(embed)\n",
    "    elif hp.method == 'rnn': \n",
    "        rnn_layer=SimpleRNN(hp.rnn_dim, return_sequences=True, dropout_W=hp.dropout_W, dropout_U=hp.dropout_U)\n",
    "        hidden_states=rnn_layer(embed)\n",
    "    elif hp.method == 'gru': \n",
    "        rnn_layer=GRU(hp.rnn_dim, return_sequences=True, dropout_W=hp.dropout_W, dropout_U=hp.dropout_U)\n",
    "        hidden_states=rnn_layer(embed)\n",
    "        \n",
    "    # Optional Dropout Layer\n",
    "    if hp.dropout_prob > 0:\n",
    "        drop=Dropout(hp.dropout_prob)(hidden_states)\n",
    "    else:\n",
    "        drop=hidden_states\n",
    "    \n",
    "    # Aggregation Methods\n",
    "    if hp.aggregation == 'mot':\n",
    "        htm=MeanOverTime(mask_zero=True)(drop)\n",
    "    elif hp.aggregation == 'tmp':\n",
    "        htm=Temporal_Mean_Pooling()(drop)\n",
    "    elif hp.aggregation.startswith('att'):\n",
    "        htm=Attention(op=hp.aggregation, activation='tanh', init_stdev=0.01)(drop)\n",
    "    \n",
    "    # Connected Hidden Layer\n",
    "    dense = Dense(256, activation=hp.activation,kernel_initializer=initializers.glorot_normal(seed=hp.seed))(htm)\n",
    "    dense = Dense(128, activation=hp.activation,kernel_initializer=initializers.glorot_normal(seed=hp.seed))(dense)\n",
    "    dense = Dense(64, activation=hp.activation,kernel_initializer=initializers.glorot_normal(seed=hp.seed))(dense)\n",
    "    out = Dense(1, activation=\"sigmoid\")(dense)\n",
    "    \n",
    "    # Model Compiler\n",
    "    model = Model(inputs=[e], outputs=[out])\n",
    "    model.compile(loss=\"mean_squared_error\", optimizer=get_optimizer(hp.optimizer), metrics=[\"MSE\"])\n",
    "    return model"
   ]
  },
  {
   "cell_type": "code",
   "execution_count": 7,
   "metadata": {},
   "outputs": [],
   "source": [
    "def essaysense_cnn_lstm(hp):\n",
    "    optimizer = 'adam'\n",
    "    \n",
    "    essays = Input(name='essays',shape=(hp.e_len, hp.s_len, hp.w_dim))\n",
    "    \n",
    "    # Convolutional layer\n",
    "    conv1 = Conv2d(filters=cnn_lstm_convunits_size, kernel_size=[1, w_window_len], padding=\"same\", activation=tf.nn.relu)(essays)\n",
    "\n",
    "    # Attention pooling\n",
    "    att1_mat = tf.Variable(tf.truncated_normal([cnn_lstm_convunits_size, cnn_lstm_convunits_size]), dtype=tf.float32)\n",
    "    att1_bias = tf.Variable(tf.truncated_normal([1, 1, 1, cnn_lstm_convunits_size]),dtype=tf.float32)\n",
    "    att1_weight = tf.tensordot(conv1, att1_mat, axes=[3, 0]) + att1_bias\n",
    "    att1_weight = tf.nn.tanh(att1_weight)\n",
    "    att1_vec = tf.Variable(tf.truncated_normal([cnn_lstm_convunits_size, 1]), dtype=tf.float32)\n",
    "    att1_weight = tf.tensordot(att1_weight, att1_vec, axes=[3, 0])\n",
    "    att1_weight = tf.nn.softmax(att1_weight, dim=2)\n",
    "    att1_output = att1_weight * conv1\n",
    "    att1_output = tf.reduce_sum(att1_output, axis=2)\n",
    "\n",
    "    # Long Short-Term Memory layer\n",
    "    lstm_cell = tfrnn.BasicLSTMCell(num_units=cnn_lstm_att_pool_size)\n",
    "    lstm_cell = tfrnn.DropoutWrapper(cell=lstm_cell, output_keep_prob=dropout_keep_prob)\n",
    "    init_state = lstm_cell.zero_state(batch_size, dtype=tf.float32)\n",
    "    lstm, _ = tf.nn.dynamic_rnn(lstm_cell, att1_output, dtype=tf.float32)\n",
    "\n",
    "    # Attention pooling\n",
    "    att2_mat = tf.Variable(tf.truncated_normal([cnn_lstm_att_pool_size,cnn_lstm_att_pool_size]), dtype=tf.float32)\n",
    "    att2_bias = tf.Variable(tf.truncated_normal([1, 1, cnn_lstm_att_pool_size]), dtype=tf.float32)\n",
    "    att2_weight = tf.tensordot(lstm, att2_mat, axes=[2, 0])\n",
    "    att2_weight = tf.nn.tanh(att2_weight)\n",
    "    att2_vec = tf.Variable(tf.truncated_normal([cnn_lstm_att_pool_size, 1]), dtype=tf.float32)\n",
    "    att2_weight = tf.tensordot(att2_weight, att2_vec, axes=[2, 0])\n",
    "    att2_weight = tf.nn.softmax(att2_weight, dim=1)\n",
    "    att2_output = att2_weight * lstm\n",
    "    att2_output = tf.reduce_sum(att2_output, axis=1)\n",
    "\n",
    "    # Dense layer\n",
    "    out = Dense(1, activation=\"sigmoid\")(att2_output)\n",
    "\n",
    "    # Model Compiler\n",
    "    model = Model(inputs=[essays], outputs=[out])\n",
    "    model.compile(loss=\"mean_squared_error\", optimizer=get_optimizer(optimizer), metrics=[\"MSE\"])\n",
    "    return model"
   ]
  },
  {
   "cell_type": "code",
   "execution_count": 8,
   "metadata": {},
   "outputs": [],
   "source": [
    "def essaysense_cnn_cnn(hp):    \n",
    "    optimizer = 'adam'\n",
    "    \n",
    "    essays = Input(name='essays',shape=(hp.e_len, hp.s_len, hp.w_dim))\n",
    "    \n",
    "    # Convolutional layer 1\n",
    "    conv1 = Conv2D(filters=hp.w_convunits_size,kernel_size=[1, hp.w_window_len],padding=\"same\",activation=None)(essays)\n",
    "    bn1 = BatchNormalization()(conv1)\n",
    "    activated1 = bn1 # activated1 = relu(bn1)\n",
    "    pool1 = MaxPooling2D(pool_size=[1, hp.s_len], strides=1)(activated1)\n",
    "    \n",
    "    # Convolutional layer 2\n",
    "    conv2 = Conv2D(filters=hp.s_convunits_size,kernel_size=[hp.s_window_len, 1],padding=\"same\",activation=None)(pool1)\n",
    "    bn2 = BatchNormalization()(conv2)\n",
    "    activated2 = bn2 # activated2 = relu(bn2)\n",
    "    pool2 = MaxPooling2D(pool_size=[hp.e_len, 1], strides=1)(activated2)\n",
    "    pool2_flat = Flatten()(pool2) # pool2_flat = reshape(pool2, [-1, hp.s_convunits_size])\n",
    "    \n",
    "    # Dense layers\n",
    "    dense1 = Dense(hp.hidden_size, activation=\"relu\")(pool2_flat)\n",
    "    out = Dense(1, activation=\"sigmoid\")(dense1)\n",
    "\n",
    "    # Model Compiler\n",
    "    model = Model(inputs=[essays], outputs=[out])\n",
    "    model.compile(loss=\"mean_squared_error\", optimizer=get_optimizer(optimizer), metrics=[\"MSE\"])\n",
    "    return model"
   ]
  },
  {
   "cell_type": "code",
   "execution_count": 20,
   "metadata": {},
   "outputs": [
    {
     "name": "stdout",
     "output_type": "stream",
     "text": [
      "RNN: lstm | CNN: 300 | Agg: tmp\n"
     ]
    }
   ],
   "source": [
    "# sf_1 = essaysense_cnn_cnn()\n",
    "sf_1 = nea()"
   ]
  },
  {
   "cell_type": "code",
   "execution_count": 21,
   "metadata": {
    "collapsed": true,
    "jupyter": {
     "outputs_hidden": true
    }
   },
   "outputs": [
    {
     "name": "stdout",
     "output_type": "stream",
     "text": [
      "Train on 1260 samples, validate on 270 samples\n",
      "Epoch 1/100\n",
      "  60/1260 [>.............................] - ETA: 1:23 - loss: 0.0270 - MSE: 0.0270"
     ]
    },
    {
     "ename": "KeyboardInterrupt",
     "evalue": "",
     "output_type": "error",
     "traceback": [
      "\u001b[1;31m---------------------------------------------------------------------------\u001b[0m",
      "\u001b[1;31mKeyboardInterrupt\u001b[0m                         Traceback (most recent call last)",
      "\u001b[1;32m<ipython-input-21-d0295211ae7e>\u001b[0m in \u001b[0;36m<module>\u001b[1;34m\u001b[0m\n\u001b[0;32m      1\u001b[0m \u001b[0mearlystopping\u001b[0m \u001b[1;33m=\u001b[0m \u001b[0mEarlyStopping\u001b[0m\u001b[1;33m(\u001b[0m\u001b[0mmonitor\u001b[0m\u001b[1;33m=\u001b[0m\u001b[1;34m\"val_MSE\"\u001b[0m\u001b[1;33m,\u001b[0m \u001b[0mpatience\u001b[0m\u001b[1;33m=\u001b[0m\u001b[1;36m5\u001b[0m\u001b[1;33m)\u001b[0m\u001b[1;33m\u001b[0m\u001b[1;33m\u001b[0m\u001b[0m\n\u001b[0;32m      2\u001b[0m hist = sf_1.fit([x_train], y_train, batch_size=20, epochs=100,\n\u001b[1;32m----> 3\u001b[1;33m                 validation_data=([x_val], y_val), callbacks=[earlystopping])\n\u001b[0m",
      "\u001b[1;32m~\\Anaconda3\\lib\\site-packages\\keras\\engine\\training.py\u001b[0m in \u001b[0;36mfit\u001b[1;34m(self, x, y, batch_size, epochs, verbose, callbacks, validation_split, validation_data, shuffle, class_weight, sample_weight, initial_epoch, steps_per_epoch, validation_steps, validation_freq, max_queue_size, workers, use_multiprocessing, **kwargs)\u001b[0m\n\u001b[0;32m   1237\u001b[0m                                         \u001b[0msteps_per_epoch\u001b[0m\u001b[1;33m=\u001b[0m\u001b[0msteps_per_epoch\u001b[0m\u001b[1;33m,\u001b[0m\u001b[1;33m\u001b[0m\u001b[1;33m\u001b[0m\u001b[0m\n\u001b[0;32m   1238\u001b[0m                                         \u001b[0mvalidation_steps\u001b[0m\u001b[1;33m=\u001b[0m\u001b[0mvalidation_steps\u001b[0m\u001b[1;33m,\u001b[0m\u001b[1;33m\u001b[0m\u001b[1;33m\u001b[0m\u001b[0m\n\u001b[1;32m-> 1239\u001b[1;33m                                         validation_freq=validation_freq)\n\u001b[0m\u001b[0;32m   1240\u001b[0m \u001b[1;33m\u001b[0m\u001b[0m\n\u001b[0;32m   1241\u001b[0m     def evaluate(self,\n",
      "\u001b[1;32m~\\Anaconda3\\lib\\site-packages\\keras\\engine\\training_arrays.py\u001b[0m in \u001b[0;36mfit_loop\u001b[1;34m(model, fit_function, fit_inputs, out_labels, batch_size, epochs, verbose, callbacks, val_function, val_inputs, shuffle, initial_epoch, steps_per_epoch, validation_steps, validation_freq)\u001b[0m\n\u001b[0;32m    194\u001b[0m                     \u001b[0mins_batch\u001b[0m\u001b[1;33m[\u001b[0m\u001b[0mi\u001b[0m\u001b[1;33m]\u001b[0m \u001b[1;33m=\u001b[0m \u001b[0mins_batch\u001b[0m\u001b[1;33m[\u001b[0m\u001b[0mi\u001b[0m\u001b[1;33m]\u001b[0m\u001b[1;33m.\u001b[0m\u001b[0mtoarray\u001b[0m\u001b[1;33m(\u001b[0m\u001b[1;33m)\u001b[0m\u001b[1;33m\u001b[0m\u001b[1;33m\u001b[0m\u001b[0m\n\u001b[0;32m    195\u001b[0m \u001b[1;33m\u001b[0m\u001b[0m\n\u001b[1;32m--> 196\u001b[1;33m                 \u001b[0mouts\u001b[0m \u001b[1;33m=\u001b[0m \u001b[0mfit_function\u001b[0m\u001b[1;33m(\u001b[0m\u001b[0mins_batch\u001b[0m\u001b[1;33m)\u001b[0m\u001b[1;33m\u001b[0m\u001b[1;33m\u001b[0m\u001b[0m\n\u001b[0m\u001b[0;32m    197\u001b[0m                 \u001b[0mouts\u001b[0m \u001b[1;33m=\u001b[0m \u001b[0mto_list\u001b[0m\u001b[1;33m(\u001b[0m\u001b[0mouts\u001b[0m\u001b[1;33m)\u001b[0m\u001b[1;33m\u001b[0m\u001b[1;33m\u001b[0m\u001b[0m\n\u001b[0;32m    198\u001b[0m                 \u001b[1;32mfor\u001b[0m \u001b[0ml\u001b[0m\u001b[1;33m,\u001b[0m \u001b[0mo\u001b[0m \u001b[1;32min\u001b[0m \u001b[0mzip\u001b[0m\u001b[1;33m(\u001b[0m\u001b[0mout_labels\u001b[0m\u001b[1;33m,\u001b[0m \u001b[0mouts\u001b[0m\u001b[1;33m)\u001b[0m\u001b[1;33m:\u001b[0m\u001b[1;33m\u001b[0m\u001b[1;33m\u001b[0m\u001b[0m\n",
      "\u001b[1;32m~\\Anaconda3\\lib\\site-packages\\tensorflow\\python\\keras\\backend.py\u001b[0m in \u001b[0;36m__call__\u001b[1;34m(self, inputs)\u001b[0m\n\u001b[0;32m   3290\u001b[0m \u001b[1;33m\u001b[0m\u001b[0m\n\u001b[0;32m   3291\u001b[0m     fetched = self._callable_fn(*array_vals,\n\u001b[1;32m-> 3292\u001b[1;33m                                 run_metadata=self.run_metadata)\n\u001b[0m\u001b[0;32m   3293\u001b[0m     \u001b[0mself\u001b[0m\u001b[1;33m.\u001b[0m\u001b[0m_call_fetch_callbacks\u001b[0m\u001b[1;33m(\u001b[0m\u001b[0mfetched\u001b[0m\u001b[1;33m[\u001b[0m\u001b[1;33m-\u001b[0m\u001b[0mlen\u001b[0m\u001b[1;33m(\u001b[0m\u001b[0mself\u001b[0m\u001b[1;33m.\u001b[0m\u001b[0m_fetches\u001b[0m\u001b[1;33m)\u001b[0m\u001b[1;33m:\u001b[0m\u001b[1;33m]\u001b[0m\u001b[1;33m)\u001b[0m\u001b[1;33m\u001b[0m\u001b[1;33m\u001b[0m\u001b[0m\n\u001b[0;32m   3294\u001b[0m     output_structure = nest.pack_sequence_as(\n",
      "\u001b[1;32m~\\Anaconda3\\lib\\site-packages\\tensorflow\\python\\client\\session.py\u001b[0m in \u001b[0;36m__call__\u001b[1;34m(self, *args, **kwargs)\u001b[0m\n\u001b[0;32m   1456\u001b[0m         ret = tf_session.TF_SessionRunCallable(self._session._session,\n\u001b[0;32m   1457\u001b[0m                                                \u001b[0mself\u001b[0m\u001b[1;33m.\u001b[0m\u001b[0m_handle\u001b[0m\u001b[1;33m,\u001b[0m \u001b[0margs\u001b[0m\u001b[1;33m,\u001b[0m\u001b[1;33m\u001b[0m\u001b[1;33m\u001b[0m\u001b[0m\n\u001b[1;32m-> 1458\u001b[1;33m                                                run_metadata_ptr)\n\u001b[0m\u001b[0;32m   1459\u001b[0m         \u001b[1;32mif\u001b[0m \u001b[0mrun_metadata\u001b[0m\u001b[1;33m:\u001b[0m\u001b[1;33m\u001b[0m\u001b[1;33m\u001b[0m\u001b[0m\n\u001b[0;32m   1460\u001b[0m           \u001b[0mproto_data\u001b[0m \u001b[1;33m=\u001b[0m \u001b[0mtf_session\u001b[0m\u001b[1;33m.\u001b[0m\u001b[0mTF_GetBuffer\u001b[0m\u001b[1;33m(\u001b[0m\u001b[0mrun_metadata_ptr\u001b[0m\u001b[1;33m)\u001b[0m\u001b[1;33m\u001b[0m\u001b[1;33m\u001b[0m\u001b[0m\n",
      "\u001b[1;31mKeyboardInterrupt\u001b[0m: "
     ]
    }
   ],
   "source": [
    "earlystopping = EarlyStopping(monitor=\"val_MSE\", patience=5)\n",
    "hist = sf_1.fit([x_train], y_train, batch_size=20, epochs=100,\n",
    "                validation_data=([x_val], y_val), callbacks=[earlystopping])"
   ]
  },
  {
   "cell_type": "code",
   "execution_count": 12,
   "metadata": {},
   "outputs": [
    {
     "name": "stdout",
     "output_type": "stream",
     "text": [
      "0.23443742750354424\n"
     ]
    }
   ],
   "source": [
    "# BHKappa Evaluation\n",
    "y_pred=sf_1.predict([x_test])\n",
    "y_val_fin = [int(round(a*(range_max-range_min)+range_min)) for a in y_test]\n",
    "y_pred_fin =[int(round(a*(range_max-range_min)+range_min)) for a in y_pred.reshape(x_test.shape[0]).tolist()]\n",
    "print(cohen_kappa_score(y_val_fin,y_pred_fin,weights=\"quadratic\"))"
   ]
  },
  {
   "cell_type": "code",
   "execution_count": 10,
   "metadata": {},
   "outputs": [
    {
     "data": {
      "image/png": "[encoded data removed]",
      "text/plain": [
       "<Figure size 432x288 with 1 Axes>"
      ]
     },
     "metadata": {
      "needs_background": "light"
     },
     "output_type": "display_data"
    }
   ],
   "source": [
    "# Plot training & validation loss values\n",
    "plt.plot(hist.history['MSE'])\n",
    "plt.plot(hist.history['val_MSE'])\n",
    "plt.title('Model MSE')\n",
    "plt.ylabel('Loss')\n",
    "plt.xlabel('Epoch')\n",
    "plt.legend(['Train', 'Validation'], loc='upper left')\n",
    "plt.show()"
   ]
  },
  {
   "cell_type": "code",
   "execution_count": 4,
   "metadata": {},
   "outputs": [],
   "source": [
    "def pipeline(testID, method, cnn):\n",
    "    VALIDATION_SPLIT=0.30\n",
    "    TEST_SPLIT=0.50\n",
    "    glove_dir = \"glove.6B.300d.txt\"\n",
    "    data_dir = \"data/training_set.tsv\"\n",
    "    earlystopping = EarlyStopping(monitor=\"val_MSE\", patience=10)\n",
    "\n",
    "    # Results File\n",
    "    results = open(\"models/%s_Results.txt\" % testID, \"w+\")\n",
    "    print(\"Model: %s\" % testID)\n",
    "    t0 = datetime.now()\n",
    "    \n",
    "    # Configure Hyperparameters\n",
    "    nea_hp.method = method\n",
    "    if cnn:\n",
    "        nea_hp.cnn_dim = 300\n",
    "    else:\n",
    "        nea_hp.cnn_dim = 0\n",
    "\n",
    "    # Pipeline to evaluate all prompts\n",
    "    for prompt in range(8):\n",
    "        prompt = str(prompt+1) # Ad-hoc because I'm a bad programmer\n",
    "        print(\"Prompt: %s\" % prompt)\n",
    "        range_max, range_min = limits(prompt)\n",
    "        \n",
    "        for fold in range(5):\n",
    "            fold = str(fold+1)\n",
    "            print(\"Fold %s\" % fold)\n",
    "            \n",
    "            # Model Training\n",
    "            x_train, y_train, x_val, y_val, x_test, y_test, embedding_layer = preprocess_asap(prompt,VALIDATION_SPLIT,TEST_SPLIT, glove_dir, data_dir)\n",
    "            sf_1 = nea(nea_hp, embedding_layer)\n",
    "            hist = sf_1.fit([x_train], y_train, batch_size=20, epochs=100, validation_data=([x_val], y_val), callbacks=[earlystopping])\n",
    "\n",
    "            # BHKappa Evaluation\n",
    "            y_pred=sf_1.predict([x_test])\n",
    "            y_val_fin = [int(round(a*(range_max-range_min)+range_min)) for a in y_test]\n",
    "            y_pred_fin =[int(round(a*(range_max-range_min)+range_min)) for a in y_pred.reshape(x_test.shape[0]).tolist()]\n",
    "            score = cohen_kappa_score(y_val_fin, y_pred_fin, weights=\"quadratic\")\n",
    "            results.write(\"%s \\n\" % score)\n",
    "            print(\"QWK, Prompt %s, Fold %s: %s\" % (prompt, fold, score))\n",
    "            \n",
    "            # Plot training & validation loss values\n",
    "            plt.plot(hist.history['f%s MSE' % fold])\n",
    "            plt.plot(hist.history['f%s val_MSE'])\n",
    "            plt.title('Model %s, Essay %s MSE' % (testID, prompt))\n",
    "            plt.ylabel('Loss')\n",
    "            plt.xlabel('Epoch')\n",
    "            plt.legend(['Train', 'Validation'], loc='upper left')\n",
    "            plt.savefig('models/graphs/%s_%s.png' % (testID, prompt))\n",
    "\n",
    "            # Save Model Weights (Eh)\n",
    "            # sf_1.save('models/%s_%s_model.h5' % (testID, prompt))\n",
    "            # sf_1.save_weights('models/%s_%s_weights.h5' % (testID, prompt))\n",
    "        results.write(\"\\n ---- \\n\")\n",
    "        plt.clf()\n",
    "    results.close()\n",
    "\n",
    "    t1 = datetime.now()\n",
    "    print('Processing time: {}'.format(t1 - t0))"
   ]
  },
  {
   "cell_type": "code",
   "execution_count": null,
   "metadata": {},
   "outputs": [
    {
     "name": "stdout",
     "output_type": "stream",
     "text": [
      "Model: LSTM_CNN\n",
      "Prompt: 1\n",
      "Min Score: 2.0 | Max Score: 12.0\n",
      "Fold 1\n",
      "Processing GloVe embedding...\n",
      "Embedding done!\n",
      "Min Score: 2.0 | Max Score: 12.0\n",
      "Number of Training Essays: 1783\n",
      "Found 16200 unique tokens!\n",
      "Shape of data tensor: (1783, 500)\n",
      "Splitting training/test data...\n",
      "Done.\n",
      "RNN: lstm | CNN: 300 | Agg: tmp\n",
      "WARNING:tensorflow:From C:\\Users\\David\\Anaconda3\\lib\\site-packages\\tensorflow\\python\\keras\\backend.py:3794: add_dispatch_support.<locals>.wrapper (from tensorflow.python.ops.array_ops) is deprecated and will be removed in a future version.\n",
      "Instructions for updating:\n",
      "Use tf.where in 2.0, which has the same broadcast rule as np.where\n",
      "WARNING:tensorflow:From C:\\Users\\David\\Anaconda3\\lib\\site-packages\\keras\\backend\\tensorflow_backend.py:422: The name tf.global_variables is deprecated. Please use tf.compat.v1.global_variables instead.\n",
      "\n",
      "Train on 1249 samples, validate on 267 samples\n",
      "Epoch 1/100\n",
      "1249/1249 [==============================] - 42s 34ms/step - loss: 0.0242 - MSE: 0.0242 - val_loss: 0.0258 - val_MSE: 0.0258\n",
      "Epoch 2/100\n",
      "1249/1249 [==============================] - 42s 33ms/step - loss: 0.0189 - MSE: 0.0189 - val_loss: 0.0189 - val_MSE: 0.0189\n",
      "Epoch 3/100\n",
      "1249/1249 [==============================] - 42s 34ms/step - loss: 0.0171 - MSE: 0.0171 - val_loss: 0.0217 - val_MSE: 0.0217\n",
      "Epoch 4/100\n",
      "1249/1249 [==============================] - 44s 35ms/step - loss: 0.0206 - MSE: 0.0206 - val_loss: 0.0234 - val_MSE: 0.0234\n",
      "Epoch 5/100\n",
      "1249/1249 [==============================] - 42s 34ms/step - loss: 0.0170 - MSE: 0.0170 - val_loss: 0.0193 - val_MSE: 0.0193\n",
      "Epoch 6/100\n",
      "1249/1249 [==============================] - 41s 33ms/step - loss: 0.0142 - MSE: 0.0142 - val_loss: 0.0183 - val_MSE: 0.0183\n",
      "Epoch 7/100\n",
      "1249/1249 [==============================] - 41s 33ms/step - loss: 0.0120 - MSE: 0.0120 - val_loss: 0.0142 - val_MSE: 0.0142\n",
      "Epoch 8/100\n",
      "1249/1249 [==============================] - 42s 34ms/step - loss: 0.0113 - MSE: 0.0113 - val_loss: 0.0135 - val_MSE: 0.0135\n",
      "Epoch 9/100\n",
      "1249/1249 [==============================] - 41s 33ms/step - loss: 0.0097 - MSE: 0.0097 - val_loss: 0.0128 - val_MSE: 0.0128\n",
      "Epoch 10/100\n",
      " 880/1249 [====================>.........] - ETA: 11s - loss: 0.0098 - MSE: 0.0098"
     ]
    }
   ],
   "source": [
    "pipeline('LSTM_CNN','lstm',1)\n",
    "pipeline('LSTM','lstm',0)\n",
    "pipeline('RNN_CNN','rnn',1)\n",
    "pipeline('RNN','rnn',0)\n",
    "pipeline('GRU_CNN','gru',1)\n",
    "pipeline('GRU','gru',0)"
   ]
  },
  {
   "cell_type": "code",
   "execution_count": null,
   "metadata": {},
   "outputs": [],
   "source": []
  }
 ],
 "metadata": {
  "kernelspec": {
   "display_name": "Python 3",
   "language": "python",
   "name": "python3"
  },
  "language_info": {
   "codemirror_mode": {
    "name": "ipython",
    "version": 3
   },
   "file_extension": ".py",
   "mimetype": "text/x-python",
   "name": "python",
   "nbconvert_exporter": "python",
   "pygments_lexer": "ipython3",
   "version": "3.7.3"
  }
 },
 "nbformat": 4,
 "nbformat_minor": 4
}
