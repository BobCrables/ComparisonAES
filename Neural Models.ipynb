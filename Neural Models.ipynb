{
 "cells": [
  {
   "cell_type": "markdown",
   "metadata": {},
   "source": [
    "# Import Packages & Data"
   ]
  },
  {
   "cell_type": "code",
   "execution_count": 2,
   "metadata": {
    "colab": {
     "base_uri": "https://localhost:8080/",
     "height": 165
    },
    "colab_type": "code",
    "executionInfo": {
     "elapsed": 2927,
     "status": "ok",
     "timestamp": 1578495898928,
     "user": {
      "displayName": "David Heineman",
      "photoUrl": "https://lh3.googleusercontent.com/a-/AAuE7mAgJIHLW2iXo9PWg5CJ2xQP4KaTOr-Pvx9BKMXNqlo=s64",
      "userId": "17978281563156891521"
     },
     "user_tz": 300
    },
    "id": "JsFH74VZgSBf",
    "outputId": "f4bea9aa-b299-4b46-b47d-7b6f9458b30a"
   },
   "outputs": [
    {
     "name": "stderr",
     "output_type": "stream",
     "text": [
      "Using TensorFlow backend.\n"
     ]
    },
    {
     "name": "stdout",
     "output_type": "stream",
     "text": [
      "Numpy version: 1.17.3\n",
      "Pandas version: 0.24.2\n",
      "Seaborn version: 0.9.0\n"
     ]
    }
   ],
   "source": [
    "# Never do this, but warnings are annoying so I'm blocking them\n",
    "import warnings\n",
    "warnings.filterwarnings(\"ignore\")\n",
    "\n",
    "import numpy as np\n",
    "import pandas as pd\n",
    "import seaborn as sns\n",
    "import matplotlib.pyplot as plt\n",
    "import string\n",
    "import re\n",
    "\n",
    "from sklearn.preprocessing import MinMaxScaler, OneHotEncoder, StandardScaler, RobustScaler\n",
    "from sklearn.model_selection import cross_val_score, KFold\n",
    "\n",
    "from gensim.models.word2vec import Word2Vec\n",
    "from gensim.test.utils import datapath\n",
    "\n",
    "# from sklearn.feature_extraction.stop_words import ENGLISH_STOP_WORDS as stopwords\n",
    "from nltk.corpus import stopwords\n",
    "import language_tool\n",
    "import spacy\n",
    "\n",
    "from sklearn.model_selection import train_test_split, KFold\n",
    "\n",
    "from skll.metrics import kappa\n",
    "from bhkappa import mean_quadratic_weighted_kappa\n",
    "\n",
    "from scipy.sparse import csr_matrix\n",
    "\n",
    "from tensorflow import keras\n",
    "from keras.models import Sequential, Model\n",
    "from keras.layers import Dense, Dropout, Input, LSTM, Embedding, Bidirectional, Flatten\n",
    "from keras.layers import Conv1D, MaxPooling1D, GlobalMaxPooling1D\n",
    "from keras.optimizers import SGD, Adam\n",
    "from keras.wrappers.scikit_learn import KerasRegressor\n",
    "\n",
    "import nltk\n",
    "stopwords = stopwords.words('english')\n",
    "\n",
    "%matplotlib inline\n",
    "\n",
    "print('Numpy version:', np.__version__)\n",
    "print('Pandas version:', pd.__version__)\n",
    "print('Seaborn version:', sns.__version__)"
   ]
  },
  {
   "cell_type": "code",
   "execution_count": 3,
   "metadata": {
    "colab": {},
    "colab_type": "code",
    "id": "P6mxQzkqrO58"
   },
   "outputs": [],
   "source": [
    "# Installs SpaCy Framework\n",
    "nlp = spacy.load(\"en_core_web_lg\")"
   ]
  },
  {
   "cell_type": "code",
   "execution_count": 4,
   "metadata": {
    "colab": {
     "base_uri": "https://localhost:8080/",
     "height": 351
    },
    "colab_type": "code",
    "executionInfo": {
     "elapsed": 2526,
     "status": "error",
     "timestamp": 1578495926245,
     "user": {
      "displayName": "David Heineman",
      "photoUrl": "https://lh3.googleusercontent.com/a-/AAuE7mAgJIHLW2iXo9PWg5CJ2xQP4KaTOr-Pvx9BKMXNqlo=s64",
      "userId": "17978281563156891521"
     },
     "user_tz": 300
    },
    "id": "0MxAr2iWgSBm",
    "outputId": "3a68320e-87bb-43b4-b03b-30c11590cd0b"
   },
   "outputs": [
    {
     "data": {
      "text/html": [
       "<div>\n",
       "<style scoped>\n",
       "    .dataframe tbody tr th:only-of-type {\n",
       "        vertical-align: middle;\n",
       "    }\n",
       "\n",
       "    .dataframe tbody tr th {\n",
       "        vertical-align: top;\n",
       "    }\n",
       "\n",
       "    .dataframe thead th {\n",
       "        text-align: right;\n",
       "    }\n",
       "</style>\n",
       "<table border=\"1\" class=\"dataframe\">\n",
       "  <thead>\n",
       "    <tr style=\"text-align: right;\">\n",
       "      <th></th>\n",
       "      <th>essay_id</th>\n",
       "      <th>topic</th>\n",
       "      <th>essay</th>\n",
       "      <th>rater1_domain1</th>\n",
       "      <th>rater2_domain1</th>\n",
       "      <th>rater3_domain1</th>\n",
       "      <th>target_score</th>\n",
       "      <th>rater1_domain2</th>\n",
       "      <th>rater2_domain2</th>\n",
       "      <th>topic2_target</th>\n",
       "      <th>...</th>\n",
       "      <th>rater2_trait3</th>\n",
       "      <th>rater2_trait4</th>\n",
       "      <th>rater2_trait5</th>\n",
       "      <th>rater2_trait6</th>\n",
       "      <th>rater3_trait1</th>\n",
       "      <th>rater3_trait2</th>\n",
       "      <th>rater3_trait3</th>\n",
       "      <th>rater3_trait4</th>\n",
       "      <th>rater3_trait5</th>\n",
       "      <th>rater3_trait6</th>\n",
       "    </tr>\n",
       "  </thead>\n",
       "  <tbody>\n",
       "    <tr>\n",
       "      <th>0</th>\n",
       "      <td>1</td>\n",
       "      <td>1</td>\n",
       "      <td>Dear local newspaper, I think effects computer...</td>\n",
       "      <td>4</td>\n",
       "      <td>4</td>\n",
       "      <td>NaN</td>\n",
       "      <td>8</td>\n",
       "      <td>NaN</td>\n",
       "      <td>NaN</td>\n",
       "      <td>NaN</td>\n",
       "      <td>...</td>\n",
       "      <td>NaN</td>\n",
       "      <td>NaN</td>\n",
       "      <td>NaN</td>\n",
       "      <td>NaN</td>\n",
       "      <td>NaN</td>\n",
       "      <td>NaN</td>\n",
       "      <td>NaN</td>\n",
       "      <td>NaN</td>\n",
       "      <td>NaN</td>\n",
       "      <td>NaN</td>\n",
       "    </tr>\n",
       "    <tr>\n",
       "      <th>1</th>\n",
       "      <td>2</td>\n",
       "      <td>1</td>\n",
       "      <td>Dear @CAPS1 @CAPS2, I believe that using compu...</td>\n",
       "      <td>5</td>\n",
       "      <td>4</td>\n",
       "      <td>NaN</td>\n",
       "      <td>9</td>\n",
       "      <td>NaN</td>\n",
       "      <td>NaN</td>\n",
       "      <td>NaN</td>\n",
       "      <td>...</td>\n",
       "      <td>NaN</td>\n",
       "      <td>NaN</td>\n",
       "      <td>NaN</td>\n",
       "      <td>NaN</td>\n",
       "      <td>NaN</td>\n",
       "      <td>NaN</td>\n",
       "      <td>NaN</td>\n",
       "      <td>NaN</td>\n",
       "      <td>NaN</td>\n",
       "      <td>NaN</td>\n",
       "    </tr>\n",
       "    <tr>\n",
       "      <th>2</th>\n",
       "      <td>3</td>\n",
       "      <td>1</td>\n",
       "      <td>Dear, @CAPS1 @CAPS2 @CAPS3 More and more peopl...</td>\n",
       "      <td>4</td>\n",
       "      <td>3</td>\n",
       "      <td>NaN</td>\n",
       "      <td>7</td>\n",
       "      <td>NaN</td>\n",
       "      <td>NaN</td>\n",
       "      <td>NaN</td>\n",
       "      <td>...</td>\n",
       "      <td>NaN</td>\n",
       "      <td>NaN</td>\n",
       "      <td>NaN</td>\n",
       "      <td>NaN</td>\n",
       "      <td>NaN</td>\n",
       "      <td>NaN</td>\n",
       "      <td>NaN</td>\n",
       "      <td>NaN</td>\n",
       "      <td>NaN</td>\n",
       "      <td>NaN</td>\n",
       "    </tr>\n",
       "  </tbody>\n",
       "</table>\n",
       "<p>3 rows × 28 columns</p>\n",
       "</div>"
      ],
      "text/plain": [
       "   essay_id  topic                                              essay  \\\n",
       "0         1      1  Dear local newspaper, I think effects computer...   \n",
       "1         2      1  Dear @CAPS1 @CAPS2, I believe that using compu...   \n",
       "2         3      1  Dear, @CAPS1 @CAPS2 @CAPS3 More and more peopl...   \n",
       "\n",
       "   rater1_domain1  rater2_domain1  rater3_domain1  target_score  \\\n",
       "0               4               4             NaN             8   \n",
       "1               5               4             NaN             9   \n",
       "2               4               3             NaN             7   \n",
       "\n",
       "   rater1_domain2  rater2_domain2  topic2_target  ...  rater2_trait3  \\\n",
       "0             NaN             NaN            NaN  ...            NaN   \n",
       "1             NaN             NaN            NaN  ...            NaN   \n",
       "2             NaN             NaN            NaN  ...            NaN   \n",
       "\n",
       "   rater2_trait4  rater2_trait5  rater2_trait6  rater3_trait1  rater3_trait2  \\\n",
       "0            NaN            NaN            NaN            NaN            NaN   \n",
       "1            NaN            NaN            NaN            NaN            NaN   \n",
       "2            NaN            NaN            NaN            NaN            NaN   \n",
       "\n",
       "   rater3_trait3  rater3_trait4  rater3_trait5  rater3_trait6  \n",
       "0            NaN            NaN            NaN            NaN  \n",
       "1            NaN            NaN            NaN            NaN  \n",
       "2            NaN            NaN            NaN            NaN  \n",
       "\n",
       "[3 rows x 28 columns]"
      ]
     },
     "execution_count": 4,
     "metadata": {},
     "output_type": "execute_result"
    }
   ],
   "source": [
    "training_set  = pd.read_csv('data/training_set.tsv', sep='\\t', encoding = \"ISO-8859-1\")\\\n",
    "            .rename(columns={'essay_set': 'topic', 'domain1_score': 'target_score', 'domain2_score': 'topic2_target'})\n",
    "training_set.head(3)"
   ]
  },
  {
   "cell_type": "code",
   "execution_count": 5,
   "metadata": {},
   "outputs": [],
   "source": [
    "valid_set  = pd.read_csv('data/valid_set.tsv', sep='\\t', encoding = \"ISO-8859-1\")\\\n",
    "            .rename(columns={'essay_set': 'topic'})\n",
    "test_set  = pd.read_csv('data/test_set.tsv', sep='\\t', encoding = \"ISO-8859-1\")\\\n",
    "            .rename(columns={'essay_set': 'topic'})\n",
    "combo_set = pd.concat([valid_set, test_set], sort=False)"
   ]
  },
  {
   "cell_type": "markdown",
   "metadata": {
    "colab_type": "text",
    "id": "qDHF2UXmgSBk"
   },
   "source": [
    "# Apply grammar and spelling corrections\n",
    "\n",
    "Feature importances generated from the extra trees algorithm did not rank grammar and spelling errors highly, suggesting that perhaps the essays could be processed \"as is\". On the other hand, word embeddings rely on known words and many usage examples. Misspelled words will either be ignored if their count is below the minimum, or worse, if misspelled to an existing word with a different meaning, the vectors could change the performance of the model in a way that might not be useful. LanguageTool will be used for applying these corrections.\n",
    "\n",
    "Language_tool has been the biggest pain to deal with in this whole project. Here's how to fix the implimentation.\n",
    "Start the server using [this solution](https://stackoverflow.com/questions/45412823/python-2-7-grammar-check-1-3-1-library-http-error-400-bad-request?rq=1)\n",
    "\n",
    "[Here's how to clear port 8081](https://stackoverflow.com/questions/39632667/how-to-kill-the-process-currently-using-a-port-on-localhost-in-windows)\n",
    "\n",
    "**cd to this folder**\n",
    "\n",
    "```cd C:\\Users\\David\\Anaconda3\\Lib\\site-packages\\language_tool\\LanguageTool-3.2```\n",
    "\n",
    "**Clear out port 8081**\n",
    "\n",
    "```netstat -ano | findstr :8081```\n",
    "\n",
    "```taskkill /PID typeyourPIDhere /F```\n",
    "\n",
    "\n",
    "**Start the server using**\n",
    "\n",
    "```java -cp languagetool-server.jar org.languagetool.server.HTTPServer --port 8081```"
   ]
  },
  {
   "cell_type": "code",
   "execution_count": 1,
   "metadata": {
    "colab": {},
    "colab_type": "code",
    "id": "mg9Zuc-ygSBk"
   },
   "outputs": [],
   "source": [
    "# Correction using Language-Tool\n",
    "def correct_language(df):\n",
    "    df['matches'] = df['essay'].apply(lambda txt: tool.check(txt))\n",
    "    df['corrections'] = df.apply(lambda l: len(l['matches']), axis=1)\n",
    "    df['corrected'] = df.apply(lambda l: language_tool.correct(l['essay'], l['matches']), axis=1)\n",
    "      \n",
    "    return df"
   ]
  },
  {
   "cell_type": "code",
   "execution_count": 14,
   "metadata": {
    "colab": {},
    "colab_type": "code",
    "id": "sUlvsjPkgSBo"
   },
   "outputs": [],
   "source": [
    "# Apply corrections\n",
    "tool = language_check.LanguageTool('en-US')\n",
    "combo_set = correct_language(combo_set)\n",
    "training_set = correct_language(training_set)"
   ]
  },
  {
   "cell_type": "markdown",
   "metadata": {
    "colab_type": "text",
    "id": "W1xzZ6NTgSBu"
   },
   "source": [
    "# Generate word embeddings\n",
    "\n",
    "I'm considering using a generic SpaCy or GloVe embedding on the data to compare results, but I'm currently using SSWEs because they're more representative of prompt-specific lexicons\n",
    "\n",
    "## Using Word2Vec"
   ]
  },
  {
   "cell_type": "code",
   "execution_count": 15,
   "metadata": {
    "colab": {},
    "colab_type": "code",
    "id": "IWREjQpegSBp"
   },
   "outputs": [
    {
     "data": {
      "text/plain": [
       "21448"
      ]
     },
     "execution_count": 15,
     "metadata": {},
     "output_type": "execute_result"
    }
   ],
   "source": [
    "# Create one dataset with all essays\n",
    "combo_set = pd.concat([combo_set, training_set], sort=False)\n",
    "len(combo_set)"
   ]
  },
  {
   "cell_type": "code",
   "execution_count": 19,
   "metadata": {
    "colab": {},
    "colab_type": "code",
    "id": "OlO26AbxgSBu"
   },
   "outputs": [],
   "source": [
    "# Clean training_set essays before feeding them to the Word2Vec model.\n",
    "punctuations = string.punctuation\n",
    "\n",
    "# Define function to cleanup text by removing personal pronouns, stopwords, and puncuation\n",
    "def cleanup_essays(essays, logging=False):\n",
    "    texts = []\n",
    "    counter = 1\n",
    "    for essay in essays.corrected:\n",
    "        if counter % 2000 == 0 and logging:\n",
    "            print(\"Processed %d out of %d documents.\" % (counter, len(essays)))\n",
    "        counter += 1\n",
    "        essay = nlp(essay, disable=['parser', 'ner'])\n",
    "        tokens = [tok.lemma_.lower().strip() for tok in essay if tok.lemma_ != '-PRON-']\n",
    "        tokens = [tok for tok in tokens if tok not in stopwords and tok not in punctuations]\n",
    "        tokens = ' '.join(tokens)\n",
    "        texts.append(tokens)\n",
    "    return pd.Series(texts)"
   ]
  },
  {
   "cell_type": "code",
   "execution_count": 20,
   "metadata": {
    "colab": {
     "base_uri": "https://localhost:8080/",
     "height": 51
    },
    "colab_type": "code",
    "executionInfo": {
     "elapsed": 673,
     "status": "ok",
     "timestamp": 1578442910206,
     "user": {
      "displayName": "David Heineman",
      "photoUrl": "https://lh3.googleusercontent.com/a-/AAuE7mAgJIHLW2iXo9PWg5CJ2xQP4KaTOr-Pvx9BKMXNqlo=s64",
      "userId": "17978281563156891521"
     },
     "user_tz": 300
    },
    "id": "qPd1_-gxgSBw",
    "outputId": "d4db3cca-7f33-48f8-f13b-fbb975b96cd1"
   },
   "outputs": [
    {
     "name": "stdout",
     "output_type": "stream",
     "text": [
      "Original training data shape:  (12976,)\n",
      "Processed 2000 out of 12976 documents.\n",
      "Processed 4000 out of 12976 documents.\n",
      "Processed 6000 out of 12976 documents.\n",
      "Processed 8000 out of 12976 documents.\n",
      "Processed 10000 out of 12976 documents.\n",
      "Processed 12000 out of 12976 documents.\n",
      "Cleaned up training data shape:  (12976, 2)\n"
     ]
    }
   ],
   "source": [
    "# Cleanup text and make sure it retains original shape\n",
    "print('Original training data shape: ', training_set['corrected'].shape)\n",
    "cleaned_essays = cleanup_essays(training_set, logging=True)\n",
    "train_cleaned = pd.concat([training_set['topic'], cleaned_essays], axis=1)\n",
    "print('Cleaned up training data shape: ', train_cleaned.shape)"
   ]
  },
  {
   "cell_type": "code",
   "execution_count": 21,
   "metadata": {
    "colab": {},
    "colab_type": "code",
    "id": "-tNZMR1TgSBy"
   },
   "outputs": [],
   "source": [
    "# Define function to preprocess text for a word2vec model\n",
    "def cleanup_essay_word2vec(essays, logging=False):\n",
    "    sentences = []\n",
    "    counter = 1\n",
    "    for essay in essays:\n",
    "        if counter % 1000 == 0 and logging:\n",
    "            print(\"Processed %d out of %d documents\" % (counter, len(essays)))\n",
    "        # Disable tagger so that lemma_ of personal pronouns (I, me, etc) don't getted marked as \"-PRON-\"\n",
    "        essay = nlp(essay, disable=['tagger'])\n",
    "        # Grab lemmatized form of words and make lowercase\n",
    "        essay = \" \".join([tok.lemma_.lower() for tok in essay])\n",
    "        # Split into sentences based on punctuation\n",
    "        essay = re.split(\"[\\.?!;] \", essay)\n",
    "        # Remove commas, periods, and other punctuation (mostly commas)\n",
    "        essay = [re.sub(\"[\\.,;:!?]\", \"\", sent) for sent in essay]\n",
    "        # Split into words\n",
    "        essay = [sent.split() for sent in essay]\n",
    "        sentences += essay\n",
    "        counter += 1\n",
    "    return sentences"
   ]
  },
  {
   "cell_type": "code",
   "execution_count": 38,
   "metadata": {},
   "outputs": [
    {
     "name": "stdout",
     "output_type": "stream",
     "text": [
      "Processed 1000 out of 21448 documents\n",
      "Processed 2000 out of 21448 documents\n",
      "Processed 3000 out of 21448 documents\n",
      "Processed 4000 out of 21448 documents\n",
      "Processed 5000 out of 21448 documents\n",
      "Processed 6000 out of 21448 documents\n",
      "Processed 7000 out of 21448 documents\n",
      "Processed 8000 out of 21448 documents\n",
      "Processed 9000 out of 21448 documents\n",
      "Processed 10000 out of 21448 documents\n",
      "Processed 11000 out of 21448 documents\n",
      "Processed 12000 out of 21448 documents\n",
      "Processed 13000 out of 21448 documents\n",
      "Processed 14000 out of 21448 documents\n",
      "Processed 15000 out of 21448 documents\n",
      "Processed 16000 out of 21448 documents\n",
      "Processed 17000 out of 21448 documents\n",
      "Processed 18000 out of 21448 documents\n",
      "Processed 19000 out of 21448 documents\n",
      "Processed 20000 out of 21448 documents\n",
      "Processed 21000 out of 21448 documents\n",
      "Cleaned up training data size (i.e. number of sentences):  285088\n",
      "Training Word2Vec model...\n",
      "10366 unique words represented by 300 dimensional vectors\n",
      "Word2Vec model saved.\n",
      "PROMPT 1\n",
      "Processed 1000 out of 2966 documents\n",
      "Processed 2000 out of 2966 documents\n",
      "Cleaned up training data size (i.e. number of sentences):  68977\n",
      "Training Word2Vec model...\n",
      "4519 unique words represented by 300 dimensional vectors\n",
      "Word2Vec model saved.\n",
      "PROMPT 2\n",
      "Processed 1000 out of 3000 documents\n",
      "Processed 2000 out of 3000 documents\n",
      "Processed 3000 out of 3000 documents\n",
      "Cleaned up training data size (i.e. number of sentences):  62683\n",
      "Training Word2Vec model...\n",
      "4165 unique words represented by 300 dimensional vectors\n",
      "Word2Vec model saved.\n",
      "PROMPT 3\n",
      "Processed 1000 out of 2858 documents\n",
      "Processed 2000 out of 2858 documents\n",
      "Cleaned up training data size (i.e. number of sentences):  17904\n",
      "Training Word2Vec model...\n",
      "2184 unique words represented by 300 dimensional vectors\n",
      "Word2Vec model saved.\n",
      "PROMPT 4\n",
      "Processed 1000 out of 2946 documents\n",
      "Processed 2000 out of 2946 documents\n",
      "Cleaned up training data size (i.e. number of sentences):  14030\n",
      "Training Word2Vec model...\n",
      "1759 unique words represented by 300 dimensional vectors\n",
      "Word2Vec model saved.\n",
      "PROMPT 5\n",
      "Processed 1000 out of 3006 documents\n",
      "Processed 2000 out of 3006 documents\n",
      "Processed 3000 out of 3006 documents\n",
      "Cleaned up training data size (i.e. number of sentences):  21593\n",
      "Training Word2Vec model...\n",
      "1665 unique words represented by 300 dimensional vectors\n",
      "Word2Vec model saved.\n",
      "PROMPT 6\n",
      "Processed 1000 out of 3000 documents\n",
      "Processed 2000 out of 3000 documents\n",
      "Processed 3000 out of 3000 documents\n",
      "Cleaned up training data size (i.e. number of sentences):  24636\n",
      "Training Word2Vec model...\n",
      "1990 unique words represented by 300 dimensional vectors\n",
      "Word2Vec model saved.\n",
      "PROMPT 7\n",
      "Processed 1000 out of 2464 documents\n",
      "Processed 2000 out of 2464 documents\n",
      "Cleaned up training data size (i.e. number of sentences):  31354\n",
      "Training Word2Vec model...\n",
      "3467 unique words represented by 300 dimensional vectors\n",
      "Word2Vec model saved.\n",
      "PROMPT 8\n",
      "Processed 1000 out of 1208 documents\n",
      "Cleaned up training data size (i.e. number of sentences):  43911\n",
      "Training Word2Vec model...\n",
      "4968 unique words represented by 300 dimensional vectors\n",
      "Word2Vec model saved.\n"
     ]
    }
   ],
   "source": [
    "# Create SSWEs\n",
    "text_dim = 300\n",
    "\n",
    "# Embedding for all prompts\n",
    "cleaned_word2vec = cleanup_essay_word2vec(combo_set['corrected'], logging=True)\n",
    "print('Cleaned up training data size (i.e. number of sentences): ', len(cleaned_word2vec))\n",
    "print(\"Training Word2Vec model...\")\n",
    "wordvec_model = Word2Vec(cleaned_word2vec, size=text_dim, window=5, min_count=3, workers=4, sg=1)\n",
    "print(\"%d unique words represented by %d dimensional vectors\" % (len(wordvec_model.wv.vocab), text_dim))\n",
    "wordvec_model.save('prompt_all.model')\n",
    "print(\"Word2Vec model saved.\")\n",
    "\n",
    "# Prompt-Specific Embeddings\n",
    "for x in range(8):\n",
    "    prompt = x+1\n",
    "    print(\"PROMPT %d\" % prompt)\n",
    "    cleaned_word2vec = cleanup_essay_word2vec(combo_set.loc[combo_set['topic'] == prompt]['corrected'], logging=True)\n",
    "    print('Cleaned up training data size (i.e. number of sentences): ', len(cleaned_word2vec))\n",
    "    print(\"Training Word2Vec model...\")\n",
    "    wordvec_model = Word2Vec(cleaned_word2vec, size=text_dim, window=5, min_count=3, workers=4, sg=1)\n",
    "    print(\"%d unique words represented by %d dimensional vectors\" % (len(wordvec_model.wv.vocab), text_dim))\n",
    "    wordvec_model.save('prompt_%d.model' % prompt)\n",
    "    print(\"Word2Vec model saved.\")"
   ]
  },
  {
   "cell_type": "code",
   "execution_count": 39,
   "metadata": {
    "colab": {},
    "colab_type": "code",
    "id": "CpNmt377gSB2"
   },
   "outputs": [],
   "source": [
    "# Define function to create averaged word vectors given a cleaned text. \n",
    "def create_average_vec(essay):\n",
    "    average = np.zeros((text_dim,), dtype='float32')\n",
    "    num_words = 0.\n",
    "    for word in essay.split():\n",
    "        if word in wordvec_model.wv.vocab:\n",
    "            average = np.add(average, wordvec_model.wv[word])\n",
    "            num_words += 1.\n",
    "    if num_words != 0.:\n",
    "        average = np.divide(average, num_words)\n",
    "    return average"
   ]
  },
  {
   "cell_type": "code",
   "execution_count": 24,
   "metadata": {
    "colab": {},
    "colab_type": "code",
    "id": "7BOcQzaugSB4",
    "outputId": "33cb3ddb-6c78-4de9-8f3a-c1c7f08f035a"
   },
   "outputs": [
    {
     "name": "stdout",
     "output_type": "stream",
     "text": [
      "Word vectors for essays is in the shape: (12976, 300)\n"
     ]
    }
   ],
   "source": [
    "# Create prompt-inspecific word vectors\n",
    "cleaned_vec = np.zeros((training_set.shape[0], text_dim), dtype=\"float32\")  \n",
    "wordvec_model = Word2Vec.load(\"embeddings/prompt_all.model\")\n",
    "for i in range(len(train_cleaned)):\n",
    "    cleaned_vec[i] = create_average_vec(train_cleaned[0][i])\n",
    "print(\"Word vectors for essays is in the shape:\", cleaned_vec.shape)"
   ]
  },
  {
   "cell_type": "code",
   "execution_count": 40,
   "metadata": {},
   "outputs": [
    {
     "name": "stdout",
     "output_type": "stream",
     "text": [
      "Word vectors for essay 1 is in the shape: (12976, 300)\n",
      "Word vectors for essay 2 is in the shape: (12976, 300)\n",
      "Word vectors for essay 3 is in the shape: (12976, 300)\n",
      "Word vectors for essay 4 is in the shape: (12976, 300)\n",
      "Word vectors for essay 5 is in the shape: (12976, 300)\n",
      "Word vectors for essay 6 is in the shape: (12976, 300)\n",
      "Word vectors for essay 7 is in the shape: (12976, 300)\n",
      "Word vectors for essay 8 is in the shape: (12976, 300)\n"
     ]
    }
   ],
   "source": [
    "# Creates prompt-specific word vectors\n",
    "cleaned_vec = np.zeros((train_cleaned.shape[0], text_dim), dtype=\"float32\")  \n",
    "\n",
    "for x in range(8):\n",
    "    prompt = x+1\n",
    "    wordvec_model = Word2Vec.load(\"embeddings/prompt_%d.model\" % prompt)\n",
    "    for i in range(len(train_cleaned.loc[train_cleaned[\"topic\"] == prompt])):\n",
    "        cleaned_vec[train_cleaned[train_cleaned[\"topic\"] == prompt].index[i]] = create_average_vec(train_cleaned[0][train_cleaned[train_cleaned[\"topic\"] == prompt].index[i]])\n",
    "    print(\"Word vectors for essay %d is in the shape:\" % prompt, cleaned_vec.shape)"
   ]
  },
  {
   "cell_type": "code",
   "execution_count": 41,
   "metadata": {},
   "outputs": [],
   "source": [
    "all_data = pd.concat([training_set[['topic','target_score']], pd.DataFrame(cleaned_vec)], axis=1)\n",
    "all_data.to_pickle('data/all_data.pkl')"
   ]
  },
  {
   "cell_type": "markdown",
   "metadata": {},
   "source": [
    "## Using GloVe"
   ]
  },
  {
   "cell_type": "code",
   "execution_count": 12,
   "metadata": {
    "collapsed": true,
    "jupyter": {
     "outputs_hidden": true
    }
   },
   "outputs": [
    {
     "ename": "ModuleNotFoundError",
     "evalue": "No module named 'glove'",
     "output_type": "error",
     "traceback": [
      "\u001b[1;31m---------------------------------------------------------------------------\u001b[0m",
      "\u001b[1;31mModuleNotFoundError\u001b[0m                       Traceback (most recent call last)",
      "\u001b[1;32m<ipython-input-12-ba9664e288bc>\u001b[0m in \u001b[0;36m<module>\u001b[1;34m\u001b[0m\n\u001b[1;32m----> 1\u001b[1;33m \u001b[1;32mfrom\u001b[0m \u001b[0mglove\u001b[0m \u001b[1;32mimport\u001b[0m \u001b[0mCorpus\u001b[0m\u001b[1;33m,\u001b[0m \u001b[0mGlove\u001b[0m\u001b[1;33m\u001b[0m\u001b[1;33m\u001b[0m\u001b[0m\n\u001b[0m\u001b[0;32m      2\u001b[0m \u001b[1;33m\u001b[0m\u001b[0m\n\u001b[0;32m      3\u001b[0m \u001b[1;31m#Creating a corpus object\u001b[0m\u001b[1;33m\u001b[0m\u001b[1;33m\u001b[0m\u001b[1;33m\u001b[0m\u001b[0m\n\u001b[0;32m      4\u001b[0m \u001b[0mcorpus\u001b[0m \u001b[1;33m=\u001b[0m \u001b[0mCorpus\u001b[0m\u001b[1;33m(\u001b[0m\u001b[1;33m)\u001b[0m\u001b[1;33m\u001b[0m\u001b[1;33m\u001b[0m\u001b[0m\n\u001b[0;32m      5\u001b[0m \u001b[1;33m\u001b[0m\u001b[0m\n",
      "\u001b[1;31mModuleNotFoundError\u001b[0m: No module named 'glove'"
     ]
    }
   ],
   "source": [
    "from glove import Corpus, Glove\n",
    "\n",
    "#Creating a corpus object\n",
    "corpus = Corpus() \n",
    "\n",
    "#Training the corpus to generate the co occurence matrix which is used in GloVe\n",
    "corpus.fit(lines, window=10)\n",
    "\n",
    "glove = Glove(no_components=5, learning_rate=0.05) \n",
    "glove.fit(corpus.matrix, epochs=30, no_threads=4, verbose=True)\n",
    "glove.add_dictionary(corpus.dictionary)\n",
    "glove.save('glove.model')"
   ]
  },
  {
   "cell_type": "markdown",
   "metadata": {
    "colab_type": "text",
    "id": "8HgUREpugSB5"
   },
   "source": [
    "# Neural Networks\n",
    "\n",
    "Automatic scoring can now be thought of as either a classification or a regression problem. For classification the target variable needs to be one-hot encoded to the range of unique target scores and the output layer of the neural network also needs to have the same dimension. For regression, the target variable and output layer have a single dimension. Where the classification results are approximated or rounded through `softmax` activation and again when reversing the min-max scaling, the regression results are only rounded after scaling. This might be the reason regression performs slightly better on this data set.\n",
    "\n",
    "## Preparing Inputs\n",
    "\n",
    "We could create a new neural network for every prompt type, which probably gives us more taylored neural networks. Or we create one neural network, which allows more examples. In my research, I'm comparing prompt types and their effect on model performance, so I'm passing through each network individually."
   ]
  },
  {
   "cell_type": "code",
   "execution_count": 34,
   "metadata": {},
   "outputs": [
    {
     "data": {
      "text/plain": [
       "(12976, 302)"
      ]
     },
     "execution_count": 34,
     "metadata": {},
     "output_type": "execute_result"
    }
   ],
   "source": [
    "all_data = pd.read_pickle('data/all_data.pkl')\n",
    "all_data.shape"
   ]
  },
  {
   "cell_type": "code",
   "execution_count": 31,
   "metadata": {},
   "outputs": [
    {
     "data": {
      "text/plain": [
       "(12976, 7)"
      ]
     },
     "execution_count": 31,
     "metadata": {},
     "output_type": "execute_result"
    }
   ],
   "source": [
    "# Read generated features from file:\n",
    "additional_features = pd.read_pickle('data/preprocessedTrainingNoEssay.pkl')\n",
    "\n",
    "# Use select features from Gini feature importances\n",
    "feature_list = [  \n",
    "    \"word_count\",\n",
    "    \"TTR\",\n",
    "    \"readability\",\n",
    "    \"unique_token_count\",\n",
    "    \"ner\",\n",
    "    \"sw_ratio\",\n",
    "    \"ners_ratio\"]\n",
    "\n",
    "additional_features = additional_features[feature_list]\n",
    "\n",
    "stdscaler = StandardScaler()\n",
    "additional_features = stdscaler.fit_transform(additional_features)\n",
    "additional_features.shape"
   ]
  },
  {
   "cell_type": "code",
   "execution_count": 33,
   "metadata": {
    "collapsed": true,
    "jupyter": {
     "outputs_hidden": true
    }
   },
   "outputs": [
    {
     "ename": "AttributeError",
     "evalue": "'numpy.ndarray' object has no attribute 'index'",
     "output_type": "error",
     "traceback": [
      "\u001b[1;31m---------------------------------------------------------------------------\u001b[0m",
      "\u001b[1;31mAttributeError\u001b[0m                            Traceback (most recent call last)",
      "\u001b[1;32m<ipython-input-33-09e1ce9ae65f>\u001b[0m in \u001b[0;36m<module>\u001b[1;34m\u001b[0m\n\u001b[0;32m      1\u001b[0m \u001b[1;31m# Combine topic number, target score, additional features and cleaned word vectors\u001b[0m\u001b[1;33m\u001b[0m\u001b[1;33m\u001b[0m\u001b[1;33m\u001b[0m\u001b[0m\n\u001b[1;32m----> 2\u001b[1;33m \u001b[0mall_data\u001b[0m\u001b[1;33m.\u001b[0m\u001b[0mjoin\u001b[0m\u001b[1;33m(\u001b[0m\u001b[0madditional_features\u001b[0m\u001b[1;33m)\u001b[0m\u001b[1;33m\u001b[0m\u001b[1;33m\u001b[0m\u001b[0m\n\u001b[0m\u001b[0;32m      3\u001b[0m \u001b[0mall_data\u001b[0m\u001b[1;33m.\u001b[0m\u001b[0mshape\u001b[0m\u001b[1;33m\u001b[0m\u001b[1;33m\u001b[0m\u001b[0m\n",
      "\u001b[1;32m~\\Anaconda3\\lib\\site-packages\\pandas\\core\\frame.py\u001b[0m in \u001b[0;36mjoin\u001b[1;34m(self, other, on, how, lsuffix, rsuffix, sort)\u001b[0m\n\u001b[0;32m   6813\u001b[0m         \u001b[1;31m# For SparseDataFrame's benefit\u001b[0m\u001b[1;33m\u001b[0m\u001b[1;33m\u001b[0m\u001b[1;33m\u001b[0m\u001b[0m\n\u001b[0;32m   6814\u001b[0m         return self._join_compat(other, on=on, how=how, lsuffix=lsuffix,\n\u001b[1;32m-> 6815\u001b[1;33m                                  rsuffix=rsuffix, sort=sort)\n\u001b[0m\u001b[0;32m   6816\u001b[0m \u001b[1;33m\u001b[0m\u001b[0m\n\u001b[0;32m   6817\u001b[0m     def _join_compat(self, other, on=None, how='left', lsuffix='', rsuffix='',\n",
      "\u001b[1;32m~\\Anaconda3\\lib\\site-packages\\pandas\\core\\frame.py\u001b[0m in \u001b[0;36m_join_compat\u001b[1;34m(self, other, on, how, lsuffix, rsuffix, sort)\u001b[0m\n\u001b[0;32m   6836\u001b[0m             \u001b[0mframes\u001b[0m \u001b[1;33m=\u001b[0m \u001b[1;33m[\u001b[0m\u001b[0mself\u001b[0m\u001b[1;33m]\u001b[0m \u001b[1;33m+\u001b[0m \u001b[0mlist\u001b[0m\u001b[1;33m(\u001b[0m\u001b[0mother\u001b[0m\u001b[1;33m)\u001b[0m\u001b[1;33m\u001b[0m\u001b[1;33m\u001b[0m\u001b[0m\n\u001b[0;32m   6837\u001b[0m \u001b[1;33m\u001b[0m\u001b[0m\n\u001b[1;32m-> 6838\u001b[1;33m             \u001b[0mcan_concat\u001b[0m \u001b[1;33m=\u001b[0m \u001b[0mall\u001b[0m\u001b[1;33m(\u001b[0m\u001b[0mdf\u001b[0m\u001b[1;33m.\u001b[0m\u001b[0mindex\u001b[0m\u001b[1;33m.\u001b[0m\u001b[0mis_unique\u001b[0m \u001b[1;32mfor\u001b[0m \u001b[0mdf\u001b[0m \u001b[1;32min\u001b[0m \u001b[0mframes\u001b[0m\u001b[1;33m)\u001b[0m\u001b[1;33m\u001b[0m\u001b[1;33m\u001b[0m\u001b[0m\n\u001b[0m\u001b[0;32m   6839\u001b[0m \u001b[1;33m\u001b[0m\u001b[0m\n\u001b[0;32m   6840\u001b[0m             \u001b[1;31m# join indexes only using concat\u001b[0m\u001b[1;33m\u001b[0m\u001b[1;33m\u001b[0m\u001b[1;33m\u001b[0m\u001b[0m\n",
      "\u001b[1;32m~\\Anaconda3\\lib\\site-packages\\pandas\\core\\frame.py\u001b[0m in \u001b[0;36m<genexpr>\u001b[1;34m(.0)\u001b[0m\n\u001b[0;32m   6836\u001b[0m             \u001b[0mframes\u001b[0m \u001b[1;33m=\u001b[0m \u001b[1;33m[\u001b[0m\u001b[0mself\u001b[0m\u001b[1;33m]\u001b[0m \u001b[1;33m+\u001b[0m \u001b[0mlist\u001b[0m\u001b[1;33m(\u001b[0m\u001b[0mother\u001b[0m\u001b[1;33m)\u001b[0m\u001b[1;33m\u001b[0m\u001b[1;33m\u001b[0m\u001b[0m\n\u001b[0;32m   6837\u001b[0m \u001b[1;33m\u001b[0m\u001b[0m\n\u001b[1;32m-> 6838\u001b[1;33m             \u001b[0mcan_concat\u001b[0m \u001b[1;33m=\u001b[0m \u001b[0mall\u001b[0m\u001b[1;33m(\u001b[0m\u001b[0mdf\u001b[0m\u001b[1;33m.\u001b[0m\u001b[0mindex\u001b[0m\u001b[1;33m.\u001b[0m\u001b[0mis_unique\u001b[0m \u001b[1;32mfor\u001b[0m \u001b[0mdf\u001b[0m \u001b[1;32min\u001b[0m \u001b[0mframes\u001b[0m\u001b[1;33m)\u001b[0m\u001b[1;33m\u001b[0m\u001b[1;33m\u001b[0m\u001b[0m\n\u001b[0m\u001b[0;32m   6839\u001b[0m \u001b[1;33m\u001b[0m\u001b[0m\n\u001b[0;32m   6840\u001b[0m             \u001b[1;31m# join indexes only using concat\u001b[0m\u001b[1;33m\u001b[0m\u001b[1;33m\u001b[0m\u001b[1;33m\u001b[0m\u001b[0m\n",
      "\u001b[1;31mAttributeError\u001b[0m: 'numpy.ndarray' object has no attribute 'index'"
     ]
    }
   ],
   "source": [
    "# Combine topic number, target score, additional features and cleaned word vectors\n",
    "all_data = pd.concat([training_set[['topic','target_score']], pd.DataFrame(additional_features), pd.DataFrame(cleaned_vec)], axis=1)\n",
    "all_data.shape"
   ]
  },
  {
   "cell_type": "markdown",
   "metadata": {},
   "source": [
    "## Building Model"
   ]
  },
  {
   "cell_type": "code",
   "execution_count": 41,
   "metadata": {
    "colab": {},
    "colab_type": "code",
    "id": "4ry3LUzLgSB9",
    "outputId": "d2ded24b-408e-4673-8682-fc1e9f98e3f4"
   },
   "outputs": [
    {
     "name": "stdout",
     "output_type": "stream",
     "text": [
      "Model: \"sequential_4\"\n",
      "_________________________________________________________________\n",
      "Layer (type)                 Output Shape              Param #   \n",
      "=================================================================\n",
      "dense_7 (Dense)              (None, 14)                4214      \n",
      "_________________________________________________________________\n",
      "dropout_4 (Dropout)          (None, 14)                0         \n",
      "_________________________________________________________________\n",
      "dense_8 (Dense)              (None, 1)                 15        \n",
      "=================================================================\n",
      "Total params: 4,229\n",
      "Trainable params: 4,229\n",
      "Non-trainable params: 0\n",
      "_________________________________________________________________\n"
     ]
    }
   ],
   "source": [
    "# Build model\n",
    "output_dim = 1\n",
    "input_dim = all_data.shape[1]-2\n",
    "dropout = 0.2\n",
    "\n",
    "model = None\n",
    "model = Sequential()\n",
    "\n",
    "# Densely Connected Neural Network (Multi-Layer Perceptron)\n",
    "model.add(Dense(14, activation='relu', kernel_initializer='he_normal', input_dim=input_dim)) \n",
    "model.add(Dropout(dropout))\n",
    "# model.add(Dense(8, activation='relu', kernel_initializer='he_normal'))\n",
    "# model.add(Dropout(dropout))\n",
    "model.add(Dense(output_dim))\n",
    "model.summary()\n",
    "\n",
    "# Compile the model\n",
    "# adam = Adam(lr=0.0001, beta_1=0.9, beta_2=0.999, epsilon=None, decay=0.0, amsgrad=False)\n",
    "adam = Adam(lr=0.001, decay=0.0000001, amsgrad=False)\n",
    "model.compile(optimizer=adam, loss='mse', metrics=['mse','mae'])"
   ]
  },
  {
   "cell_type": "code",
   "execution_count": 42,
   "metadata": {
    "colab": {},
    "colab_type": "code",
    "id": "mkWWr_c6gSB_",
    "outputId": "ac7df5a6-b97b-47bf-8f6d-07554879d945"
   },
   "outputs": [
    {
     "name": "stdout",
     "output_type": "stream",
     "text": [
      "WARNING:tensorflow:From C:\\Users\\David\\Anaconda3\\lib\\site-packages\\keras\\backend\\tensorflow_backend.py:422: The name tf.global_variables is deprecated. Please use tf.compat.v1.global_variables instead.\n",
      "\n",
      "Combined Kappa score: 39.18%\n"
     ]
    }
   ],
   "source": [
    "# Run each topic individually through neural network\n",
    "kappa_list = []\n",
    "weights = []\n",
    "epochs = 100\n",
    "\n",
    "for topic in range(1,9):\n",
    "    # split data\n",
    "    X = all_data[all_data.topic == topic].drop(['topic', 'target_score'], axis=1)\n",
    "    y = all_data[all_data.topic == topic].target_score.to_frame()\n",
    "    X_train, X_test, y_train, y_test = train_test_split(X, y, test_size=0.2, random_state=26)\n",
    "    estimator = model.fit(X_train, y_train,\n",
    "#                       validation_split=0.3,\n",
    "                      epochs=epochs, batch_size=15, verbose=0)\n",
    "    # get predictions\n",
    "    y_pred = pd.DataFrame(model.predict(X_test).reshape(-1))\n",
    "    \n",
    "    # get topic kappa score\n",
    "    kappa_list.append(kappa(y_test.values, y_pred.round(0).astype(int).values, weights='quadratic'))\n",
    "\n",
    "    # get weights (number of essays)\n",
    "    weights.append(y_test.shape[0]/all_data.shape[0])    \n",
    "\n",
    "# get weighted average kappa\n",
    "qwk = mean_quadratic_weighted_kappa(kappa_list, weights=1) # weights)\n",
    "print('Combined Kappa score: {:.2f}%'.format(qwk * 100))"
   ]
  },
  {
   "cell_type": "markdown",
   "metadata": {
    "colab_type": "text",
    "id": "uJBwMwMtgSCB"
   },
   "source": [
    "Again with cross-validation:"
   ]
  },
  {
   "cell_type": "code",
   "execution_count": 43,
   "metadata": {
    "colab": {},
    "colab_type": "code",
    "id": "vqtsJeu-gSCB",
    "outputId": "f94e7fd1-bc8c-4f97-ff3d-7f9b7e56d914"
   },
   "outputs": [
    {
     "name": "stdout",
     "output_type": "stream",
     "text": [
      "Kappa for topic 1 : 0.492%\n"
     ]
    },
    {
     "ename": "KeyboardInterrupt",
     "evalue": "",
     "output_type": "error",
     "traceback": [
      "\u001b[1;31m---------------------------------------------------------------------------\u001b[0m",
      "\u001b[1;31mKeyboardInterrupt\u001b[0m                         Traceback (most recent call last)",
      "\u001b[1;32m<ipython-input-43-cadf0cc58d85>\u001b[0m in \u001b[0;36m<module>\u001b[1;34m\u001b[0m\n\u001b[0;32m     22\u001b[0m         \u001b[0mX_train\u001b[0m\u001b[1;33m,\u001b[0m \u001b[0mX_test\u001b[0m \u001b[1;33m=\u001b[0m \u001b[0mX\u001b[0m\u001b[1;33m.\u001b[0m\u001b[0miloc\u001b[0m\u001b[1;33m[\u001b[0m\u001b[0mtrain\u001b[0m\u001b[1;33m]\u001b[0m\u001b[1;33m,\u001b[0m \u001b[0mX\u001b[0m\u001b[1;33m.\u001b[0m\u001b[0miloc\u001b[0m\u001b[1;33m[\u001b[0m\u001b[0mtest\u001b[0m\u001b[1;33m]\u001b[0m\u001b[1;33m\u001b[0m\u001b[1;33m\u001b[0m\u001b[0m\n\u001b[0;32m     23\u001b[0m         \u001b[0my_train\u001b[0m\u001b[1;33m,\u001b[0m \u001b[0my_test\u001b[0m \u001b[1;33m=\u001b[0m \u001b[0my\u001b[0m\u001b[1;33m.\u001b[0m\u001b[0miloc\u001b[0m\u001b[1;33m[\u001b[0m\u001b[0mtrain\u001b[0m\u001b[1;33m]\u001b[0m\u001b[1;33m,\u001b[0m \u001b[0my\u001b[0m\u001b[1;33m.\u001b[0m\u001b[0miloc\u001b[0m\u001b[1;33m[\u001b[0m\u001b[0mtest\u001b[0m\u001b[1;33m]\u001b[0m\u001b[1;33m\u001b[0m\u001b[1;33m\u001b[0m\u001b[0m\n\u001b[1;32m---> 24\u001b[1;33m         \u001b[0mmodel\u001b[0m\u001b[1;33m.\u001b[0m\u001b[0mfit\u001b[0m\u001b[1;33m(\u001b[0m\u001b[0mX_train\u001b[0m\u001b[1;33m,\u001b[0m \u001b[0my_train\u001b[0m\u001b[1;33m,\u001b[0m \u001b[0mepochs\u001b[0m\u001b[1;33m=\u001b[0m\u001b[1;36m200\u001b[0m\u001b[1;33m,\u001b[0m \u001b[0mbatch_size\u001b[0m\u001b[1;33m=\u001b[0m\u001b[1;36m15\u001b[0m\u001b[1;33m,\u001b[0m \u001b[0mverbose\u001b[0m\u001b[1;33m=\u001b[0m\u001b[1;36m0\u001b[0m\u001b[1;33m)\u001b[0m\u001b[1;33m\u001b[0m\u001b[1;33m\u001b[0m\u001b[0m\n\u001b[0m\u001b[0;32m     25\u001b[0m         \u001b[0my_pred\u001b[0m \u001b[1;33m=\u001b[0m \u001b[0mpd\u001b[0m\u001b[1;33m.\u001b[0m\u001b[0mDataFrame\u001b[0m\u001b[1;33m(\u001b[0m\u001b[0mmodel\u001b[0m\u001b[1;33m.\u001b[0m\u001b[0mpredict\u001b[0m\u001b[1;33m(\u001b[0m\u001b[0mX_test\u001b[0m\u001b[1;33m)\u001b[0m\u001b[1;33m.\u001b[0m\u001b[0mreshape\u001b[0m\u001b[1;33m(\u001b[0m\u001b[1;33m-\u001b[0m\u001b[1;36m1\u001b[0m\u001b[1;33m)\u001b[0m\u001b[1;33m)\u001b[0m\u001b[1;33m\u001b[0m\u001b[1;33m\u001b[0m\u001b[0m\n\u001b[0;32m     26\u001b[0m         kappa_list.append(kappa(y_pred.round(0).astype(int).values, \n",
      "\u001b[1;32m~\\Anaconda3\\lib\\site-packages\\keras\\engine\\training.py\u001b[0m in \u001b[0;36mfit\u001b[1;34m(self, x, y, batch_size, epochs, verbose, callbacks, validation_split, validation_data, shuffle, class_weight, sample_weight, initial_epoch, steps_per_epoch, validation_steps, validation_freq, max_queue_size, workers, use_multiprocessing, **kwargs)\u001b[0m\n\u001b[0;32m   1237\u001b[0m                                         \u001b[0msteps_per_epoch\u001b[0m\u001b[1;33m=\u001b[0m\u001b[0msteps_per_epoch\u001b[0m\u001b[1;33m,\u001b[0m\u001b[1;33m\u001b[0m\u001b[1;33m\u001b[0m\u001b[0m\n\u001b[0;32m   1238\u001b[0m                                         \u001b[0mvalidation_steps\u001b[0m\u001b[1;33m=\u001b[0m\u001b[0mvalidation_steps\u001b[0m\u001b[1;33m,\u001b[0m\u001b[1;33m\u001b[0m\u001b[1;33m\u001b[0m\u001b[0m\n\u001b[1;32m-> 1239\u001b[1;33m                                         validation_freq=validation_freq)\n\u001b[0m\u001b[0;32m   1240\u001b[0m \u001b[1;33m\u001b[0m\u001b[0m\n\u001b[0;32m   1241\u001b[0m     def evaluate(self,\n",
      "\u001b[1;32m~\\Anaconda3\\lib\\site-packages\\keras\\engine\\training_arrays.py\u001b[0m in \u001b[0;36mfit_loop\u001b[1;34m(model, fit_function, fit_inputs, out_labels, batch_size, epochs, verbose, callbacks, val_function, val_inputs, shuffle, initial_epoch, steps_per_epoch, validation_steps, validation_freq)\u001b[0m\n\u001b[0;32m    194\u001b[0m                     \u001b[0mins_batch\u001b[0m\u001b[1;33m[\u001b[0m\u001b[0mi\u001b[0m\u001b[1;33m]\u001b[0m \u001b[1;33m=\u001b[0m \u001b[0mins_batch\u001b[0m\u001b[1;33m[\u001b[0m\u001b[0mi\u001b[0m\u001b[1;33m]\u001b[0m\u001b[1;33m.\u001b[0m\u001b[0mtoarray\u001b[0m\u001b[1;33m(\u001b[0m\u001b[1;33m)\u001b[0m\u001b[1;33m\u001b[0m\u001b[1;33m\u001b[0m\u001b[0m\n\u001b[0;32m    195\u001b[0m \u001b[1;33m\u001b[0m\u001b[0m\n\u001b[1;32m--> 196\u001b[1;33m                 \u001b[0mouts\u001b[0m \u001b[1;33m=\u001b[0m \u001b[0mfit_function\u001b[0m\u001b[1;33m(\u001b[0m\u001b[0mins_batch\u001b[0m\u001b[1;33m)\u001b[0m\u001b[1;33m\u001b[0m\u001b[1;33m\u001b[0m\u001b[0m\n\u001b[0m\u001b[0;32m    197\u001b[0m                 \u001b[0mouts\u001b[0m \u001b[1;33m=\u001b[0m \u001b[0mto_list\u001b[0m\u001b[1;33m(\u001b[0m\u001b[0mouts\u001b[0m\u001b[1;33m)\u001b[0m\u001b[1;33m\u001b[0m\u001b[1;33m\u001b[0m\u001b[0m\n\u001b[0;32m    198\u001b[0m                 \u001b[1;32mfor\u001b[0m \u001b[0ml\u001b[0m\u001b[1;33m,\u001b[0m \u001b[0mo\u001b[0m \u001b[1;32min\u001b[0m \u001b[0mzip\u001b[0m\u001b[1;33m(\u001b[0m\u001b[0mout_labels\u001b[0m\u001b[1;33m,\u001b[0m \u001b[0mouts\u001b[0m\u001b[1;33m)\u001b[0m\u001b[1;33m:\u001b[0m\u001b[1;33m\u001b[0m\u001b[1;33m\u001b[0m\u001b[0m\n",
      "\u001b[1;32m~\\Anaconda3\\lib\\site-packages\\tensorflow\\python\\keras\\backend.py\u001b[0m in \u001b[0;36m__call__\u001b[1;34m(self, inputs)\u001b[0m\n\u001b[0;32m   3290\u001b[0m \u001b[1;33m\u001b[0m\u001b[0m\n\u001b[0;32m   3291\u001b[0m     fetched = self._callable_fn(*array_vals,\n\u001b[1;32m-> 3292\u001b[1;33m                                 run_metadata=self.run_metadata)\n\u001b[0m\u001b[0;32m   3293\u001b[0m     \u001b[0mself\u001b[0m\u001b[1;33m.\u001b[0m\u001b[0m_call_fetch_callbacks\u001b[0m\u001b[1;33m(\u001b[0m\u001b[0mfetched\u001b[0m\u001b[1;33m[\u001b[0m\u001b[1;33m-\u001b[0m\u001b[0mlen\u001b[0m\u001b[1;33m(\u001b[0m\u001b[0mself\u001b[0m\u001b[1;33m.\u001b[0m\u001b[0m_fetches\u001b[0m\u001b[1;33m)\u001b[0m\u001b[1;33m:\u001b[0m\u001b[1;33m]\u001b[0m\u001b[1;33m)\u001b[0m\u001b[1;33m\u001b[0m\u001b[1;33m\u001b[0m\u001b[0m\n\u001b[0;32m   3294\u001b[0m     output_structure = nest.pack_sequence_as(\n",
      "\u001b[1;32m~\\Anaconda3\\lib\\site-packages\\tensorflow\\python\\client\\session.py\u001b[0m in \u001b[0;36m__call__\u001b[1;34m(self, *args, **kwargs)\u001b[0m\n\u001b[0;32m   1456\u001b[0m         ret = tf_session.TF_SessionRunCallable(self._session._session,\n\u001b[0;32m   1457\u001b[0m                                                \u001b[0mself\u001b[0m\u001b[1;33m.\u001b[0m\u001b[0m_handle\u001b[0m\u001b[1;33m,\u001b[0m \u001b[0margs\u001b[0m\u001b[1;33m,\u001b[0m\u001b[1;33m\u001b[0m\u001b[1;33m\u001b[0m\u001b[0m\n\u001b[1;32m-> 1458\u001b[1;33m                                                run_metadata_ptr)\n\u001b[0m\u001b[0;32m   1459\u001b[0m         \u001b[1;32mif\u001b[0m \u001b[0mrun_metadata\u001b[0m\u001b[1;33m:\u001b[0m\u001b[1;33m\u001b[0m\u001b[1;33m\u001b[0m\u001b[0m\n\u001b[0;32m   1460\u001b[0m           \u001b[0mproto_data\u001b[0m \u001b[1;33m=\u001b[0m \u001b[0mtf_session\u001b[0m\u001b[1;33m.\u001b[0m\u001b[0mTF_GetBuffer\u001b[0m\u001b[1;33m(\u001b[0m\u001b[0mrun_metadata_ptr\u001b[0m\u001b[1;33m)\u001b[0m\u001b[1;33m\u001b[0m\u001b[1;33m\u001b[0m\u001b[0m\n",
      "\u001b[1;31mKeyboardInterrupt\u001b[0m: "
     ]
    }
   ],
   "source": [
    "# Cross-validation\n",
    "\n",
    "kappa_dict = {}\n",
    "\n",
    "for topic in range(1,9):\n",
    "    \n",
    "    model = None\n",
    "    # create model\n",
    "    model = Sequential()\n",
    "    model.add(Dense(14, input_dim=input_dim, kernel_initializer='he_normal', activation='relu'))\n",
    "    model.add(Dropout(dropout))\n",
    "    model.add(Dense(1))\n",
    "    # Compile model\n",
    "    model.compile(loss='mean_squared_error', optimizer='adam')\n",
    "\n",
    "    X = all_data[all_data.topic == topic].drop(['topic', 'target_score'], axis=1)\n",
    "    y = all_data[all_data.topic == topic].target_score.to_frame()\n",
    "    # split data\n",
    "    kf = KFold(n_splits=5, random_state=26)\n",
    "    kappa_list = []\n",
    "    for train, test in kf.split(X):\n",
    "        X_train, X_test = X.iloc[train], X.iloc[test]\n",
    "        y_train, y_test = y.iloc[train], y.iloc[test]\n",
    "        model.fit(X_train, y_train, epochs=200, batch_size=15, verbose=0) \n",
    "        y_pred = pd.DataFrame(model.predict(X_test).reshape(-1))\n",
    "        kappa_list.append(kappa(y_pred.round(0).astype(int).values, \n",
    "                        y.iloc[test].values, \n",
    "                        weights='quadratic'))\n",
    "    print(\"Kappa for topic\", topic, \": {:.3f}%\".format(np.mean(kappa_list)))\n",
    "    kappa_dict[topic] = np.mean(kappa_list)\n",
    "\n",
    "mqwk = mean_quadratic_weighted_kappa(list(kappa_dict.values()), weights=1) # weights)\n",
    "print('Combined Kappa score: {:.4f}%'.format(mqwk))"
   ]
  },
  {
   "cell_type": "markdown",
   "metadata": {
    "colab_type": "text",
    "id": "EODOIu59gSCE"
   },
   "source": [
    "Weighted mean kappa score: 0.7844"
   ]
  },
  {
   "cell_type": "markdown",
   "metadata": {
    "colab_type": "text",
    "id": "ViKBZmP8gSCH"
   },
   "source": [
    "## Approach 2: Combine all topics"
   ]
  },
  {
   "cell_type": "markdown",
   "metadata": {
    "colab_type": "text",
    "id": "EAXV1pH5gSCH"
   },
   "source": [
    "An alternative approach to individually fitting each topic is to combine all topics into a single model. Since each topic has a different range of scores, they essay scores need to be scaled to a common min-max range. \n",
    "\n",
    "A new dataframe with the original scores is created and passed through the train, test, split step. This is necessary to ensure proper re-scaling of target scores in cases where either the highest or lowest scores were eliminated in the *split* step."
   ]
  },
  {
   "cell_type": "code",
   "execution_count": 44,
   "metadata": {
    "colab": {},
    "colab_type": "code",
    "id": "MxlXLF-lgSCI"
   },
   "outputs": [],
   "source": [
    "# DataFrame used to pass original values through train_test_split\n",
    "scores = all_data[['topic', 'target_score']].reset_index() \n",
    "\n",
    "# Rescale target_score (essay grades) in range 0 - 60:\n",
    "scaler = MinMaxScaler((0,10))\n",
    "\n",
    "# Use this for classification:\n",
    "# ohe = OneHotEncoder(n_values=61)"
   ]
  },
  {
   "cell_type": "code",
   "execution_count": 45,
   "metadata": {
    "colab": {},
    "colab_type": "code",
    "id": "SK-QMYAHgSCJ"
   },
   "outputs": [],
   "source": [
    "# Rescale and assign target variable y\n",
    "scaled = []\n",
    "for topic in range(1,9):\n",
    "    topic_scores = scores[scores['topic'] == topic]['target_score'].to_frame()\n",
    "    s = (scaler.fit_transform(topic_scores).reshape(-1))\n",
    "    scaled = np.append(scaled, s)\n",
    "    \n",
    "scores['scaled'] = scaled\n",
    "\n",
    "\"\"\"Use this for classification\"\"\"\n",
    "# Caution: using pd.get_dummies might return the wrong number of unique values\n",
    "# y = ohe.fit_transform(scores.scaled.to_frame()) # y = pd.get_dummies(scores.scaled)\n",
    "# print('Number of unique scores after scaling:', unique_scores)\n",
    "# y.shape\n",
    "\n",
    "\"\"\"Use this for regression\"\"\"\n",
    "y = scores['scaled'].to_frame()\n",
    "\n",
    "# Features\n",
    "X = all_data.drop(['topic', 'target_score'], axis=1)"
   ]
  },
  {
   "cell_type": "markdown",
   "metadata": {
    "colab_type": "text",
    "id": "VGEwaypFgSCK"
   },
   "source": [
    "The histogram of scaled target scores show severe class imbalance due to rescaling. Rebalancing is not applied since our metric is insensitive to class imbalance. Although both classification and regression code is shown below, the focus will be on regression."
   ]
  },
  {
   "cell_type": "code",
   "execution_count": 46,
   "metadata": {
    "colab": {},
    "colab_type": "code",
    "id": "SPJOLoiNgSCL",
    "outputId": "1a2c5756-97eb-46e5-9080-c71a6554b9b7"
   },
   "outputs": [
    {
     "data": {
      "image/png": "[encoded data removed]",
      "text/plain": [
       "<Figure size 432x288 with 1 Axes>"
      ]
     },
     "metadata": {
      "needs_background": "light"
     },
     "output_type": "display_data"
    }
   ],
   "source": [
    "# score histogram\n",
    "y.hist(bins=61)\n",
    "plt.title('Histogram of scaled target scores')\n",
    "plt.xlabel('target score')\n",
    "plt.ylabel('count')\n",
    "plt.savefig('image6.png', dpi=300)\n",
    "plt.show()"
   ]
  },
  {
   "cell_type": "code",
   "execution_count": 47,
   "metadata": {
    "colab": {},
    "colab_type": "code",
    "id": "TpqYCZXWgSCM",
    "outputId": "3cd50898-e7e9-4d56-9b86-02490866ec23"
   },
   "outputs": [
    {
     "name": "stdout",
     "output_type": "stream",
     "text": [
      "X_train size: (10380, 300)\n",
      "X_test size: (2596, 300)\n",
      "y_train size: (10380, 1)\n",
      "y_test size: (2596, 1)\n",
      "scores_train size: (10380, 4)\n",
      "scores_test size: (2596, 4)\n"
     ]
    }
   ],
   "source": [
    "from sklearn.model_selection import train_test_split\n",
    "\n",
    "# Data to be split\n",
    "X_train, X_test, y_train, y_test, scores_train, scores_test = \\\n",
    "        train_test_split(\n",
    "                X, \n",
    "                y, \n",
    "                scores,\n",
    "                test_size=0.2, \n",
    "                random_state=26\n",
    "                )\n",
    "\n",
    "print('X_train size: {}'.format(X_train.shape))\n",
    "print('X_test size: {}'.format(X_test.shape))\n",
    "print('y_train size: {}'.format(y_train.shape))\n",
    "print('y_test size: {}'.format(y_test.shape))\n",
    "print('scores_train size: {}'.format(scores_train.shape))\n",
    "print('scores_test size: {}'.format(scores_test.shape))"
   ]
  },
  {
   "cell_type": "code",
   "execution_count": 48,
   "metadata": {
    "colab": {},
    "colab_type": "code",
    "id": "GymtE_jMgSCO"
   },
   "outputs": [],
   "source": [
    "output_dim = y.shape[1]\n",
    "input_dim = X.shape[1]\n",
    "dropout = 0.2\n",
    "\n",
    "def build_model(architecture='mlp'):\n",
    "    model = Sequential()\n",
    "    if architecture == 'mlp':\n",
    "        # Densely Connected Neural Network (Multi-Layer Perceptron)\n",
    "        model.add(Dense(14, activation='relu', kernel_initializer='he_normal', input_dim=input_dim)) \n",
    "        model.add(Dropout(dropout))\n",
    "\n",
    "# Classification:\n",
    "#         model.add(Dense(output_dim, activation='softmax'))\n",
    "\n",
    "# Regression:\n",
    "        model.add(Dense(output_dim))\n",
    "    elif architecture == 'cnn':\n",
    "        # 1-D Convolutional Neural Network\n",
    "        inputs = Input(shape=(input_dim,1))\n",
    "\n",
    "        x = Conv1D(64, 3, strides=1, padding='same', activation='relu')(inputs)\n",
    "\n",
    "        #Cuts the size of the output in half, maxing over every 2 inputs\n",
    "        x = MaxPooling1D(pool_size=2)(x)\n",
    "        x = Conv1D(128, 3, strides=1, padding='same', activation='relu')(x)\n",
    "        x = GlobalMaxPooling1D()(x) \n",
    "        outputs = Dense(output_dim, activation='softmax')(x)\n",
    "\n",
    "        model = Model(inputs=inputs, outputs=outputs, name='CNN')\n",
    "    elif architecture == 'lstm':\n",
    "        # LSTM network\n",
    "        inputs = Input(shape=(input_dim,1))\n",
    "\n",
    "        x = Bidirectional(LSTM(64, return_sequences=True),\n",
    "                          merge_mode='concat')(inputs)\n",
    "        x = Dropout(dropout)(x)\n",
    "        x = Flatten()(x)\n",
    "        outputs = Dense(output_dim, activation='softmax')(x)\n",
    "\n",
    "        model = Model(inputs=inputs, outputs=outputs, name='LSTM')\n",
    "    else:\n",
    "        print('Error: Model type not found.')\n",
    "    return model"
   ]
  },
  {
   "cell_type": "markdown",
   "metadata": {
    "colab_type": "text",
    "id": "P-CpCJ4NgSCP"
   },
   "source": [
    "### Model Architecture\n",
    "\n",
    "Of the three model architectures the multi-layer perceptron, or 'mlp', consistently produced the highest kappa scores in the shortest amount of calculation time. "
   ]
  },
  {
   "cell_type": "code",
   "execution_count": 49,
   "metadata": {
    "colab": {},
    "colab_type": "code",
    "id": "6XXq1lESgSCQ",
    "outputId": "43c34c9f-f79c-4c4a-80d5-b1fc38dc6d05"
   },
   "outputs": [
    {
     "name": "stdout",
     "output_type": "stream",
     "text": [
      "Model: \"sequential_7\"\n",
      "_________________________________________________________________\n",
      "Layer (type)                 Output Shape              Param #   \n",
      "=================================================================\n",
      "dense_13 (Dense)             (None, 14)                4214      \n",
      "_________________________________________________________________\n",
      "dropout_7 (Dropout)          (None, 14)                0         \n",
      "_________________________________________________________________\n",
      "dense_14 (Dense)             (None, 1)                 15        \n",
      "=================================================================\n",
      "Total params: 4,229\n",
      "Trainable params: 4,229\n",
      "Non-trainable params: 0\n",
      "_________________________________________________________________\n"
     ]
    }
   ],
   "source": [
    "# Define keras model\n",
    "model = None\n",
    "# Using MLP in kernel for speed\n",
    "model = build_model('mlp')\n",
    "# model = build_model('cnn')\n",
    "# model = build_model('lstm')\n",
    "\n",
    "# If the model is a CNN then expand the dimensions of the training data\n",
    "if model.name == \"CNN\" or model.name == \"LSTM\":\n",
    "    X_train = np.expand_dims(X_train, axis=2)\n",
    "    X_test = np.expand_dims(X_test, axis=2)\n",
    "    print('Text train shape: ', X_train.shape)\n",
    "    print('Text test shape: ', X_test.shape)\n",
    "    \n",
    "model.summary()"
   ]
  },
  {
   "cell_type": "code",
   "execution_count": 52,
   "metadata": {
    "colab": {},
    "colab_type": "code",
    "id": "tDKo9NnfgSCR"
   },
   "outputs": [],
   "source": [
    "# Compile the model\n",
    "# Optimizer\n",
    "sgd = SGD(lr=0.01, decay=1e-6, momentum=0.9, nesterov=True)\n",
    "# adam = Adam(lr=0.0001, beta_1=0.9, beta_2=0.999, epsilon=None, decay=0.0, amsgrad=False)\n",
    "\n",
    "# Classification:\n",
    "# model.compile(optimizer=adam, loss='categorical_crossentropy', metrics=['acc'])\n",
    "\n",
    "# Regression:\n",
    "model.compile(optimizer=sgd, loss='mse', metrics=['mse','mae'])"
   ]
  },
  {
   "cell_type": "code",
   "execution_count": 53,
   "metadata": {
    "colab": {},
    "colab_type": "code",
    "id": "oT5Gmy1vgSCS"
   },
   "outputs": [],
   "source": [
    "# Define number of epochs\n",
    "epochs = 100\n",
    "\n",
    "# Fit the model to the training data\n",
    "estimator = model.fit(X_train, y_train,\n",
    "#                       validation_split=0.3,\n",
    "                      epochs=epochs, batch_size=15, verbose=0)"
   ]
  },
  {
   "cell_type": "markdown",
   "metadata": {},
   "source": [
    "# Wide & Deep Network"
   ]
  },
  {
   "cell_type": "code",
   "execution_count": null,
   "metadata": {
    "colab": {},
    "colab_type": "code",
    "id": "H8iyQOEsgSB6",
    "outputId": "c34396c5-e269-46a7-c80d-342295568178"
   },
   "outputs": [
    {
     "data": {
      "text/plain": [
       "(12976, 31)"
      ]
     },
     "execution_count": 15,
     "metadata": {
      "tags": []
     },
     "output_type": "execute_result"
    }
   ],
   "source": [
    "# Select and scale features on normal distribution\n",
    "additional_features = pd.read_pickle('preprocessedTrainingNoEssay.pkl')\n",
    "\n",
    "feature_list = [  \n",
    "    \"word_count\",\n",
    "    \"TTR\",\n",
    "    \"readability\",\n",
    "    \"unique_token_count\",\n",
    "    \"ner\",\n",
    "    \"sw_ratio\",\n",
    "    \"ners_ratio\"]\n",
    "\n",
    "additional_features = additional_features[feature_list]\n",
    "\n",
    "stdscaler = StandardScaler()\n",
    "additional_features = stdscaler.fit_transform(additional_features)\n",
    "additional_features.shape"
   ]
  },
  {
   "cell_type": "code",
   "execution_count": null,
   "metadata": {
    "colab": {},
    "colab_type": "code",
    "id": "RrcHL3RAgSB7",
    "outputId": "0ab08968-9671-4060-ff63-ebfea104e426"
   },
   "outputs": [
    {
     "data": {
      "text/plain": [
       "(12976, 333)"
      ]
     },
     "execution_count": 16,
     "metadata": {
      "tags": []
     },
     "output_type": "execute_result"
    }
   ],
   "source": [
    "# Combine topic number, target score, additional features and cleaned word vectors\n",
    "all_data = pd.concat([training_set[['topic','target_score']], pd.DataFrame(additional_features), pd.DataFrame(cleaned_vec)], axis=1)\n",
    "all_data.shape"
   ]
  },
  {
   "cell_type": "markdown",
   "metadata": {
    "colab_type": "text",
    "id": "BYKS0qFxgSCU"
   },
   "source": [
    "### Results"
   ]
  },
  {
   "cell_type": "code",
   "execution_count": 54,
   "metadata": {
    "colab": {},
    "colab_type": "code",
    "id": "qI9anZEkgSCV"
   },
   "outputs": [
    {
     "data": {
      "text/plain": [
       "'Classification: Test set predictions '"
      ]
     },
     "execution_count": 54,
     "metadata": {},
     "output_type": "execute_result"
    }
   ],
   "source": [
    "\"\"\"Classification: Test set predictions \"\"\"\n",
    "# y_proba = model.predict(X_test)\n",
    "# y_pred = pd.Series(y_proba.argmax(axis=-1))\n",
    "\n",
    "# Classification, if using pd.get_dummies:\n",
    "# y_t = pd.Series(y_test.columns[np.where(y_test != 0)[1]])\n",
    "\n",
    "# Classification, if using OneHotEncoder:\n",
    "# y_t = csr_matrix.argmax(y_test, axis=1)\n",
    "# y_t = pd.Series(np.squeeze(np.asarray(y_t)))\n",
    "\n",
    "# Regression, use 'y_test'"
   ]
  },
  {
   "cell_type": "code",
   "execution_count": 55,
   "metadata": {
    "colab": {},
    "colab_type": "code",
    "id": "yGZb9dS1gSCX"
   },
   "outputs": [],
   "source": [
    "\"\"\"\n",
    "Regression\n",
    "True y, not needed for kappa metric because already passed with train, test, split\n",
    "Used to verify reverse scaling\n",
    "\"\"\"\n",
    "y_pred = pd.DataFrame(model.predict(X_test).reshape(-1))"
   ]
  },
  {
   "cell_type": "code",
   "execution_count": 56,
   "metadata": {
    "colab": {},
    "colab_type": "code",
    "id": "Cm2TMc0ZgSCY",
    "outputId": "91dce4ae-7988-499a-86b3-745a9476b89e"
   },
   "outputs": [
    {
     "data": {
      "text/html": [
       "<div>\n",
       "<style scoped>\n",
       "    .dataframe tbody tr th:only-of-type {\n",
       "        vertical-align: middle;\n",
       "    }\n",
       "\n",
       "    .dataframe tbody tr th {\n",
       "        vertical-align: top;\n",
       "    }\n",
       "\n",
       "    .dataframe thead th {\n",
       "        text-align: right;\n",
       "    }\n",
       "</style>\n",
       "<table border=\"1\" class=\"dataframe\">\n",
       "  <thead>\n",
       "    <tr style=\"text-align: right;\">\n",
       "      <th></th>\n",
       "      <th>index</th>\n",
       "      <th>topic</th>\n",
       "      <th>target_score</th>\n",
       "      <th>scaled</th>\n",
       "      <th>y_pred</th>\n",
       "    </tr>\n",
       "  </thead>\n",
       "  <tbody>\n",
       "    <tr>\n",
       "      <th>0</th>\n",
       "      <td>1751</td>\n",
       "      <td>1</td>\n",
       "      <td>10</td>\n",
       "      <td>8.0</td>\n",
       "      <td>6.313411</td>\n",
       "    </tr>\n",
       "    <tr>\n",
       "      <th>1</th>\n",
       "      <td>1075</td>\n",
       "      <td>1</td>\n",
       "      <td>12</td>\n",
       "      <td>10.0</td>\n",
       "      <td>6.444101</td>\n",
       "    </tr>\n",
       "    <tr>\n",
       "      <th>2</th>\n",
       "      <td>383</td>\n",
       "      <td>1</td>\n",
       "      <td>10</td>\n",
       "      <td>8.0</td>\n",
       "      <td>6.584554</td>\n",
       "    </tr>\n",
       "    <tr>\n",
       "      <th>3</th>\n",
       "      <td>706</td>\n",
       "      <td>1</td>\n",
       "      <td>10</td>\n",
       "      <td>8.0</td>\n",
       "      <td>6.738923</td>\n",
       "    </tr>\n",
       "    <tr>\n",
       "      <th>4</th>\n",
       "      <td>831</td>\n",
       "      <td>1</td>\n",
       "      <td>10</td>\n",
       "      <td>8.0</td>\n",
       "      <td>6.746907</td>\n",
       "    </tr>\n",
       "  </tbody>\n",
       "</table>\n",
       "</div>"
      ],
      "text/plain": [
       "   index  topic  target_score  scaled    y_pred\n",
       "0   1751      1            10     8.0  6.313411\n",
       "1   1075      1            12    10.0  6.444101\n",
       "2    383      1            10     8.0  6.584554\n",
       "3    706      1            10     8.0  6.738923\n",
       "4    831      1            10     8.0  6.746907"
      ]
     },
     "execution_count": 56,
     "metadata": {},
     "output_type": "execute_result"
    }
   ],
   "source": [
    "\"\"\"Reverse scaling back to original target score scales\"\"\"\n",
    "\n",
    "# Merge results\n",
    "results = scores_test.reset_index(drop=True)\\\n",
    "                    .join(y_pred)\\\n",
    "                    .rename(columns={0:'y_pred'})\\\n",
    "                    .sort_values(by='topic')\\\n",
    "                    .reset_index(drop=True)\n",
    "results.head()"
   ]
  },
  {
   "cell_type": "markdown",
   "metadata": {
    "colab_type": "text",
    "id": "z5P7YsSagSCZ"
   },
   "source": [
    "Histograms of true and predicted target scores show generally a good agreement with the distribution trend. The plots are somewhat misleading since the scaled target scores have the same number of unique values before and after scaling. Since the Kappa metric calculates the distance, the spread of predicted values is not as worrisome."
   ]
  },
  {
   "cell_type": "code",
   "execution_count": 57,
   "metadata": {
    "colab": {},
    "colab_type": "code",
    "id": "c1Dx9A8CgSCa",
    "outputId": "e1d9b5d7-b4e9-4853-ddb0-6013e1eb99d4"
   },
   "outputs": [
    {
     "data": {
      "image/png": "[encoded data removed]",
      "text/plain": [
       "<Figure size 648x648 with 8 Axes>"
      ]
     },
     "metadata": {
      "needs_background": "light"
     },
     "output_type": "display_data"
    }
   ],
   "source": [
    "topic_number = 0\n",
    "fig, ax = plt.subplots(4,2, figsize=(9,9), sharey=False)\n",
    "for i in range(4):\n",
    "    for j in range(2):\n",
    "        topic_number += 1\n",
    "        results[results['topic'] == topic_number]\\\n",
    "            [['scaled', 'y_pred']]\\\n",
    "            .plot.hist(histtype='step', bins=20, ax=ax[i, j], rot=0)\n",
    "        ax[i,j].set_title('Topic %i' % topic_number)\n",
    "ax[3,0].locator_params(nbins=10)\n",
    "ax[3,1].locator_params(nbins=10)\n",
    "plt.suptitle('Scaled prediction errors')\n",
    "plt.tight_layout(rect=[0, 0.03, 1, 0.95])\n",
    "plt.show()"
   ]
  },
  {
   "cell_type": "markdown",
   "metadata": {
    "colab_type": "text",
    "id": "VeYxPUV5gSCb"
   },
   "source": [
    "Prediction errors are greatest at the highest and lowest scores. Typically, the extreme scores have low representation and therefore the highest expected variance, therefore this is, once again, less worrisome."
   ]
  },
  {
   "cell_type": "code",
   "execution_count": 60,
   "metadata": {
    "colab": {},
    "colab_type": "code",
    "id": "esSxgCK3gSCb",
    "outputId": "679dadc5-3cb3-45c1-f41a-c7a47e4182c8"
   },
   "outputs": [
    {
     "ename": "KeyError",
     "evalue": "'Column not found: diff'",
     "output_type": "error",
     "traceback": [
      "\u001b[1;31m---------------------------------------------------------------------------\u001b[0m",
      "\u001b[1;31mKeyError\u001b[0m                                  Traceback (most recent call last)",
      "\u001b[1;32m<ipython-input-60-4f5678ee3dda>\u001b[0m in \u001b[0;36m<module>\u001b[1;34m\u001b[0m\n\u001b[0;32m      5\u001b[0m         \u001b[0mtopic_number\u001b[0m \u001b[1;33m+=\u001b[0m \u001b[1;36m1\u001b[0m\u001b[1;33m\u001b[0m\u001b[1;33m\u001b[0m\u001b[0m\n\u001b[0;32m      6\u001b[0m         \u001b[0mresults\u001b[0m\u001b[1;33m[\u001b[0m\u001b[0mresults\u001b[0m\u001b[1;33m[\u001b[0m\u001b[1;34m'topic'\u001b[0m\u001b[1;33m]\u001b[0m \u001b[1;33m==\u001b[0m \u001b[0mtopic_number\u001b[0m\u001b[1;33m]\u001b[0m\u001b[0;31m\\\u001b[0m\u001b[1;33m\u001b[0m\u001b[1;33m\u001b[0m\u001b[0m\n\u001b[1;32m----> 7\u001b[1;33m             \u001b[1;33m.\u001b[0m\u001b[0mgroupby\u001b[0m\u001b[1;33m(\u001b[0m\u001b[1;34m'target_score'\u001b[0m\u001b[1;33m)\u001b[0m\u001b[1;33m[\u001b[0m\u001b[1;34m'diff'\u001b[0m\u001b[1;33m]\u001b[0m\u001b[0;31m\\\u001b[0m\u001b[1;33m\u001b[0m\u001b[1;33m\u001b[0m\u001b[0m\n\u001b[0m\u001b[0;32m      8\u001b[0m             \u001b[1;33m.\u001b[0m\u001b[0mmedian\u001b[0m\u001b[1;33m(\u001b[0m\u001b[1;33m)\u001b[0m\u001b[0;31m\\\u001b[0m\u001b[1;33m\u001b[0m\u001b[1;33m\u001b[0m\u001b[0m\n\u001b[0;32m      9\u001b[0m             \u001b[1;33m.\u001b[0m\u001b[0mplot\u001b[0m\u001b[1;33m.\u001b[0m\u001b[0mbar\u001b[0m\u001b[1;33m(\u001b[0m\u001b[0max\u001b[0m\u001b[1;33m=\u001b[0m\u001b[0max\u001b[0m\u001b[1;33m[\u001b[0m\u001b[0mi\u001b[0m\u001b[1;33m,\u001b[0m \u001b[0mj\u001b[0m\u001b[1;33m]\u001b[0m\u001b[1;33m,\u001b[0m \u001b[0mrot\u001b[0m\u001b[1;33m=\u001b[0m\u001b[1;36m0\u001b[0m\u001b[1;33m)\u001b[0m\u001b[1;33m\u001b[0m\u001b[1;33m\u001b[0m\u001b[0m\n",
      "\u001b[1;32m~\\Anaconda3\\lib\\site-packages\\pandas\\core\\base.py\u001b[0m in \u001b[0;36m__getitem__\u001b[1;34m(self, key)\u001b[0m\n\u001b[0;32m    273\u001b[0m         \u001b[1;32melse\u001b[0m\u001b[1;33m:\u001b[0m\u001b[1;33m\u001b[0m\u001b[1;33m\u001b[0m\u001b[0m\n\u001b[0;32m    274\u001b[0m             \u001b[1;32mif\u001b[0m \u001b[0mkey\u001b[0m \u001b[1;32mnot\u001b[0m \u001b[1;32min\u001b[0m \u001b[0mself\u001b[0m\u001b[1;33m.\u001b[0m\u001b[0mobj\u001b[0m\u001b[1;33m:\u001b[0m\u001b[1;33m\u001b[0m\u001b[1;33m\u001b[0m\u001b[0m\n\u001b[1;32m--> 275\u001b[1;33m                 \u001b[1;32mraise\u001b[0m \u001b[0mKeyError\u001b[0m\u001b[1;33m(\u001b[0m\u001b[1;34m\"Column not found: {key}\"\u001b[0m\u001b[1;33m.\u001b[0m\u001b[0mformat\u001b[0m\u001b[1;33m(\u001b[0m\u001b[0mkey\u001b[0m\u001b[1;33m=\u001b[0m\u001b[0mkey\u001b[0m\u001b[1;33m)\u001b[0m\u001b[1;33m)\u001b[0m\u001b[1;33m\u001b[0m\u001b[1;33m\u001b[0m\u001b[0m\n\u001b[0m\u001b[0;32m    276\u001b[0m             \u001b[1;32mreturn\u001b[0m \u001b[0mself\u001b[0m\u001b[1;33m.\u001b[0m\u001b[0m_gotitem\u001b[0m\u001b[1;33m(\u001b[0m\u001b[0mkey\u001b[0m\u001b[1;33m,\u001b[0m \u001b[0mndim\u001b[0m\u001b[1;33m=\u001b[0m\u001b[1;36m1\u001b[0m\u001b[1;33m)\u001b[0m\u001b[1;33m\u001b[0m\u001b[1;33m\u001b[0m\u001b[0m\n\u001b[0;32m    277\u001b[0m \u001b[1;33m\u001b[0m\u001b[0m\n",
      "\u001b[1;31mKeyError\u001b[0m: 'Column not found: diff'"
     ]
    },
    {
     "data": {
      "image/png": "[encoded data removed]",
      "text/plain": [
       "<Figure size 648x648 with 8 Axes>"
      ]
     },
     "metadata": {
      "needs_background": "light"
     },
     "output_type": "display_data"
    }
   ],
   "source": [
    "topic_number = 0\n",
    "fig, ax = plt.subplots(4,2, figsize=(9,9), sharey=False)\n",
    "for i in range(4):\n",
    "    for j in range(2):\n",
    "        topic_number += 1\n",
    "        results[results['topic'] == topic_number]\\\n",
    "            .groupby('target_score')['diff']\\\n",
    "            .median()\\\n",
    "            .plot.bar(ax=ax[i, j], rot=0)\n",
    "        ax[i,j].set_title('Topic %i' % topic_number)\n",
    "ax[3,0].locator_params(nbins=10)\n",
    "ax[3,1].locator_params(nbins=10)\n",
    "plt.suptitle('Scaled prediction errors')\n",
    "plt.tight_layout(rect=[0, 0.03, 1, 0.95])\n",
    "plt.show()"
   ]
  },
  {
   "cell_type": "code",
   "execution_count": 59,
   "metadata": {
    "colab": {},
    "colab_type": "code",
    "id": "MhoMRwmqgSCd",
    "outputId": "38e4dd9c-de92-4b0f-8186-5140a9e5b228"
   },
   "outputs": [
    {
     "data": {
      "text/html": [
       "<div>\n",
       "<style scoped>\n",
       "    .dataframe tbody tr th:only-of-type {\n",
       "        vertical-align: middle;\n",
       "    }\n",
       "\n",
       "    .dataframe tbody tr th {\n",
       "        vertical-align: top;\n",
       "    }\n",
       "\n",
       "    .dataframe thead th {\n",
       "        text-align: right;\n",
       "    }\n",
       "</style>\n",
       "<table border=\"1\" class=\"dataframe\">\n",
       "  <thead>\n",
       "    <tr style=\"text-align: right;\">\n",
       "      <th></th>\n",
       "      <th>index</th>\n",
       "      <th>topic</th>\n",
       "      <th>target_score</th>\n",
       "      <th>scaled</th>\n",
       "      <th>y_pred</th>\n",
       "      <th>pred</th>\n",
       "      <th>y_true</th>\n",
       "    </tr>\n",
       "  </thead>\n",
       "  <tbody>\n",
       "    <tr>\n",
       "      <th>0</th>\n",
       "      <td>1751</td>\n",
       "      <td>1</td>\n",
       "      <td>10</td>\n",
       "      <td>8.0</td>\n",
       "      <td>6.313411</td>\n",
       "      <td>8</td>\n",
       "      <td>10</td>\n",
       "    </tr>\n",
       "    <tr>\n",
       "      <th>1</th>\n",
       "      <td>1075</td>\n",
       "      <td>1</td>\n",
       "      <td>12</td>\n",
       "      <td>10.0</td>\n",
       "      <td>6.444101</td>\n",
       "      <td>9</td>\n",
       "      <td>12</td>\n",
       "    </tr>\n",
       "    <tr>\n",
       "      <th>2</th>\n",
       "      <td>383</td>\n",
       "      <td>1</td>\n",
       "      <td>10</td>\n",
       "      <td>8.0</td>\n",
       "      <td>6.584554</td>\n",
       "      <td>9</td>\n",
       "      <td>10</td>\n",
       "    </tr>\n",
       "    <tr>\n",
       "      <th>3</th>\n",
       "      <td>706</td>\n",
       "      <td>1</td>\n",
       "      <td>10</td>\n",
       "      <td>8.0</td>\n",
       "      <td>6.738923</td>\n",
       "      <td>9</td>\n",
       "      <td>10</td>\n",
       "    </tr>\n",
       "    <tr>\n",
       "      <th>4</th>\n",
       "      <td>831</td>\n",
       "      <td>1</td>\n",
       "      <td>10</td>\n",
       "      <td>8.0</td>\n",
       "      <td>6.746907</td>\n",
       "      <td>9</td>\n",
       "      <td>10</td>\n",
       "    </tr>\n",
       "  </tbody>\n",
       "</table>\n",
       "</div>"
      ],
      "text/plain": [
       "   index  topic  target_score  scaled    y_pred  pred  y_true\n",
       "0   1751      1            10     8.0  6.313411     8      10\n",
       "1   1075      1            12    10.0  6.444101     9      12\n",
       "2    383      1            10     8.0  6.584554     9      10\n",
       "3    706      1            10     8.0  6.738923     9      10\n",
       "4    831      1            10     8.0  6.746907     9      10"
      ]
     },
     "execution_count": 59,
     "metadata": {},
     "output_type": "execute_result"
    }
   ],
   "source": [
    "\"\"\" Create list of tuples with min/max target scores sorted by topic number.\n",
    " Performed here on results in case min/max values didn't pass through train_test_split\"\"\"\n",
    "\n",
    "score_df = results.groupby('topic')['target_score'].agg(['min', 'max'])  \n",
    "score_ranges = list(zip(score_df['min'], score_df['max'])) \n",
    "\n",
    "\"\"\"Shrink back to original range by topic number:\"\"\"\n",
    "y_p_df = pd.Series()\n",
    "y_t_df = pd.Series()\n",
    "\n",
    "for topic in range(1,9):\n",
    "    scaler = MinMaxScaler(score_ranges[topic-1])\n",
    "    scaled_pred = results[results.topic == topic]['y_pred'].to_frame()\n",
    "    y_pred_shrunk = scaler.fit_transform(scaled_pred).round(0).astype('int')\n",
    "    scaled_true = results[results.topic == topic]['scaled'].to_frame()\n",
    "    y_true_shrunk = scaler.fit_transform(scaled_true).round(0).astype('int')\n",
    "    y_p_df = y_p_df.append(pd.Series(np.squeeze(np.asarray(y_pred_shrunk))), ignore_index=True)\n",
    "    y_t_df = y_t_df.append(pd.Series(np.squeeze(np.asarray(y_true_shrunk))), ignore_index=True)\n",
    "    \n",
    "# Append to results df\n",
    "results['pred'] = y_p_df\n",
    "results['y_true'] = y_t_df\n",
    "results.head()"
   ]
  },
  {
   "cell_type": "markdown",
   "metadata": {
    "colab_type": "text",
    "id": "bOzOR7KvgSCe"
   },
   "source": [
    "The close agreement between true and predicted essay scores becomes apparent after re-scaling to their original ranges and plotting on a log scale by count."
   ]
  },
  {
   "cell_type": "code",
   "execution_count": 61,
   "metadata": {
    "colab": {},
    "colab_type": "code",
    "id": "XbGw9vsxgSCf",
    "outputId": "b1cbd331-1067-4722-f635-19b69daabef8"
   },
   "outputs": [
    {
     "data": {
      "image/png": "[encoded data removed]",
      "text/plain": [
       "<Figure size 432x288 with 1 Axes>"
      ]
     },
     "metadata": {
      "needs_background": "light"
     },
     "output_type": "display_data"
    }
   ],
   "source": [
    "# score histogram\n",
    "\n",
    "results[['pred', 'y_true']].plot.hist(histtype='step', bins=20, logy=True)\n",
    "plt.title('Histogram of target scores')\n",
    "plt.xlabel('target score')\n",
    "plt.ylabel('log count')\n",
    "plt.savefig('image8.png', dpi=300)\n",
    "plt.show()"
   ]
  },
  {
   "cell_type": "code",
   "execution_count": null,
   "metadata": {
    "colab": {},
    "colab_type": "code",
    "id": "UewcrEUygSCg"
   },
   "outputs": [],
   "source": [
    "# Classification accuracy:\n",
    "# print(\"Training accuracy: %.2f%% / Validation accuracy: %.2f%%\" % \n",
    "#       (100*estimator.history['acc'][-1], 100*estimator.history['val_acc'][-1]))"
   ]
  },
  {
   "cell_type": "markdown",
   "metadata": {
    "colab_type": "text",
    "id": "tpmSrhpGgSCh"
   },
   "source": [
    "### A note on kappa scores\n",
    "\n",
    "Some previous studies apply the kappa metric directly to the complete set of essays. Due to the differences in scale, essay topics (sets) that have a narrow scoring range will end up with significantly smaller weighted distances and thus artificially high kappa scores. Kappa scores of up to 94.5% have been reported with this metric.\n",
    "\n",
    "Other studies calculate the kappa score for each topic individually and then report the geometric mean.\n",
    "\n",
    "The method most likely used in the original Kaggle competition (there is some doubt whether the published code matches the one actually used), uses the quadratic weighted kappa for each set individually and then calculates the mean of the quadratic weighted kappas after applying Fisher's r-to-z transform, which is approximately a variance-stabilizing transformation. Each set is weighted by a factor of one, except for topic 2 which has two domain raters which are each weighted 0.5. It is not clear why the scores are not weighted by the number of essays in each set, then again, the actual formulas used in the competition have not been published.\n",
    "\n",
    "The kappa scores from the original competition were based on comparison to unpublished test data scores. Since all published work on this data set only used the training data set, kappas cannot be compared directly to competition results.\n",
    "\n",
    "Finally, most published work used a subset of essay sets (topics). Omitting topics is likely going to change kappa scores for better or worse."
   ]
  },
  {
   "cell_type": "code",
   "execution_count": 62,
   "metadata": {
    "colab": {},
    "colab_type": "code",
    "id": "Um23X62ZgSCi",
    "outputId": "eb1e29d2-8e42-4c5b-940e-ceba4b44d240"
   },
   "outputs": [
    {
     "name": "stdout",
     "output_type": "stream",
     "text": [
      "Combined essay kappa score: 0.7265\n"
     ]
    }
   ],
   "source": [
    "k = kappa(results.pred, results.target_score, weights='quadratic')\n",
    "print('Combined essay kappa score: {:.4f}'.format(k))"
   ]
  },
  {
   "cell_type": "markdown",
   "metadata": {
    "colab_type": "text",
    "id": "SMKcoSEvgSCj"
   },
   "source": [
    "The combined essay topics kappa score is much higher than that obtained from individual topics, however, as noted above, this is deceptive, as shown in a recalculation below:"
   ]
  },
  {
   "cell_type": "code",
   "execution_count": 63,
   "metadata": {
    "colab": {},
    "colab_type": "code",
    "id": "2-InTsIYgSCj",
    "outputId": "12aec8f0-d837-4db8-e786-e4aa3124d10a"
   },
   "outputs": [
    {
     "name": "stdout",
     "output_type": "stream",
     "text": [
      "Weighted by topic Kappa score: 32.02%\n"
     ]
    }
   ],
   "source": [
    "qwk = []\n",
    "# weights = []\n",
    "for topic in range(1,9):\n",
    "    qwk.append(\n",
    "            kappa(results[results.topic == topic]['target_score'], \n",
    "                  results[results.topic == topic]['pred'],\n",
    "                    weights='quadratic'))\n",
    "#     weights.append(len(results[results.topic==topic])/X_test.shape[0])    \n",
    "mqwk = mean_quadratic_weighted_kappa(qwk, weights=1)\n",
    "print('Weighted by topic Kappa score: {:.2f}%'.format(mqwk * 100))"
   ]
  },
  {
   "cell_type": "code",
   "execution_count": 64,
   "metadata": {
    "colab": {},
    "colab_type": "code",
    "id": "G1ki-r6agSCl",
    "outputId": "04b6c181-3b7d-4a70-b83e-aa997b1e43ba"
   },
   "outputs": [
    {
     "data": {
      "text/plain": [
       "[0.4120360463180922,\n",
       " 0.08587386363334548,\n",
       " 0.23864434800578627,\n",
       " 0.5226503923278116,\n",
       " 0.3999583087238995,\n",
       " 0.4733246682586222,\n",
       " 0.3100440019752859,\n",
       " 0.04858649790903102]"
      ]
     },
     "execution_count": 64,
     "metadata": {},
     "output_type": "execute_result"
    }
   ],
   "source": [
    "qwk"
   ]
  },
  {
   "cell_type": "code",
   "execution_count": 65,
   "metadata": {
    "colab": {},
    "colab_type": "code",
    "id": "nXi3NAawgSCm",
    "outputId": "cec69b82-0211-4f8d-ba92-78735ebdf146"
   },
   "outputs": [
    {
     "name": "stdout",
     "output_type": "stream",
     "text": [
      "Weighted by topic Kappa score: 0.7612\n"
     ]
    }
   ],
   "source": [
    "# kappa for two human raters\n",
    "qwk = []\n",
    "# weights = []\n",
    "for topic in range(1,9):\n",
    "    qwk.append(\n",
    "            kappa(training_set[training_set.topic == topic]['rater1_domain1'], \n",
    "                  training_set[training_set.topic == topic]['rater2_domain1'],\n",
    "                    weights='quadratic'))\n",
    "#     weights.append(len(results[results.topic==topic])/X_test.shape[0])    \n",
    "mqwk = mean_quadratic_weighted_kappa(qwk, weights=1)\n",
    "print('Weighted by topic Kappa score: {:.4f}'.format(mqwk))"
   ]
  },
  {
   "cell_type": "code",
   "execution_count": 66,
   "metadata": {
    "colab": {},
    "colab_type": "code",
    "id": "lViNt-AzgSCo",
    "outputId": "31da29dc-69e3-47ec-90b5-d8106d4dc13a"
   },
   "outputs": [
    {
     "data": {
      "image/png": "[encoded data removed]",
      "text/plain": [
       "<Figure size 576x576 with 8 Axes>"
      ]
     },
     "metadata": {
      "needs_background": "light"
     },
     "output_type": "display_data"
    }
   ],
   "source": [
    "topic_number = 0\n",
    "fig, ax = plt.subplots(4,2, figsize=(8,8), sharey=False)\n",
    "for i in range(4):\n",
    "    for j in range(2):\n",
    "        topic_number += 1\n",
    "        results[results['topic'] == topic_number]\\\n",
    "            .groupby('y_true')['y_true']\\\n",
    "            .agg('count')\\\n",
    "            .plot.bar(ax=ax[i, j], rot=0, fill=False, ec='b', label='actual')\n",
    "        results[results['topic'] == topic_number]\\\n",
    "            .groupby('pred')['pred']\\\n",
    "            .agg('count')\\\n",
    "            .plot.bar(ax=ax[i, j], rot=0, fill=False, ec='r', label='prediction')\n",
    "        ax[i,j].set_title('Topic %i' % topic_number)\n",
    "ax[3,0].locator_params(nbins=10)\n",
    "ax[3,1].locator_params(nbins=10)\n",
    "plt.suptitle('Histograms of predicted essay scores')\n",
    "plt.legend(bbox_to_anchor=(1.0, 1.05))\n",
    "plt.tight_layout(rect=[0, 0.03, 1, 0.95])\n",
    "plt.show()"
   ]
  },
  {
   "cell_type": "code",
   "execution_count": 76,
   "metadata": {
    "colab": {},
    "colab_type": "code",
    "id": "ttsuc-eNgSCp",
    "outputId": "96a2e04d-7c09-4946-9985-29a446e2327a"
   },
   "outputs": [
    {
     "data": {
      "image/png": "[encoded data removed]",
      "text/plain": [
       "<Figure size 640x480 with 1 Axes>"
      ]
     },
     "metadata": {},
     "output_type": "display_data"
    },
    {
     "ename": "KeyError",
     "evalue": "'val_loss'",
     "output_type": "error",
     "traceback": [
      "\u001b[1;31m---------------------------------------------------------------------------\u001b[0m",
      "\u001b[1;31mKeyError\u001b[0m                                  Traceback (most recent call last)",
      "\u001b[1;32m<ipython-input-76-0fedba302ee9>\u001b[0m in \u001b[0;36m<module>\u001b[1;34m\u001b[0m\n\u001b[0;32m     16\u001b[0m \u001b[1;31m# Plot model loss over epochs\u001b[0m\u001b[1;33m\u001b[0m\u001b[1;33m\u001b[0m\u001b[1;33m\u001b[0m\u001b[0m\n\u001b[0;32m     17\u001b[0m \u001b[0mplt\u001b[0m\u001b[1;33m.\u001b[0m\u001b[0mplot\u001b[0m\u001b[1;33m(\u001b[0m\u001b[0mestimator\u001b[0m\u001b[1;33m.\u001b[0m\u001b[0mhistory\u001b[0m\u001b[1;33m[\u001b[0m\u001b[1;34m'loss'\u001b[0m\u001b[1;33m]\u001b[0m\u001b[1;33m)\u001b[0m\u001b[1;33m\u001b[0m\u001b[1;33m\u001b[0m\u001b[0m\n\u001b[1;32m---> 18\u001b[1;33m \u001b[0mplt\u001b[0m\u001b[1;33m.\u001b[0m\u001b[0mplot\u001b[0m\u001b[1;33m(\u001b[0m\u001b[0mestimator\u001b[0m\u001b[1;33m.\u001b[0m\u001b[0mhistory\u001b[0m\u001b[1;33m[\u001b[0m\u001b[1;34m'val_loss'\u001b[0m\u001b[1;33m]\u001b[0m\u001b[1;33m)\u001b[0m\u001b[1;33m\u001b[0m\u001b[1;33m\u001b[0m\u001b[0m\n\u001b[0m\u001b[0;32m     19\u001b[0m \u001b[0mplt\u001b[0m\u001b[1;33m.\u001b[0m\u001b[0mtitle\u001b[0m\u001b[1;33m(\u001b[0m\u001b[1;34m'model loss'\u001b[0m\u001b[1;33m)\u001b[0m\u001b[1;33m\u001b[0m\u001b[1;33m\u001b[0m\u001b[0m\n\u001b[0;32m     20\u001b[0m \u001b[0mplt\u001b[0m\u001b[1;33m.\u001b[0m\u001b[0mylabel\u001b[0m\u001b[1;33m(\u001b[0m\u001b[1;34m'loss'\u001b[0m\u001b[1;33m)\u001b[0m\u001b[1;33m\u001b[0m\u001b[1;33m\u001b[0m\u001b[0m\n",
      "\u001b[1;31mKeyError\u001b[0m: 'val_loss'"
     ]
    },
    {
     "data": {
      "image/png": "[encoded data removed]",
      "text/plain": [
       "<Figure size 640x480 with 1 Axes>"
      ]
     },
     "metadata": {},
     "output_type": "display_data"
    }
   ],
   "source": [
    "\"\"\"\n",
    "Use this for plotting regression mean-squared error\n",
    "Validation split must be enabled during model fit.\n",
    "\"\"\"\n",
    "# Plot model mse over epochs\n",
    "sns.reset_orig()   # Reset seaborn settings to get rid of black background\n",
    "plt.plot(estimator.history['mse'])\n",
    "plt.plot(estimator.history['val_mean_squared_error'])\n",
    "plt.title('model MSE')\n",
    "plt.ylabel('mse')\n",
    "plt.xlabel('epoch')\n",
    "plt.legend(['train', 'valid'], loc='upper left')\n",
    "# plt.ylim(0,300)\n",
    "plt.show()\n",
    "\n",
    "# Plot model loss over epochs\n",
    "plt.plot(estimator.history['loss'])\n",
    "plt.plot(estimator.history['val_loss'])\n",
    "plt.title('model loss')\n",
    "plt.ylabel('loss')\n",
    "plt.xlabel('epoch')\n",
    "plt.legend(['train', 'valid'], loc='upper left')\n",
    "plt.show()"
   ]
  },
  {
   "cell_type": "markdown",
   "metadata": {
    "colab_type": "text",
    "id": "IRQwstCbgSCq"
   },
   "source": [
    "The most significant improvement occurs in the first 10 or 20 epochs, however the model continues to improve slightly with additional epochs."
   ]
  },
  {
   "cell_type": "code",
   "execution_count": null,
   "metadata": {
    "colab": {},
    "colab_type": "code",
    "id": "eUXuDqGNgSCr"
   },
   "outputs": [],
   "source": [
    "\"\"\"Use this for plotting classification accuracy\"\"\"\n",
    "# # Plot model accuracy over epochs\n",
    "# sns.reset_orig()   # Reset seaborn settings to get rid of black background\n",
    "# plt.plot(estimator.history['acc'])\n",
    "# plt.plot(estimator.history['val_acc'])\n",
    "# plt.title('model accuracy')\n",
    "# plt.ylabel('accuracy')\n",
    "# plt.xlabel('epoch')\n",
    "# plt.legend(['train', 'valid'], loc='upper left')\n",
    "# plt.show()\n",
    "\n",
    "# # Plot model loss over epochs\n",
    "# plt.plot(estimator.history['loss'])\n",
    "# plt.plot(estimator.history['val_loss'])\n",
    "# plt.title('model loss')\n",
    "# plt.ylabel('loss')\n",
    "# plt.xlabel('epoch')\n",
    "# plt.legend(['train', 'valid'], loc='upper left')\n",
    "# plt.show()"
   ]
  },
  {
   "cell_type": "code",
   "execution_count": null,
   "metadata": {
    "colab": {},
    "colab_type": "code",
    "id": "_TsosR85gSCt",
    "outputId": "d7a9e3ff-e045-496c-9976-b03619f78f5a"
   },
   "outputs": [
    {
     "name": "stdout",
     "output_type": "stream",
     "text": [
      "0.0% of target scores did not revert back to their original value.\n"
     ]
    }
   ],
   "source": [
    "# Check for scaling errors\n",
    "errors = len(results.query('y_true != target_score')[['topic', 'target_score', 'y_true']])\n",
    "\n",
    "print('{:.1f}% of target scores did not revert back to their original value.'.format(errors/results.shape[0] * 100))"
   ]
  },
  {
   "cell_type": "markdown",
   "metadata": {
    "colab_type": "text",
    "id": "Nv91FqokgSCu"
   },
   "source": [
    "## Summary\n",
    "\n",
    "Adding Word2Vec word embeddings to the feature set and applying a neural network model produces superior results compared to traditional machine learning algorithms. \n",
    "\n",
    "Of all the model architectures attempted, a multi-layer perceptron with surprisingly few nodes in the hidden layer returned the highest Kappa score. Additional hidden layers did not improve the model.\n",
    "\n",
    "Automatic scoring can be framed as both a classification or a regression problem. The highest target metrics (mean quadratic weighted kappa) were found using regression analysis.\n",
    "\n",
    "Comparisons to the original Kaggle competition and later attempts are often unfair due to differences in data sets and methods of calculating kappa. The results obtained in this notebook are among the highest, if not the highest currently published."
   ]
  },
  {
   "cell_type": "markdown",
   "metadata": {
    "colab_type": "text",
    "id": "-O0wBzU8gSCv"
   },
   "source": [
    "## Outlook\n",
    "\n",
    "Additional optimization is definitely possibly by tweaking hyperparameters and calculating more epochs. Additional features could be extracted and added to the feature set. While this would almost certainly result in higher kappa scores, the additional gain wouldn't outweigh the benefit. Perhaps the biggest obstacle is the limited data. If some day scores for the validation and test data sets are released, it would be worthwhile revisiting the problem set."
   ]
  }
 ],
 "metadata": {
  "colab": {
   "name": "Turanga1 Neural.ipynb",
   "provenance": [],
   "toc_visible": true
  },
  "kernelspec": {
   "display_name": "Python 3",
   "language": "python",
   "name": "python3"
  },
  "language_info": {
   "codemirror_mode": {
    "name": "ipython",
    "version": 3
   },
   "file_extension": ".py",
   "mimetype": "text/x-python",
   "name": "python",
   "nbconvert_exporter": "python",
   "pygments_lexer": "ipython3",
   "version": "3.7.3"
  }
 },
 "nbformat": 4,
 "nbformat_minor": 4
}
