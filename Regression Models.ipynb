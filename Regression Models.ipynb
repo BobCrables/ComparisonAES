{
 "cells": [
  {
   "cell_type": "markdown",
   "metadata": {
    "colab_type": "text",
    "id": "nmjxqT8Ttwxp"
   },
   "source": [
    "# Import Packages & Data"
   ]
  },
  {
   "cell_type": "code",
   "execution_count": 3,
   "metadata": {
    "colab": {
     "base_uri": "https://localhost:8080/",
     "height": 34
    },
    "colab_type": "code",
    "executionInfo": {
     "elapsed": 383,
     "status": "ok",
     "timestamp": 1578442262631,
     "user": {
      "displayName": "David Heineman",
      "photoUrl": "https://lh3.googleusercontent.com/a-/AAuE7mAgJIHLW2iXo9PWg5CJ2xQP4KaTOr-Pvx9BKMXNqlo=s64",
      "userId": "17978281563156891521"
     },
     "user_tz": 300
    },
    "id": "pfvMswAtuNVt",
    "outputId": "bbf3e9f8-4e3c-44f9-d4a5-c321bc026913"
   },
   "outputs": [
    {
     "name": "stdout",
     "output_type": "stream",
     "text": [
      "Processing time: 0:00:00.204239\n"
     ]
    }
   ],
   "source": [
    "import numpy as np               # NumPy\n",
    "import pandas as pd              # Pandas\n",
    "import re                        # Re?\n",
    "from datetime import datetime    # Calculates Processing Time\n",
    "import random\n",
    "\n",
    "# SciKit Learn\n",
    "from sklearn import metrics\n",
    "from sklearn.feature_extraction.text import TfidfVectorizer\n",
    "from sklearn.linear_model import ElasticNet, LinearRegression\n",
    "from sklearn.svm import LinearSVC\n",
    "from sklearn.preprocessing import StandardScaler\n",
    "from sklearn.pipeline import Pipeline, make_pipeline\n",
    "from sklearn.model_selection import GridSearchCV, train_test_split, cross_val_score\n",
    "from sklearn.ensemble import ExtraTreesClassifier, RandomForestRegressor\n",
    "from sklearn.feature_selection import SelectKBest, f_classif, f_regression\n",
    "from sklearn.feature_extraction.text import CountVectorizer\n",
    "from sklearn.decomposition import LatentDirichletAllocation\n",
    "from sklearn.externals import joblib\n",
    "from sklearn.model_selection import train_test_split\n",
    "\n",
    "# kappa metric for measuring agreement of automatic to human scores\n",
    "from skll.metrics import kappa\n",
    "from bhkappa import mean_quadratic_weighted_kappa\n",
    "\n",
    "# MatPlots\n",
    "import matplotlib.pyplot as plt\n",
    "from matplotlib import cm\n",
    "import seaborn as sns\n",
    "plt.rcParams['figure.dpi']= 100\n",
    "plt.style.use('ggplot')"
   ]
  },
  {
   "cell_type": "code",
   "execution_count": 13,
   "metadata": {
    "colab": {
     "base_uri": "https://localhost:8080/",
     "height": 213
    },
    "colab_type": "code",
    "executionInfo": {
     "elapsed": 288,
     "status": "ok",
     "timestamp": 1578443258082,
     "user": {
      "displayName": "David Heineman",
      "photoUrl": "https://lh3.googleusercontent.com/a-/AAuE7mAgJIHLW2iXo9PWg5CJ2xQP4KaTOr-Pvx9BKMXNqlo=s64",
      "userId": "17978281563156891521"
     },
     "user_tz": 300
    },
    "id": "-mip5MtjfbXe",
    "outputId": "64d82659-1762-4ca1-80ce-19ef7dcfff43"
   },
   "outputs": [
    {
     "data": {
      "text/html": [
       "<div>\n",
       "<style scoped>\n",
       "    .dataframe tbody tr th:only-of-type {\n",
       "        vertical-align: middle;\n",
       "    }\n",
       "\n",
       "    .dataframe tbody tr th {\n",
       "        vertical-align: top;\n",
       "    }\n",
       "\n",
       "    .dataframe thead th {\n",
       "        text-align: right;\n",
       "    }\n",
       "</style>\n",
       "<table border=\"1\" class=\"dataframe\">\n",
       "  <thead>\n",
       "    <tr style=\"text-align: right;\">\n",
       "      <th></th>\n",
       "      <th>essay_id</th>\n",
       "      <th>topic</th>\n",
       "      <th>target_score</th>\n",
       "      <th>ner</th>\n",
       "      <th>word_count</th>\n",
       "      <th>token_count</th>\n",
       "      <th>unique_token_count</th>\n",
       "      <th>nostop_count</th>\n",
       "      <th>sent_count</th>\n",
       "      <th>ner_unredacted_count</th>\n",
       "      <th>dw_ratio</th>\n",
       "      <th>h_similarity</th>\n",
       "      <th>sw_ratio</th>\n",
       "      <th>ners_ratio</th>\n",
       "      <th>TTR</th>\n",
       "      <th>flesch</th>\n",
       "      <th>smog</th>\n",
       "      <th>kincaid</th>\n",
       "      <th>coleman_liau</th>\n",
       "      <th>readability</th>\n",
       "      <th>dale_chall</th>\n",
       "      <th>difficult_words</th>\n",
       "      <th>linsear</th>\n",
       "      <th>gunning_fog</th>\n",
       "      <th>grade_level</th>\n",
       "      <th>comma</th>\n",
       "      <th>question</th>\n",
       "      <th>exclamation</th>\n",
       "      <th>quotation</th>\n",
       "      <th>noun</th>\n",
       "      <th>adj</th>\n",
       "      <th>pron</th>\n",
       "      <th>verb</th>\n",
       "      <th>cconj</th>\n",
       "      <th>adv</th>\n",
       "      <th>det</th>\n",
       "      <th>propn</th>\n",
       "      <th>num</th>\n",
       "      <th>part</th>\n",
       "      <th>intj</th>\n",
       "    </tr>\n",
       "  </thead>\n",
       "  <tbody>\n",
       "    <tr>\n",
       "      <th>10563</th>\n",
       "      <td>16513</td>\n",
       "      <td>6</td>\n",
       "      <td>3</td>\n",
       "      <td>6</td>\n",
       "      <td>918</td>\n",
       "      <td>173</td>\n",
       "      <td>101</td>\n",
       "      <td>87</td>\n",
       "      <td>12</td>\n",
       "      <td>6</td>\n",
       "      <td>0.033769</td>\n",
       "      <td>0.984248</td>\n",
       "      <td>76.500000</td>\n",
       "      <td>0.500000</td>\n",
       "      <td>0.583815</td>\n",
       "      <td>62.88</td>\n",
       "      <td>11.2</td>\n",
       "      <td>8.7</td>\n",
       "      <td>11.13</td>\n",
       "      <td>10.9</td>\n",
       "      <td>7.71</td>\n",
       "      <td>31</td>\n",
       "      <td>20.000</td>\n",
       "      <td>9.90</td>\n",
       "      <td>10th and 11th grade</td>\n",
       "      <td>7</td>\n",
       "      <td>0</td>\n",
       "      <td>0</td>\n",
       "      <td>3</td>\n",
       "      <td>45</td>\n",
       "      <td>6</td>\n",
       "      <td>1</td>\n",
       "      <td>28</td>\n",
       "      <td>3</td>\n",
       "      <td>5</td>\n",
       "      <td>29</td>\n",
       "      <td>8</td>\n",
       "      <td>4</td>\n",
       "      <td>6</td>\n",
       "      <td>0</td>\n",
       "    </tr>\n",
       "    <tr>\n",
       "      <th>8692</th>\n",
       "      <td>13440</td>\n",
       "      <td>5</td>\n",
       "      <td>2</td>\n",
       "      <td>2</td>\n",
       "      <td>571</td>\n",
       "      <td>111</td>\n",
       "      <td>77</td>\n",
       "      <td>43</td>\n",
       "      <td>9</td>\n",
       "      <td>2</td>\n",
       "      <td>0.021016</td>\n",
       "      <td>0.977070</td>\n",
       "      <td>63.444444</td>\n",
       "      <td>0.222222</td>\n",
       "      <td>0.693694</td>\n",
       "      <td>63.22</td>\n",
       "      <td>11.7</td>\n",
       "      <td>10.6</td>\n",
       "      <td>10.04</td>\n",
       "      <td>13.4</td>\n",
       "      <td>6.78</td>\n",
       "      <td>12</td>\n",
       "      <td>14.625</td>\n",
       "      <td>11.13</td>\n",
       "      <td>10th and 11th grade</td>\n",
       "      <td>2</td>\n",
       "      <td>0</td>\n",
       "      <td>0</td>\n",
       "      <td>4</td>\n",
       "      <td>20</td>\n",
       "      <td>7</td>\n",
       "      <td>7</td>\n",
       "      <td>20</td>\n",
       "      <td>3</td>\n",
       "      <td>11</td>\n",
       "      <td>17</td>\n",
       "      <td>2</td>\n",
       "      <td>0</td>\n",
       "      <td>2</td>\n",
       "      <td>0</td>\n",
       "    </tr>\n",
       "    <tr>\n",
       "      <th>8327</th>\n",
       "      <td>13075</td>\n",
       "      <td>5</td>\n",
       "      <td>3</td>\n",
       "      <td>15</td>\n",
       "      <td>678</td>\n",
       "      <td>147</td>\n",
       "      <td>84</td>\n",
       "      <td>64</td>\n",
       "      <td>14</td>\n",
       "      <td>2</td>\n",
       "      <td>0.025074</td>\n",
       "      <td>0.977841</td>\n",
       "      <td>48.428571</td>\n",
       "      <td>1.071429</td>\n",
       "      <td>0.571429</td>\n",
       "      <td>55.61</td>\n",
       "      <td>11.2</td>\n",
       "      <td>13.5</td>\n",
       "      <td>6.51</td>\n",
       "      <td>14.8</td>\n",
       "      <td>7.32</td>\n",
       "      <td>17</td>\n",
       "      <td>14.500</td>\n",
       "      <td>15.09</td>\n",
       "      <td>14th and 15th grade</td>\n",
       "      <td>1</td>\n",
       "      <td>0</td>\n",
       "      <td>0</td>\n",
       "      <td>8</td>\n",
       "      <td>20</td>\n",
       "      <td>7</td>\n",
       "      <td>11</td>\n",
       "      <td>27</td>\n",
       "      <td>2</td>\n",
       "      <td>8</td>\n",
       "      <td>21</td>\n",
       "      <td>14</td>\n",
       "      <td>0</td>\n",
       "      <td>4</td>\n",
       "      <td>0</td>\n",
       "    </tr>\n",
       "  </tbody>\n",
       "</table>\n",
       "</div>"
      ],
      "text/plain": [
       "       essay_id  topic  target_score  ner  ...  propn  num  part  intj\n",
       "10563     16513      6             3    6  ...      8    4     6     0\n",
       "8692      13440      5             2    2  ...      2    0     2     0\n",
       "8327      13075      5             3   15  ...     14    0     4     0\n",
       "\n",
       "[3 rows x 40 columns]"
      ]
     },
     "execution_count": 13,
     "metadata": {
      "tags": []
     },
     "output_type": "execute_result"
    }
   ],
   "source": [
    "# Import Pre-processed Data\n",
    "training_set = pd.read_pickle('preprocessedTrainingNoEssay.pkl')\n",
    "training_set.sample(3)\n",
    "\n",
    "# Select features\n",
    "predictors = [  \n",
    "    \"word_count\",\n",
    "    \"TTR\",\n",
    "    \"readability\",\n",
    "    \"unique_token_count\",\n",
    "    \"ner\",\n",
    "    \"sw_ratio\",\n",
    "    \"ners_ratio\"]"
   ]
  },
  {
   "cell_type": "markdown",
   "metadata": {
    "colab_type": "text",
    "id": "Ygj8PyCgtza3"
   },
   "source": [
    "# Regression Pipeline"
   ]
  },
  {
   "cell_type": "code",
   "execution_count": null,
   "metadata": {
    "colab": {},
    "colab_type": "code",
    "id": "CrcjfLd1uUzp"
   },
   "outputs": [],
   "source": [
    "def evaluate(df, topic, features, model):\n",
    "    \"\"\"Regression pipeline with kappa evaluation\"\"\"\n",
    "\n",
    "    X = df[df['topic'] == topic][features]\n",
    "    y = df[df['topic'] == topic]['target_score'].astype(np.float64)\n",
    "    # token_ct = X.token_count\n",
    "    # X = X.div(token_ct, axis=0)\n",
    "    # X['token_count'] = X['token_count'].mul(token_ct, axis=0)\n",
    "    X_train, X_test, y_train, y_test = train_test_split(X, y, test_size=0.3, random_state=26)\n",
    "    \n",
    "    pipeline = Pipeline(model)\n",
    "    pipeline.fit(X_train, y_train)\n",
    "    \n",
    "    y_pred = pipeline.predict(X_test)\n",
    "\n",
    "    return kappa(y_pred, y_test, weights='quadratic')"
   ]
  },
  {
   "cell_type": "code",
   "execution_count": 8,
   "metadata": {
    "colab": {
     "base_uri": "https://localhost:8080/",
     "height": 442
    },
    "colab_type": "code",
    "executionInfo": {
     "elapsed": 1468,
     "status": "ok",
     "timestamp": 1578442281255,
     "user": {
      "displayName": "David Heineman",
      "photoUrl": "https://lh3.googleusercontent.com/a-/AAuE7mAgJIHLW2iXo9PWg5CJ2xQP4KaTOr-Pvx9BKMXNqlo=s64",
      "userId": "17978281563156891521"
     },
     "user_tz": 300
    },
    "id": "J3w8KJ6cuXcm",
    "outputId": "a8ec35a9-5ab6-4944-bf80-43a978cfa6ee"
   },
   "outputs": [
    {
     "name": "stdout",
     "output_type": "stream",
     "text": [
      "[('scaler', StandardScaler(copy=True, with_mean=True, with_std=True)), ('linearSVC', LinearSVC(C=0.01, class_weight=None, dual=True, fit_intercept=True,\n",
      "          intercept_scaling=1, loss='squared_hinge', max_iter=1000,\n",
      "          multi_class='ovr', penalty='l2', random_state=None, tol=0.0001,\n",
      "          verbose=0))]\n",
      "Weighted by topic Kappa score: 0.5876\n",
      "\n",
      "[('scaler', StandardScaler(copy=True, with_mean=True, with_std=True)), ('lm', LinearRegression(copy_X=True, fit_intercept=True, n_jobs=None, normalize=False))]\n",
      "Weighted by topic Kappa score: 0.6954\n",
      "\n"
     ]
    },
    {
     "name": "stderr",
     "output_type": "stream",
     "text": [
      "/usr/local/lib/python3.6/dist-packages/sklearn/ensemble/forest.py:245: FutureWarning: The default value of n_estimators will change from 10 in version 0.20 to 100 in 0.22.\n",
      "  \"10 in version 0.20 to 100 in 0.22.\", FutureWarning)\n"
     ]
    },
    {
     "name": "stdout",
     "output_type": "stream",
     "text": [
      "[('rf', RandomForestRegressor(bootstrap=True, criterion='mse', max_depth=None,\n",
      "                      max_features='auto', max_leaf_nodes=None,\n",
      "                      min_impurity_decrease=0.0, min_impurity_split=None,\n",
      "                      min_samples_leaf=1, min_samples_split=2,\n",
      "                      min_weight_fraction_leaf=0.0, n_estimators=10,\n",
      "                      n_jobs=None, oob_score=False, random_state=26, verbose=0,\n",
      "                      warm_start=False))]\n",
      "Weighted by topic Kappa score: 0.6831\n",
      "\n",
      "[('en', ElasticNet(alpha=0.1, copy_X=True, fit_intercept=True, l1_ratio=0.01,\n",
      "           max_iter=100000, normalize=False, positive=False, precompute=False,\n",
      "           random_state=26, selection='cyclic', tol=0.0001, warm_start=False))]\n",
      "Weighted by topic Kappa score: 0.6878\n",
      "\n"
     ]
    }
   ],
   "source": [
    "# for use in pipeline\n",
    "models = [\n",
    "            [('scaler', StandardScaler()),('linearSVC', LinearSVC(C=0.01))] ,\n",
    "            [('scaler', StandardScaler()),('lm', LinearRegression())], \n",
    "            [('rf', RandomForestRegressor(random_state=26))],  \n",
    "            [('en', ElasticNet(l1_ratio=0.01, alpha=0.1, max_iter=100000, random_state=26))] \n",
    "        ]\n",
    "\n",
    "for steps in models:\n",
    "    kappas = []\n",
    "    weights = []\n",
    "    for topic in range(1,9):\n",
    "        kappas.append(evaluate(training_set, topic, predictors, steps))\n",
    "        weights.append(len(training_set[training_set.topic==topic]))\n",
    "\n",
    "    mqwk = mean_quadratic_weighted_kappa(kappas, weights=weights)\n",
    "    print(steps)\n",
    "    print('Weighted by topic Kappa score: {:.4f}'.format(mqwk))\n",
    "    print('')"
   ]
  },
  {
   "cell_type": "code",
   "execution_count": null,
   "metadata": {
    "colab": {},
    "colab_type": "code",
    "id": "CF5t9359uqzV"
   },
   "outputs": [],
   "source": [
    "# ElasticNet with GridSearchCV for each individual topic\n",
    "\n",
    "def en_evaluate(df, topic, features):\n",
    "    # Regression pipeline with kappa evaluation\n",
    "    paramgrid = {'l1_ratio': [.01, .1, .3, .5, .7, .99], 'alpha': [0.001, 0.01, 0.1, 1]}\n",
    "    X = df[df['topic'] == topic][features]\n",
    "    y = df[df['topic'] == topic]['target_score'].astype(np.float64)\n",
    "    X_train, X_test, y_train, y_test = train_test_split(X, y, test_size=0.3, random_state=26)\n",
    "    \n",
    "    gs = GridSearchCV(ElasticNet(max_iter=100000, random_state=26),\n",
    "                      param_grid=paramgrid,\n",
    "                      cv=5)\n",
    "    gs.fit(X_train, y_train)\n",
    "    print('Topic', topic, 'best parameters:', gs.best_params_)\n",
    "    y_pred = gs.predict(X_test)\n",
    "\n",
    "    return kappa(y_pred, y_test, weights='quadratic')"
   ]
  },
  {
   "cell_type": "code",
   "execution_count": 10,
   "metadata": {
    "colab": {
     "base_uri": "https://localhost:8080/",
     "height": 170
    },
    "colab_type": "code",
    "executionInfo": {
     "elapsed": 5231,
     "status": "ok",
     "timestamp": 1578442289542,
     "user": {
      "displayName": "David Heineman",
      "photoUrl": "https://lh3.googleusercontent.com/a-/AAuE7mAgJIHLW2iXo9PWg5CJ2xQP4KaTOr-Pvx9BKMXNqlo=s64",
      "userId": "17978281563156891521"
     },
     "user_tz": 300
    },
    "id": "WJ0IWLC-usA2",
    "outputId": "845fcaab-7e15-41c8-cda6-e98b5aaea6da"
   },
   "outputs": [
    {
     "name": "stdout",
     "output_type": "stream",
     "text": [
      "Topic 1 best parameters: {'alpha': 0.001, 'l1_ratio': 0.99}\n",
      "Topic 2 best parameters: {'alpha': 0.001, 'l1_ratio': 0.99}\n",
      "Topic 3 best parameters: {'alpha': 0.1, 'l1_ratio': 0.99}\n",
      "Topic 4 best parameters: {'alpha': 0.001, 'l1_ratio': 0.7}\n",
      "Topic 5 best parameters: {'alpha': 0.001, 'l1_ratio': 0.01}\n",
      "Topic 6 best parameters: {'alpha': 0.001, 'l1_ratio': 0.01}\n",
      "Topic 7 best parameters: {'alpha': 0.001, 'l1_ratio': 0.99}\n",
      "Topic 8 best parameters: {'alpha': 0.001, 'l1_ratio': 0.99}\n",
      "Weighted by topic Kappa score: 0.6947\n"
     ]
    }
   ],
   "source": [
    "kappas = []\n",
    "weights = []\n",
    "for topic in range(1,9):\n",
    "    kappas.append(en_evaluate(training_set, topic, predictors))\n",
    "    weights.append(len(training_set[training_set.topic==topic]))\n",
    "    \n",
    "mqwk = mean_quadratic_weighted_kappa(kappas, weights=weights)\n",
    "print('Weighted by topic Kappa score: {:.4f}'.format(mqwk))"
   ]
  },
  {
   "cell_type": "code",
   "execution_count": 11,
   "metadata": {
    "colab": {
     "base_uri": "https://localhost:8080/",
     "height": 407
    },
    "colab_type": "code",
    "executionInfo": {
     "elapsed": 10251,
     "status": "ok",
     "timestamp": 1578442304630,
     "user": {
      "displayName": "David Heineman",
      "photoUrl": "https://lh3.googleusercontent.com/a-/AAuE7mAgJIHLW2iXo9PWg5CJ2xQP4KaTOr-Pvx9BKMXNqlo=s64",
      "userId": "17978281563156891521"
     },
     "user_tz": 300
    },
    "id": "IHcR54GIut19",
    "outputId": "db9c6bab-428a-4fe3-d830-5092244a48d5"
   },
   "outputs": [
    {
     "data": {
      "image/png": "[encoded data removed]",
      "text/plain": [
       "<Figure size 600x400 with 1 Axes>"
      ]
     },
     "metadata": {
      "tags": []
     },
     "output_type": "display_data"
    }
   ],
   "source": [
    "X = training_set[predictors]\n",
    "y = training_set['target_score'].astype(np.float64)\n",
    "\n",
    "\n",
    "forest = ExtraTreesClassifier(n_estimators=250,\n",
    "                              random_state=26)\n",
    "\n",
    "forest.fit(X, y)\n",
    "\n",
    "std = np.std([tree.feature_importances_ for tree in forest.estimators_], axis=0)\n",
    "\n",
    "# plot feature importances\n",
    "\n",
    "features = pd.DataFrame({'feature_name': X.columns, 'importance': forest.feature_importances_, 'std': std})\n",
    "features.sort_values('importance')\\\n",
    "        .plot.barh(x='feature_name', y='importance', xerr='std', legend=False)\n",
    "plt.title('Gini importances of forest features')\n",
    "plt.xlabel('Gini-importance')\n",
    "plt.tight_layout()\n",
    "plt.show()"
   ]
  },
  {
   "cell_type": "code",
   "execution_count": 12,
   "metadata": {
    "colab": {
     "base_uri": "https://localhost:8080/",
     "height": 34
    },
    "colab_type": "code",
    "executionInfo": {
     "elapsed": 471,
     "status": "ok",
     "timestamp": 1578442306876,
     "user": {
      "displayName": "David Heineman",
      "photoUrl": "https://lh3.googleusercontent.com/a-/AAuE7mAgJIHLW2iXo9PWg5CJ2xQP4KaTOr-Pvx9BKMXNqlo=s64",
      "userId": "17978281563156891521"
     },
     "user_tz": 300
    },
    "id": "Ntt42OhEuvVC",
    "outputId": "68c4dc53-af60-4910-99da-9e3738c97679"
   },
   "outputs": [
    {
     "name": "stdout",
     "output_type": "stream",
     "text": [
      "Weighted by topic Kappa score: 0.6954\n"
     ]
    }
   ],
   "source": [
    "# best k features\n",
    "k = 15\n",
    "top_features = features.sort_values('importance', ascending=False)['feature_name'].tolist()[:k]\n",
    "\n",
    "# Linear regression with top k features\n",
    "kappas = []\n",
    "weights = []\n",
    "steps = [('scaler', StandardScaler()),('lm', LinearRegression())]\n",
    "for topic in range(1,9):\n",
    "    kappas.append(evaluate(training_set, topic, top_features, steps))\n",
    "    weights.append(len(training_set[training_set.topic==topic]))\n",
    "\n",
    "mqwk = mean_quadratic_weighted_kappa(kappas, weights=weights)\n",
    "print('Weighted by topic Kappa score: {:.4f}'.format(mqwk))"
   ]
  }
 ],
 "metadata": {
  "colab": {
   "name": "Turanga1 Regrssion.ipynb",
   "provenance": [],
   "toc_visible": true
  },
  "kernelspec": {
   "display_name": "Python 3",
   "language": "python",
   "name": "python3"
  },
  "language_info": {
   "codemirror_mode": {
    "name": "ipython",
    "version": 3
   },
   "file_extension": ".py",
   "mimetype": "text/x-python",
   "name": "python",
   "nbconvert_exporter": "python",
   "pygments_lexer": "ipython3",
   "version": "3.7.3"
  }
 },
 "nbformat": 4,
 "nbformat_minor": 4
}
