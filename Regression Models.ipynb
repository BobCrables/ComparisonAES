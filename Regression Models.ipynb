{
 "cells": [
  {
   "cell_type": "markdown",
   "metadata": {
    "colab_type": "text",
    "id": "nmjxqT8Ttwxp"
   },
   "source": [
    "# Import Packages & Data"
   ]
  },
  {
   "cell_type": "code",
   "execution_count": 2,
   "metadata": {
    "colab": {
     "base_uri": "https://localhost:8080/",
     "height": 34
    },
    "colab_type": "code",
    "collapsed": true,
    "executionInfo": {
     "elapsed": 383,
     "status": "ok",
     "timestamp": 1578442262631,
     "user": {
      "displayName": "David Heineman",
      "photoUrl": "https://lh3.googleusercontent.com/a-/AAuE7mAgJIHLW2iXo9PWg5CJ2xQP4KaTOr-Pvx9BKMXNqlo=s64",
      "userId": "17978281563156891521"
     },
     "user_tz": 300
    },
    "id": "pfvMswAtuNVt",
    "jupyter": {
     "outputs_hidden": true
    },
    "outputId": "bbf3e9f8-4e3c-44f9-d4a5-c321bc026913"
   },
   "outputs": [
    {
     "name": "stderr",
     "output_type": "stream",
     "text": [
      "C:\\Users\\David\\Anaconda3\\lib\\site-packages\\sklearn\\externals\\joblib\\__init__.py:15: DeprecationWarning: sklearn.externals.joblib is deprecated in 0.21 and will be removed in 0.23. Please import this functionality directly from joblib, which can be installed with: pip install joblib. If this warning is raised when loading pickled models, you may need to re-serialize those models with scikit-learn 0.21+.\n",
      "  warnings.warn(msg, category=DeprecationWarning)\n",
      "Using TensorFlow backend.\n",
      "C:\\Users\\David\\Anaconda3\\lib\\site-packages\\tensorflow\\python\\framework\\dtypes.py:516: FutureWarning: Passing (type, 1) or '1type' as a synonym of type is deprecated; in a future version of numpy, it will be understood as (type, (1,)) / '(1,)type'.\n",
      "  _np_qint8 = np.dtype([(\"qint8\", np.int8, 1)])\n",
      "C:\\Users\\David\\Anaconda3\\lib\\site-packages\\tensorflow\\python\\framework\\dtypes.py:517: FutureWarning: Passing (type, 1) or '1type' as a synonym of type is deprecated; in a future version of numpy, it will be understood as (type, (1,)) / '(1,)type'.\n",
      "  _np_quint8 = np.dtype([(\"quint8\", np.uint8, 1)])\n",
      "C:\\Users\\David\\Anaconda3\\lib\\site-packages\\tensorflow\\python\\framework\\dtypes.py:518: FutureWarning: Passing (type, 1) or '1type' as a synonym of type is deprecated; in a future version of numpy, it will be understood as (type, (1,)) / '(1,)type'.\n",
      "  _np_qint16 = np.dtype([(\"qint16\", np.int16, 1)])\n",
      "C:\\Users\\David\\Anaconda3\\lib\\site-packages\\tensorflow\\python\\framework\\dtypes.py:519: FutureWarning: Passing (type, 1) or '1type' as a synonym of type is deprecated; in a future version of numpy, it will be understood as (type, (1,)) / '(1,)type'.\n",
      "  _np_quint16 = np.dtype([(\"quint16\", np.uint16, 1)])\n",
      "C:\\Users\\David\\Anaconda3\\lib\\site-packages\\tensorflow\\python\\framework\\dtypes.py:520: FutureWarning: Passing (type, 1) or '1type' as a synonym of type is deprecated; in a future version of numpy, it will be understood as (type, (1,)) / '(1,)type'.\n",
      "  _np_qint32 = np.dtype([(\"qint32\", np.int32, 1)])\n",
      "C:\\Users\\David\\Anaconda3\\lib\\site-packages\\tensorflow\\python\\framework\\dtypes.py:525: FutureWarning: Passing (type, 1) or '1type' as a synonym of type is deprecated; in a future version of numpy, it will be understood as (type, (1,)) / '(1,)type'.\n",
      "  np_resource = np.dtype([(\"resource\", np.ubyte, 1)])\n",
      "C:\\Users\\David\\Anaconda3\\lib\\site-packages\\tensorboard\\compat\\tensorflow_stub\\dtypes.py:541: FutureWarning: Passing (type, 1) or '1type' as a synonym of type is deprecated; in a future version of numpy, it will be understood as (type, (1,)) / '(1,)type'.\n",
      "  _np_qint8 = np.dtype([(\"qint8\", np.int8, 1)])\n",
      "C:\\Users\\David\\Anaconda3\\lib\\site-packages\\tensorboard\\compat\\tensorflow_stub\\dtypes.py:542: FutureWarning: Passing (type, 1) or '1type' as a synonym of type is deprecated; in a future version of numpy, it will be understood as (type, (1,)) / '(1,)type'.\n",
      "  _np_quint8 = np.dtype([(\"quint8\", np.uint8, 1)])\n",
      "C:\\Users\\David\\Anaconda3\\lib\\site-packages\\tensorboard\\compat\\tensorflow_stub\\dtypes.py:543: FutureWarning: Passing (type, 1) or '1type' as a synonym of type is deprecated; in a future version of numpy, it will be understood as (type, (1,)) / '(1,)type'.\n",
      "  _np_qint16 = np.dtype([(\"qint16\", np.int16, 1)])\n",
      "C:\\Users\\David\\Anaconda3\\lib\\site-packages\\tensorboard\\compat\\tensorflow_stub\\dtypes.py:544: FutureWarning: Passing (type, 1) or '1type' as a synonym of type is deprecated; in a future version of numpy, it will be understood as (type, (1,)) / '(1,)type'.\n",
      "  _np_quint16 = np.dtype([(\"quint16\", np.uint16, 1)])\n",
      "C:\\Users\\David\\Anaconda3\\lib\\site-packages\\tensorboard\\compat\\tensorflow_stub\\dtypes.py:545: FutureWarning: Passing (type, 1) or '1type' as a synonym of type is deprecated; in a future version of numpy, it will be understood as (type, (1,)) / '(1,)type'.\n",
      "  _np_qint32 = np.dtype([(\"qint32\", np.int32, 1)])\n",
      "C:\\Users\\David\\Anaconda3\\lib\\site-packages\\tensorboard\\compat\\tensorflow_stub\\dtypes.py:550: FutureWarning: Passing (type, 1) or '1type' as a synonym of type is deprecated; in a future version of numpy, it will be understood as (type, (1,)) / '(1,)type'.\n",
      "  np_resource = np.dtype([(\"resource\", np.ubyte, 1)])\n"
     ]
    }
   ],
   "source": [
    "import numpy as np\n",
    "import pandas as pd\n",
    "import re\n",
    "from datetime import datetime\n",
    "import random\n",
    "\n",
    "from sklearn import metrics\n",
    "from sklearn.feature_extraction.text import TfidfVectorizer\n",
    "from sklearn.linear_model import ElasticNet, LinearRegression\n",
    "from sklearn.svm import LinearSVC\n",
    "from sklearn.preprocessing import StandardScaler\n",
    "from sklearn.pipeline import Pipeline, make_pipeline\n",
    "from sklearn.model_selection import GridSearchCV, train_test_split, cross_val_score\n",
    "from sklearn.ensemble import ExtraTreesClassifier, RandomForestRegressor\n",
    "from sklearn.feature_selection import SelectKBest, f_classif, f_regression\n",
    "from sklearn.feature_extraction.text import CountVectorizer\n",
    "from sklearn.decomposition import LatentDirichletAllocation\n",
    "from sklearn.externals import joblib\n",
    "from sklearn.model_selection import train_test_split\n",
    "from sklearn.ensemble import BaggingClassifier\n",
    "from sklearn.neighbors import KNeighborsClassifier\n",
    "from sklearn import datasets\n",
    "from sklearn.model_selection import cross_val_score\n",
    "from sklearn.linear_model import LogisticRegression\n",
    "from sklearn.naive_bayes import GaussianNB\n",
    "from sklearn.ensemble import RandomForestClassifier\n",
    "from sklearn.ensemble import VotingClassifier\n",
    "from sklearn.metrics import cohen_kappa_score\n",
    "\n",
    "from skll.metrics import kappa\n",
    "\n",
    "from customUtils import limits\n",
    "\n",
    "import matplotlib.pyplot as plt\n",
    "from matplotlib import cm\n",
    "import seaborn as sns\n",
    "plt.rcParams['figure.dpi']= 100\n",
    "plt.style.use('ggplot')\n",
    "\n",
    "np.warnings.filterwarnings('ignore') "
   ]
  },
  {
   "cell_type": "code",
   "execution_count": 223,
   "metadata": {
    "colab": {
     "base_uri": "https://localhost:8080/",
     "height": 213
    },
    "colab_type": "code",
    "executionInfo": {
     "elapsed": 288,
     "status": "ok",
     "timestamp": 1578443258082,
     "user": {
      "displayName": "David Heineman",
      "photoUrl": "https://lh3.googleusercontent.com/a-/AAuE7mAgJIHLW2iXo9PWg5CJ2xQP4KaTOr-Pvx9BKMXNqlo=s64",
      "userId": "17978281563156891521"
     },
     "user_tz": 300
    },
    "id": "-mip5MtjfbXe",
    "outputId": "64d82659-1762-4ca1-80ce-19ef7dcfff43"
   },
   "outputs": [],
   "source": [
    "# Import Pre-processed Data\n",
    "training_set = pd.read_pickle('preprocessedSupervised.pkl')\n",
    "\n",
    "# Select features\n",
    "predictors = [  \n",
    "    # 'essay_id',\n",
    "    # 'topic',\n",
    "    # 'essay',\n",
    "    # 'target_score',\n",
    "    # 'rater1_domain1',\n",
    "    # 'rater2_domain1',\n",
    "    'subjectivity',\n",
    "    'polarity',\n",
    "    # 'matches',\n",
    "    'corrections',\n",
    "    # 'corrected',\n",
    "    # 'tokens',\n",
    "    # 'lemma',\n",
    "    # 'pos',\n",
    "    # 'sents',\n",
    "    'ner',\n",
    "    'word_count',\n",
    "    'char_count',\n",
    "    'token_count',\n",
    "    'unique_token_count',\n",
    "    'nostop_count',\n",
    "    'sent_count',\n",
    "    'ner_unredacted_count',\n",
    "    'comma',\n",
    "    'question',\n",
    "    'exclamation',\n",
    "    'quotation',\n",
    "    'organization',\n",
    "    'caps',\n",
    "    'person',\n",
    "    'location',\n",
    "    'money',\n",
    "    'time',\n",
    "    'date',\n",
    "    'percent',\n",
    "    'noun',\n",
    "    'adj',\n",
    "    'pron',\n",
    "    'verb',\n",
    "    'cconj',\n",
    "    'adv',\n",
    "    'det',\n",
    "    'propn',\n",
    "    'num',\n",
    "    'part',\n",
    "    'intj',\n",
    "    'flesch',\n",
    "    'smog',\n",
    "    'kincaid',\n",
    "    'coleman_liau',\n",
    "    'readability',\n",
    "    'dale_chall',\n",
    "    'difficult_words',\n",
    "    'linsear',\n",
    "    'gunning_fog',\n",
    "    # 'grade_level',\n",
    "    'wc_ratio',\n",
    "    'sw_ratio',\n",
    "    'ners_ratio',\n",
    "    'TTR',\n",
    "    'dw_ratio',\n",
    "    'h_similarity',\n",
    "    'm_similarity',\n",
    "    # 'l_essay',\n",
    "]"
   ]
  },
  {
   "cell_type": "markdown",
   "metadata": {
    "colab_type": "text",
    "id": "Ygj8PyCgtza3"
   },
   "source": [
    "# Regression Pipeline"
   ]
  },
  {
   "cell_type": "code",
   "execution_count": 224,
   "metadata": {},
   "outputs": [],
   "source": [
    "def evaluate(df, topic, features, model):\n",
    "    \"\"\"Regression pipeline with kappa evaluation\"\"\"\n",
    "    X = df[df['topic'] == topic][features]\n",
    "    y = df[df['topic'] == topic]['target_score'].astype(np.float64)\n",
    "    X_train, X_test, y_train, y_test = train_test_split(X, y, test_size=0.3, random_state=26)\n",
    "    \n",
    "    pipeline = Pipeline(model)\n",
    "    pipeline.fit(X_train, y_train)\n",
    "    y_pred = pipeline.predict(X_test)\n",
    "\n",
    "    return kappa(y_pred, y_test, weights='quadratic')"
   ]
  },
  {
   "cell_type": "code",
   "execution_count": 225,
   "metadata": {},
   "outputs": [
    {
     "name": "stdout",
     "output_type": "stream",
     "text": [
      "Model: s_SVM\n",
      "Model: s_LinearReg\n",
      "Model: s_ForestEnsemble\n",
      "Model: s_ElasticNet\n",
      "Model: s_kNN\n"
     ]
    }
   ],
   "source": [
    "# Supervised Pipeline k Fold\n",
    "k = 5\n",
    "\n",
    "models = [\n",
    "    [('s_SVM', StandardScaler()),('linearSVC', LinearSVC(C=0.01))],\n",
    "    [('s_LinearReg', StandardScaler()),('lm', LinearRegression())], \n",
    "    [('s_ForestEnsemble', RandomForestRegressor(n_estimators=20))],  \n",
    "    [('s_ElasticNet', ElasticNet(l1_ratio=0.01, alpha=0.1, max_iter=100000))],\n",
    "    [('s_kNN', BaggingClassifier(KNeighborsClassifier(), max_samples=0.5, max_features=0.5))]\n",
    "]\n",
    "\n",
    "for steps in models:\n",
    "    results = open(\"models/%s_Results.txt\" % steps[0][0], \"w+\")\n",
    "    print('Model: %s' % steps[0][0])\n",
    "    for topic in range(1,9):\n",
    "        for fold in range(0,k):\n",
    "            score = evaluate(training_set, topic, predictors, steps)\n",
    "            results.write(\"%s \\n\" % score)\n",
    "        results.write(\"\\n ---- \\n\")\n",
    "    results.close()"
   ]
  },
  {
   "cell_type": "code",
   "execution_count": 68,
   "metadata": {
    "collapsed": true,
    "jupyter": {
     "outputs_hidden": true
    }
   },
   "outputs": [
    {
     "ename": "ValueError",
     "evalue": "not enough values to unpack (expected 2, got 1)",
     "output_type": "error",
     "traceback": [
      "\u001b[1;31m---------------------------------------------------------------------------\u001b[0m",
      "\u001b[1;31mValueError\u001b[0m                                Traceback (most recent call last)",
      "\u001b[1;32m<ipython-input-68-f398d9b8a1d2>\u001b[0m in \u001b[0;36m<module>\u001b[1;34m\u001b[0m\n\u001b[0;32m     14\u001b[0m \u001b[0meclf\u001b[0m \u001b[1;33m=\u001b[0m \u001b[0mVotingClassifier\u001b[0m\u001b[1;33m(\u001b[0m\u001b[0mestimators\u001b[0m\u001b[1;33m=\u001b[0m\u001b[0mmodels\u001b[0m\u001b[1;33m)\u001b[0m\u001b[1;33m\u001b[0m\u001b[1;33m\u001b[0m\u001b[0m\n\u001b[0;32m     15\u001b[0m \u001b[1;32mfor\u001b[0m \u001b[0mtopic\u001b[0m \u001b[1;32min\u001b[0m \u001b[0mrange\u001b[0m\u001b[1;33m(\u001b[0m\u001b[1;36m1\u001b[0m\u001b[1;33m,\u001b[0m\u001b[1;36m9\u001b[0m\u001b[1;33m)\u001b[0m\u001b[1;33m:\u001b[0m\u001b[1;33m\u001b[0m\u001b[1;33m\u001b[0m\u001b[0m\n\u001b[1;32m---> 16\u001b[1;33m     \u001b[0mkappas\u001b[0m\u001b[1;33m.\u001b[0m\u001b[0mappend\u001b[0m\u001b[1;33m(\u001b[0m\u001b[0mvoting\u001b[0m\u001b[1;33m(\u001b[0m\u001b[0mtraining_set\u001b[0m\u001b[1;33m,\u001b[0m \u001b[0mtopic\u001b[0m\u001b[1;33m,\u001b[0m \u001b[0mpredictors\u001b[0m\u001b[1;33m,\u001b[0m \u001b[0meclf\u001b[0m\u001b[1;33m)\u001b[0m\u001b[1;33m)\u001b[0m\u001b[1;33m\u001b[0m\u001b[1;33m\u001b[0m\u001b[0m\n\u001b[0m\u001b[0;32m     17\u001b[0m     \u001b[0mweights\u001b[0m\u001b[1;33m.\u001b[0m\u001b[0mappend\u001b[0m\u001b[1;33m(\u001b[0m\u001b[0mlen\u001b[0m\u001b[1;33m(\u001b[0m\u001b[0mtraining_set\u001b[0m\u001b[1;33m[\u001b[0m\u001b[0mtraining_set\u001b[0m\u001b[1;33m.\u001b[0m\u001b[0mtopic\u001b[0m\u001b[1;33m==\u001b[0m\u001b[0mtopic\u001b[0m\u001b[1;33m]\u001b[0m\u001b[1;33m)\u001b[0m\u001b[1;33m)\u001b[0m\u001b[1;33m\u001b[0m\u001b[1;33m\u001b[0m\u001b[0m\n\u001b[0;32m     18\u001b[0m \u001b[1;33m\u001b[0m\u001b[0m\n",
      "\u001b[1;32m<ipython-input-68-f398d9b8a1d2>\u001b[0m in \u001b[0;36mvoting\u001b[1;34m(df, topic, features, model)\u001b[0m\n\u001b[0;32m      8\u001b[0m     \u001b[0my\u001b[0m \u001b[1;33m=\u001b[0m \u001b[0mdf\u001b[0m\u001b[1;33m[\u001b[0m\u001b[0mdf\u001b[0m\u001b[1;33m[\u001b[0m\u001b[1;34m'topic'\u001b[0m\u001b[1;33m]\u001b[0m \u001b[1;33m==\u001b[0m \u001b[0mtopic\u001b[0m\u001b[1;33m]\u001b[0m\u001b[1;33m[\u001b[0m\u001b[1;34m'target_score'\u001b[0m\u001b[1;33m]\u001b[0m\u001b[1;33m.\u001b[0m\u001b[0mastype\u001b[0m\u001b[1;33m(\u001b[0m\u001b[0mnp\u001b[0m\u001b[1;33m.\u001b[0m\u001b[0mfloat64\u001b[0m\u001b[1;33m)\u001b[0m\u001b[1;33m\u001b[0m\u001b[1;33m\u001b[0m\u001b[0m\n\u001b[0;32m      9\u001b[0m     \u001b[0mX_train\u001b[0m\u001b[1;33m,\u001b[0m \u001b[0mX_test\u001b[0m\u001b[1;33m,\u001b[0m \u001b[0my_train\u001b[0m\u001b[1;33m,\u001b[0m \u001b[0my_test\u001b[0m \u001b[1;33m=\u001b[0m \u001b[0mtrain_test_split\u001b[0m\u001b[1;33m(\u001b[0m\u001b[0mX\u001b[0m\u001b[1;33m,\u001b[0m \u001b[0my\u001b[0m\u001b[1;33m,\u001b[0m \u001b[0mtest_size\u001b[0m\u001b[1;33m=\u001b[0m\u001b[1;36m0.15\u001b[0m\u001b[1;33m,\u001b[0m \u001b[0mrandom_state\u001b[0m\u001b[1;33m=\u001b[0m\u001b[1;36m26\u001b[0m\u001b[1;33m)\u001b[0m\u001b[1;33m\u001b[0m\u001b[1;33m\u001b[0m\u001b[0m\n\u001b[1;32m---> 10\u001b[1;33m     \u001b[0mmodel\u001b[0m\u001b[1;33m.\u001b[0m\u001b[0mfit\u001b[0m\u001b[1;33m(\u001b[0m\u001b[0mX_train\u001b[0m\u001b[1;33m,\u001b[0m \u001b[0my_train\u001b[0m\u001b[1;33m)\u001b[0m\u001b[1;33m\u001b[0m\u001b[1;33m\u001b[0m\u001b[0m\n\u001b[0m\u001b[0;32m     11\u001b[0m     \u001b[0my_pred\u001b[0m \u001b[1;33m=\u001b[0m \u001b[0mpipeline\u001b[0m\u001b[1;33m.\u001b[0m\u001b[0mpredict\u001b[0m\u001b[1;33m(\u001b[0m\u001b[0mX_test\u001b[0m\u001b[1;33m)\u001b[0m\u001b[1;33m\u001b[0m\u001b[1;33m\u001b[0m\u001b[0m\n\u001b[0;32m     12\u001b[0m     \u001b[1;32mreturn\u001b[0m \u001b[0mkappa\u001b[0m\u001b[1;33m(\u001b[0m\u001b[0my_pred\u001b[0m\u001b[1;33m,\u001b[0m \u001b[0my_test\u001b[0m\u001b[1;33m,\u001b[0m \u001b[0mweights\u001b[0m\u001b[1;33m=\u001b[0m\u001b[1;34m'quadratic'\u001b[0m\u001b[1;33m)\u001b[0m\u001b[1;33m\u001b[0m\u001b[1;33m\u001b[0m\u001b[0m\n",
      "\u001b[1;32m~\\Anaconda3\\lib\\site-packages\\sklearn\\ensemble\\voting.py\u001b[0m in \u001b[0;36mfit\u001b[1;34m(self, X, y, sample_weight)\u001b[0m\n\u001b[0;32m    277\u001b[0m         \u001b[0mtransformed_y\u001b[0m \u001b[1;33m=\u001b[0m \u001b[0mself\u001b[0m\u001b[1;33m.\u001b[0m\u001b[0mle_\u001b[0m\u001b[1;33m.\u001b[0m\u001b[0mtransform\u001b[0m\u001b[1;33m(\u001b[0m\u001b[0my\u001b[0m\u001b[1;33m)\u001b[0m\u001b[1;33m\u001b[0m\u001b[1;33m\u001b[0m\u001b[0m\n\u001b[0;32m    278\u001b[0m \u001b[1;33m\u001b[0m\u001b[0m\n\u001b[1;32m--> 279\u001b[1;33m         \u001b[1;32mreturn\u001b[0m \u001b[0msuper\u001b[0m\u001b[1;33m(\u001b[0m\u001b[1;33m)\u001b[0m\u001b[1;33m.\u001b[0m\u001b[0mfit\u001b[0m\u001b[1;33m(\u001b[0m\u001b[0mX\u001b[0m\u001b[1;33m,\u001b[0m \u001b[0mtransformed_y\u001b[0m\u001b[1;33m,\u001b[0m \u001b[0msample_weight\u001b[0m\u001b[1;33m)\u001b[0m\u001b[1;33m\u001b[0m\u001b[1;33m\u001b[0m\u001b[0m\n\u001b[0m\u001b[0;32m    280\u001b[0m \u001b[1;33m\u001b[0m\u001b[0m\n\u001b[0;32m    281\u001b[0m     \u001b[1;32mdef\u001b[0m \u001b[0mpredict\u001b[0m\u001b[1;33m(\u001b[0m\u001b[0mself\u001b[0m\u001b[1;33m,\u001b[0m \u001b[0mX\u001b[0m\u001b[1;33m)\u001b[0m\u001b[1;33m:\u001b[0m\u001b[1;33m\u001b[0m\u001b[1;33m\u001b[0m\u001b[0m\n",
      "\u001b[1;32m~\\Anaconda3\\lib\\site-packages\\sklearn\\ensemble\\voting.py\u001b[0m in \u001b[0;36mfit\u001b[1;34m(self, X, y, sample_weight)\u001b[0m\n\u001b[0;32m     85\u001b[0m                              % (len(self.weights), len(self.estimators)))\n\u001b[0;32m     86\u001b[0m \u001b[1;33m\u001b[0m\u001b[0m\n\u001b[1;32m---> 87\u001b[1;33m         \u001b[0mnames\u001b[0m\u001b[1;33m,\u001b[0m \u001b[0mclfs\u001b[0m \u001b[1;33m=\u001b[0m \u001b[0mzip\u001b[0m\u001b[1;33m(\u001b[0m\u001b[1;33m*\u001b[0m\u001b[0mself\u001b[0m\u001b[1;33m.\u001b[0m\u001b[0mestimators\u001b[0m\u001b[1;33m)\u001b[0m\u001b[1;33m\u001b[0m\u001b[1;33m\u001b[0m\u001b[0m\n\u001b[0m\u001b[0;32m     88\u001b[0m         \u001b[0mself\u001b[0m\u001b[1;33m.\u001b[0m\u001b[0m_validate_names\u001b[0m\u001b[1;33m(\u001b[0m\u001b[0mnames\u001b[0m\u001b[1;33m)\u001b[0m\u001b[1;33m\u001b[0m\u001b[1;33m\u001b[0m\u001b[0m\n\u001b[0;32m     89\u001b[0m \u001b[1;33m\u001b[0m\u001b[0m\n",
      "\u001b[1;31mValueError\u001b[0m: not enough values to unpack (expected 2, got 1)"
     ]
    }
   ],
   "source": [
    "# Ensemble Method (doesn't work with the Pipeline Method)\n",
    "kappas = []\n",
    "weights = []\n",
    "\n",
    "def voting(df, topic, features, model):\n",
    "    \"\"\"Regression pipeline; Returns QWK Score\"\"\"\n",
    "    X = df[df['topic'] == topic][features]\n",
    "    y = df[df['topic'] == topic]['target_score'].astype(np.float64)\n",
    "    X_train, X_test, y_train, y_test = train_test_split(X, y, test_size=0.15, random_state=26)\n",
    "    model.fit(X_train, y_train)\n",
    "    y_pred = pipeline.predict(X_test)\n",
    "    return kappa(y_pred, y_test, weights='quadratic')\n",
    "\n",
    "eclf = VotingClassifier(estimators=models)\n",
    "for topic in range(1,9):\n",
    "    kappas.append(voting(training_set, topic, predictors, eclf))\n",
    "    weights.append(len(training_set[training_set.topic==topic]))\n",
    "    \n",
    "# mqwk = mean_quadratic_weighted_kappa(kappas, weights=weights)\n",
    "print('Model: %s' % steps[0][0])\n",
    "i=1\n",
    "for k in kappas:\n",
    "    print('Prompt: {:.4f} | QWK: {:,.2f}'.format(i, k))\n",
    "    i = i+1\n",
    "print('Weighted Mean: {:.4f}'.format(mqwk))"
   ]
  },
  {
   "cell_type": "code",
   "execution_count": 81,
   "metadata": {
    "colab": {},
    "colab_type": "code",
    "id": "CF5t9359uqzV"
   },
   "outputs": [],
   "source": [
    "# Quick Pipeline for GridSearchCV\n",
    "def en_evaluate(df, topic, features):\n",
    "    paramgrid = {'l1_ratio': [.01, .1, .3, .5, .7, .99], 'alpha': [0.001, 0.01, 0.1, 1]}\n",
    "    X = df[df['topic'] == topic][features]\n",
    "    y = df[df['topic'] == topic]['target_score'].astype(np.float64)\n",
    "    X_train, X_test, y_train, y_test = train_test_split(X, y, test_size=0.3, random_state=26)\n",
    "    \n",
    "    gs = GridSearchCV(ElasticNet(max_iter=100000, random_state=26),\n",
    "                      param_grid=paramgrid,\n",
    "                      cv=5)\n",
    "    gs.fit(X_train, y_train)\n",
    "    print('Topic', topic, 'best parameters:', gs.best_params_)\n",
    "    y_pred = gs.predict(X_test)\n",
    "\n",
    "    return kappa(y_pred, y_test, weights='quadratic')"
   ]
  },
  {
   "cell_type": "code",
   "execution_count": null,
   "metadata": {
    "colab": {
     "base_uri": "https://localhost:8080/",
     "height": 170
    },
    "colab_type": "code",
    "executionInfo": {
     "elapsed": 5231,
     "status": "ok",
     "timestamp": 1578442289542,
     "user": {
      "displayName": "David Heineman",
      "photoUrl": "https://lh3.googleusercontent.com/a-/AAuE7mAgJIHLW2iXo9PWg5CJ2xQP4KaTOr-Pvx9BKMXNqlo=s64",
      "userId": "17978281563156891521"
     },
     "user_tz": 300
    },
    "id": "WJ0IWLC-usA2",
    "outputId": "845fcaab-7e15-41c8-cda6-e98b5aaea6da"
   },
   "outputs": [
    {
     "name": "stdout",
     "output_type": "stream",
     "text": [
      "Topic 1 best parameters: {'alpha': 0.001, 'l1_ratio': 0.99}\n"
     ]
    }
   ],
   "source": [
    "for topic in range(1,9):\n",
    "    kappas.append(en_evaluate(training_set, topic, predictors))\n",
    "print('Imrpoved ElasticNet QWK Scores:')\n",
    "kapppas"
   ]
  },
  {
   "cell_type": "code",
   "execution_count": 10,
   "metadata": {
    "colab": {
     "base_uri": "https://localhost:8080/",
     "height": 407
    },
    "colab_type": "code",
    "executionInfo": {
     "elapsed": 10251,
     "status": "ok",
     "timestamp": 1578442304630,
     "user": {
      "displayName": "David Heineman",
      "photoUrl": "https://lh3.googleusercontent.com/a-/AAuE7mAgJIHLW2iXo9PWg5CJ2xQP4KaTOr-Pvx9BKMXNqlo=s64",
      "userId": "17978281563156891521"
     },
     "user_tz": 300
    },
    "id": "IHcR54GIut19",
    "outputId": "db9c6bab-428a-4fe3-d830-5092244a48d5"
   },
   "outputs": [
    {
     "data": {
      "image/png": "[encoded data removed]",
      "text/plain": [
       "<Figure size 432x288 with 1 Axes>"
      ]
     },
     "metadata": {
      "needs_background": "light"
     },
     "output_type": "display_data"
    }
   ],
   "source": [
    "# Random Forest Gini-Importance of Features\n",
    "X = training_set[predictors]\n",
    "y = training_set['target_score'].astype(np.float64)\n",
    "\n",
    "forest = ExtraTreesClassifier(n_estimators=250, random_state=26)\n",
    "forest.fit(X, y)\n",
    "std = np.std([tree.feature_importances_ for tree in forest.estimators_], axis=0)\n",
    "\n",
    "# plot feature importances\n",
    "features = pd.DataFrame({'feature_name': X.columns, 'importance': forest.feature_importances_, 'std': std})\n",
    "features.sort_values('importance')\\\n",
    "        .plot.barh(x='feature_name', y='importance', xerr='std', legend=False)\n",
    "plt.title('Gini importances of forest features')\n",
    "plt.xlabel('Gini-importance')\n",
    "plt.tight_layout()\n",
    "plt.show()"
   ]
  },
  {
   "cell_type": "code",
   "execution_count": 179,
   "metadata": {
    "colab": {
     "base_uri": "https://localhost:8080/",
     "height": 34
    },
    "colab_type": "code",
    "executionInfo": {
     "elapsed": 471,
     "status": "ok",
     "timestamp": 1578442306876,
     "user": {
      "displayName": "David Heineman",
      "photoUrl": "https://lh3.googleusercontent.com/a-/AAuE7mAgJIHLW2iXo9PWg5CJ2xQP4KaTOr-Pvx9BKMXNqlo=s64",
      "userId": "17978281563156891521"
     },
     "user_tz": 300
    },
    "id": "Ntt42OhEuvVC",
    "outputId": "68c4dc53-af60-4910-99da-9e3738c97679"
   },
   "outputs": [
    {
     "name": "stdout",
     "output_type": "stream",
     "text": [
      "Prompt: 1 | Improvement: -0.239\n",
      "Prompt: 2 | Improvement: -0.164\n",
      "Prompt: 3 | Improvement: -0.328\n",
      "Prompt: 4 | Improvement: -0.303\n",
      "Prompt: 5 | Improvement: -0.368\n",
      "Prompt: 6 | Improvement: -0.349\n",
      "Prompt: 7 | Improvement: -0.242\n",
      "Prompt: 8 | Improvement: -0.309\n"
     ]
    }
   ],
   "source": [
    "# Limits the features to k-top features and measures improvement on linear regression \n",
    "k = 10\n",
    "top_features = features.sort_values('importance', ascending=False)['feature_name'].tolist()[:k]\n",
    "all_features = features.sort_values('importance', ascending=False)['feature_name'].tolist()\n",
    "\n",
    "score_new = []\n",
    "score_old = []\n",
    "\n",
    "for topic in range(1,9):\n",
    "    score_new = []\n",
    "    score_old = []\n",
    "    for fold in range(1,51):\n",
    "        steps = [('scaler', StandardScaler()),('lm', LinearRegression())]\n",
    "        steps2 = [('scaler', StandardScaler()),('lm', LinearRegression())]\n",
    "        score_new.append(evaluate(training_set, topic, top_features, steps))\n",
    "        score_old.append(evaluate(training_set, topic, all_features, steps2))\n",
    "    print('Prompt: {:.0f} | Improvement: {:,.3f}'.format(topic, (sum(score_new) - sum(score_old))/(len(score_new) + len(score_old))))"
   ]
  }
 ],
 "metadata": {
  "colab": {
   "name": "Turanga1 Regrssion.ipynb",
   "provenance": [],
   "toc_visible": true
  },
  "kernelspec": {
   "display_name": "Python 3",
   "language": "python",
   "name": "python3"
  },
  "language_info": {
   "codemirror_mode": {
    "name": "ipython",
    "version": 3
   },
   "file_extension": ".py",
   "mimetype": "text/x-python",
   "name": "python",
   "nbconvert_exporter": "python",
   "pygments_lexer": "ipython3",
   "version": "3.7.3"
  }
 },
 "nbformat": 4,
 "nbformat_minor": 4
}
